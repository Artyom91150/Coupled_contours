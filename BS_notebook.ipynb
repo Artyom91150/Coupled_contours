{
 "cells": [
  {
   "cell_type": "code",
   "execution_count": null,
   "metadata": {},
   "outputs": [],
   "source": [
    "using SciMLBase\n",
    "using OrdinaryDiffEq\n",
    "using ForwardDiff\n",
    "import ForwardDiff: jacobian\n",
    "\n",
    "using StaticArrays\n",
    "using LinearAlgebra\n",
    "using Statistics\n",
    "\n",
    "using JLD2\n",
    "using Dates\n",
    "\n",
    "using PyPlot"
   ]
  },
  {
   "cell_type": "code",
   "execution_count": null,
   "metadata": {},
   "outputs": [],
   "source": [
    "abstract type ODEType end\n",
    "abstract type AbstractTask end"
   ]
  },
  {
   "cell_type": "markdown",
   "metadata": {},
   "source": [
    "---\n",
    "## Загрузка библиотек и модулей\n",
    "\n",
    "---"
   ]
  },
  {
   "cell_type": "code",
   "execution_count": null,
   "metadata": {},
   "outputs": [],
   "source": [
    "include(\"Utils\\\\Anon_Utils.jl\")\n",
    "include(\"Utils\\\\CallBack_Utils.jl\")\n",
    "include(\"Utils\\\\Computation_Utils.jl\")\n",
    "include(\"Tasks\\\\ODE_Solving_Task.jl\")\n",
    "include(\"ODEs\\\\BS_ODE.jl\")\n",
    "include(\"Utils\\\\Visualization_Utils.jl\")\n",
    "include(\"Utils\\\\Period_Utils.jl\")\n",
    "include(\"Utils\\\\Session_Utils.jl\")\n"
   ]
  },
  {
   "attachments": {},
   "cell_type": "markdown",
   "metadata": {},
   "source": [
    "---\n",
    "\n",
    "## Создание сессии для сохранения результатов\n",
    "\n",
    "---"
   ]
  },
  {
   "cell_type": "code",
   "execution_count": null,
   "metadata": {},
   "outputs": [],
   "source": [
    "#ses = Session(\"Some Session\", Result_Folder_Name = \"Test Results\")"
   ]
  },
  {
   "attachments": {},
   "cell_type": "markdown",
   "metadata": {},
   "source": [
    "---\n",
    "\n",
    "## Исходная система (3 ДУ)\n",
    "\n",
    "---"
   ]
  },
  {
   "cell_type": "code",
   "execution_count": null,
   "metadata": {},
   "outputs": [],
   "source": [
    "ODE_Parameters = Dict(\"K\" => 0.4,\n",
    "                         \"r\" => 0.1,\n",
    "                         \"a2\" => pi/2,\n",
    "                         \"a4\" => pi)\n",
    "\n",
    "Sngl = BS_ODE_Sngl(ODE_Parameters)\n",
    "\n",
    "time_span = 10000.0\n",
    "ic = [2.941592653589793, 0.2, 0.4]\n",
    "\n",
    "trans_time = 0.0\n",
    "alg = DP8()\n",
    "callback = \"x -> sin(x[1] - 0.25)\"\n",
    "kwargs = Dict(:dt => 1e-1, :abstol => 1e-13, :reltol => 1e-13, :maxiters => 1e10)\n",
    "\n",
    "\n",
    "ODESolve = ODESolve_Task(Sngl, time_span, ic; trans_time, alg, callback, kwargs)"
   ]
  },
  {
   "cell_type": "code",
   "execution_count": null,
   "metadata": {},
   "outputs": [],
   "source": [
    "sol = ODESolve()"
   ]
  },
  {
   "attachments": {},
   "cell_type": "markdown",
   "metadata": {},
   "source": [
    "### Time Series"
   ]
  },
  {
   "cell_type": "code",
   "execution_count": null,
   "metadata": {},
   "outputs": [],
   "source": [
    "projFunc = \"projCos\"\n",
    "varNames = [\"\\\\phi_1\", \"\\\\phi_2\", \"\\\\phi_3\"]\n",
    "title = \"Time Series\"\n",
    "plotKwargs = Dict(:linewidth => 3)\n",
    "\n",
    "TS_properties = Dict(\"projFunc\" => projFunc, \"varNames\" => varNames, \"title\" => title, \"kwargs\" => plotKwargs)\n",
    "plotTimeSeries(sol; plot_properties = TS_properties);"
   ]
  },
  {
   "attachments": {},
   "cell_type": "markdown",
   "metadata": {},
   "source": [
    "### Poincare"
   ]
  },
  {
   "cell_type": "code",
   "execution_count": null,
   "metadata": {},
   "outputs": [],
   "source": [
    "#savePath = \"test.png\"\n",
    "projFunc = \"projCos\"\n",
    "varNames = [\"\\\\phi_1\", \"\\\\phi_2\", \"\\\\phi_3\", \"\\\\psi_1\", \"\\\\psi_2\", \"\\\\psi_3\"]\n",
    "title = \"Poincare\"\n",
    "plotKwargs = Dict(:linewidth => 1)\n",
    "showEvents = true\n",
    "varPairs = [[[0, 1], [0, 2], [1, 2]]]\n",
    "\n",
    "Pcr_properties = Dict(\"projFunc\" => projFunc,\n",
    "                     \"varNames\" => varNames,\n",
    "                     \"title\" => title,\n",
    "                     \"showEvents\" => showEvents,\n",
    "                     \"varPairs\" => varPairs,\n",
    "                     \"kwargs\" => plotKwargs)\n",
    "plotPoincare(sol, plot_properties = Pcr_properties);"
   ]
  },
  {
   "attachments": {},
   "cell_type": "markdown",
   "metadata": {},
   "source": [
    "### Return time"
   ]
  },
  {
   "cell_type": "code",
   "execution_count": null,
   "metadata": {},
   "outputs": [],
   "source": [
    "#savePath = \"test.png\"\n",
    "normFunc = \"normDefault\"\n",
    "title = \"Return Time\"\n",
    "plotKwargs = Dict(:linewidth => 3)\n",
    "\n",
    "RT_properties = Dict(\"normFunc\" => normFunc, \"title\" => title, \"kwargs\" => plotKwargs)\n",
    "plotReturnTime(sol, plot_properties = RT_properties);"
   ]
  },
  {
   "attachments": {},
   "cell_type": "markdown",
   "metadata": {},
   "source": [
    "---\n",
    "\n",
    "## Объединенная система (6 ДУ)\n",
    "\n",
    "---"
   ]
  },
  {
   "cell_type": "code",
   "execution_count": null,
   "metadata": {},
   "outputs": [],
   "source": [
    "ODE_Parameters = Dict(\"K\" => 1.5789473684210527,\n",
    "                         \"r\" => 0.39473684210526316,\n",
    "                         \"a2\" => pi/2,\n",
    "                         \"a4\" => 3.24685581148453,\n",
    "                         \"Eps\" => 1e-1)\n",
    "Couple_function = \"x -> 1 - cos(x)\"\n",
    "#Couple_function = \"x -> 1/(exp(10*cos(x)))\"\n",
    "\n",
    "Duo = BS_ODE_Duo(ODE_Parameters, Couple_function)\n",
    "\n",
    "time_span = 50.0\n",
    "ic = [2.941592653589793, 0.2, 0.4, 2.941592653589793, 0.4, 0.2]\n",
    "#ic = [2.941592653589793, 1.2, 1.4, 2.941592653589793, 0.4, 0.2]\n",
    "#ic = [3.278216370848396e-14,\n",
    "#        4.237894430800192e-8,\n",
    "#        3.141592780256459,\n",
    "#        3.278216370848396e-14,\n",
    "#        3.141592780256459,\n",
    "#        4.237894430800192e-8]\n",
    "\n",
    "trans_time = 14.0\n",
    "alg = DP8()\n",
    "callback = \"x -> cos(x[1])\"\n",
    "kwargs = Dict(:dtmax => 1e-1, :abstol => 1e-13, :reltol => 1e-13, :maxiters => 1e10)\n",
    "\n",
    "\n",
    "ODESolve = ODESolve_Task(Duo, time_span, ic; trans_time, alg, callback, kwargs)"
   ]
  },
  {
   "cell_type": "code",
   "execution_count": null,
   "metadata": {},
   "outputs": [],
   "source": [
    "sol = ODESolve()"
   ]
  },
  {
   "attachments": {},
   "cell_type": "markdown",
   "metadata": {},
   "source": [
    "### Time Series"
   ]
  },
  {
   "cell_type": "code",
   "execution_count": null,
   "metadata": {},
   "outputs": [],
   "source": [
    "#savePath = \"test.png\"\n",
    "projFunc = \"projCos\"\n",
    "varNames = [\"\\\\phi_1\", \"\\\\phi_2\", \"\\\\phi_3\", \"\\\\psi_1\", \"\\\\psi_2\", \"\\\\psi_3\"]\n",
    "title = \"Time Series\"\n",
    "plotKwargs = Dict(:linewidth => 3)\n",
    "\n",
    "TS_properties = Dict(\"projFunc\" => projFunc, \"varNames\" => varNames, \"title\" => title, \"kwargs\" => plotKwargs)"
   ]
  },
  {
   "cell_type": "code",
   "execution_count": null,
   "metadata": {},
   "outputs": [],
   "source": [
    "fig = plotTimeSeries(sol; plot_properties = TS_properties);"
   ]
  },
  {
   "attachments": {},
   "cell_type": "markdown",
   "metadata": {},
   "source": [
    "### Poincare"
   ]
  },
  {
   "cell_type": "code",
   "execution_count": null,
   "metadata": {},
   "outputs": [],
   "source": [
    "#savePath = \"test.png\"\n",
    "projFunc = \"projCos\"\n",
    "varNames = [\"\\\\phi_1\", \"\\\\phi_2\", \"\\\\phi_3\", \"\\\\psi_1\", \"\\\\psi_2\", \"\\\\psi_3\"]\n",
    "title = \"Poincare\"\n",
    "plotKwargs = Dict(:linewidth => 1)\n",
    "showEvents = true\n",
    "varPairs = [[[0, 1], [0, 2], [1, 2]],\n",
    "            [[3, 4], [3, 5], [4, 5]],\n",
    "            [[0, 3], [0, 4], [0, 5]],\n",
    "            [[1, 3], [1, 4], [1, 5]],\n",
    "            [[2, 3], [2, 4], [2, 5]]]\n",
    "\n",
    "Pcr_properties = Dict(\"projFunc\" => projFunc,\n",
    "                     \"varNames\" => varNames,\n",
    "                     \"title\" => title,\n",
    "                     \"showEvents\" => showEvents,\n",
    "                     \"varPairs\" => varPairs,\n",
    "                     \"kwargs\" => plotKwargs)"
   ]
  },
  {
   "cell_type": "code",
   "execution_count": null,
   "metadata": {},
   "outputs": [],
   "source": [
    "fig = plotPoincare(sol, plot_properties = Pcr_properties);"
   ]
  },
  {
   "attachments": {},
   "cell_type": "markdown",
   "metadata": {},
   "source": [
    "### Return time"
   ]
  },
  {
   "cell_type": "code",
   "execution_count": null,
   "metadata": {},
   "outputs": [],
   "source": [
    "#savePath = \"test.png\"\n",
    "normFunc = \"normDefault\"\n",
    "title = \"Return Time\"\n",
    "plotKwargs = Dict(:linewidth => 3)\n",
    "\n",
    "RT_properties = Dict(\"normFunc\" => normFunc, \"title\" => title, \"kwargs\" => plotKwargs)"
   ]
  },
  {
   "cell_type": "code",
   "execution_count": null,
   "metadata": {},
   "outputs": [],
   "source": [
    "fig = plotReturnTime(sol, plot_properties = RT_properties);"
   ]
  },
  {
   "attachments": {},
   "cell_type": "markdown",
   "metadata": {},
   "source": [
    "### Activation Diagram"
   ]
  },
  {
   "cell_type": "code",
   "execution_count": null,
   "metadata": {},
   "outputs": [],
   "source": [
    "varNames = [\"\\\\phi_1\", \"\\\\phi_2\", \"\\\\phi_3\", \"\\\\psi_1\", \"\\\\psi_2\", \"\\\\psi_3\"]\n",
    "title = \"Activation Diagram\"\n",
    "\n",
    "AD_properties = Dict(\"varNames\" => varNames, \"title\" => title)"
   ]
  },
  {
   "cell_type": "code",
   "execution_count": null,
   "metadata": {},
   "outputs": [],
   "source": [
    "fig = plotActivationDiagram(sol, plot_properties = AD_properties);"
   ]
  },
  {
   "attachments": {},
   "cell_type": "markdown",
   "metadata": {},
   "source": [
    "### Period"
   ]
  },
  {
   "cell_type": "code",
   "execution_count": null,
   "metadata": {},
   "outputs": [],
   "source": [
    "plotNorms(sol)"
   ]
  },
  {
   "cell_type": "code",
   "execution_count": null,
   "metadata": {},
   "outputs": [],
   "source": [
    "period = getPeriodTime(sol)"
   ]
  },
  {
   "attachments": {},
   "cell_type": "markdown",
   "metadata": {},
   "source": [
    "### Syncs"
   ]
  },
  {
   "cell_type": "code",
   "execution_count": null,
   "metadata": {},
   "outputs": [],
   "source": [
    "syncs = BS_Syncs(sol)"
   ]
  },
  {
   "attachments": {},
   "cell_type": "markdown",
   "metadata": {},
   "source": [
    "---\n",
    "\n",
    "## Редуцированная система (3 ДУ)\n",
    "\n",
    "---"
   ]
  },
  {
   "cell_type": "code",
   "execution_count": null,
   "metadata": {},
   "outputs": [],
   "source": [
    "Red = BS_ODE_Red(ODE_Parameters, Couple_function, syncs)\n",
    "\n",
    "time_span = period\n",
    "ic = [y[1] for y in sol.y[1:3]]\n",
    "\n",
    "RedODESolve = ODESolve_Task(Red, time_span, ic; alg, kwargs)"
   ]
  },
  {
   "cell_type": "code",
   "execution_count": null,
   "metadata": {},
   "outputs": [],
   "source": [
    "red_sol = RedODESolve()"
   ]
  },
  {
   "cell_type": "code",
   "execution_count": null,
   "metadata": {},
   "outputs": [],
   "source": [
    "fig = plotTimeSeries(red_sol; plot_properties = TS_properties);"
   ]
  },
  {
   "attachments": {},
   "cell_type": "markdown",
   "metadata": {},
   "source": [
    "---\n",
    "\n",
    "## Редуцированная система + система в вариациях (3 + 6х6 ДУ)\n",
    "\n",
    "---"
   ]
  },
  {
   "cell_type": "code",
   "execution_count": null,
   "metadata": {},
   "outputs": [],
   "source": [
    "custom_Jacobian = z -> jacobian((y, x) -> Duo(y, x, [], 0), zeros(6), [z; Red.Syncs(z)])"
   ]
  },
  {
   "cell_type": "code",
   "execution_count": null,
   "metadata": {},
   "outputs": [],
   "source": [
    "Red_tg = TangentODE(Red, custom_Jacobian, 3, 6)\n",
    "\n",
    "time_span = period\n",
    "u0 = [y[1] for y in sol.y[1:3]]\n",
    "Q0 = diagm(ones(6))\n",
    "\n",
    "\n",
    "ODESolve = TanODESolve_Task(Red_tg, time_span, u0, Q0; alg, kwargs)"
   ]
  },
  {
   "cell_type": "code",
   "execution_count": null,
   "metadata": {},
   "outputs": [],
   "source": [
    "tansol = ODESolve()"
   ]
  },
  {
   "cell_type": "code",
   "execution_count": null,
   "metadata": {},
   "outputs": [],
   "source": [
    "fig = plotTimeSeries(tansol);"
   ]
  },
  {
   "cell_type": "code",
   "execution_count": null,
   "metadata": {},
   "outputs": [],
   "source": [
    "mono = reshape([t[end] for t in tansol.y[4:39]], (6, 6))"
   ]
  },
  {
   "cell_type": "code",
   "execution_count": null,
   "metadata": {},
   "outputs": [],
   "source": [
    "eigen(mono)"
   ]
  }
 ],
 "metadata": {
  "kernelspec": {
   "display_name": "Julia 1.8.5",
   "language": "julia",
   "name": "julia-1.8"
  },
  "language_info": {
   "file_extension": ".jl",
   "mimetype": "application/julia",
   "name": "julia",
   "version": "1.8.5"
  }
 },
 "nbformat": 4,
 "nbformat_minor": 4
}
