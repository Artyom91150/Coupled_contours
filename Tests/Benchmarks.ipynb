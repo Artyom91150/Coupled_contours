{
 "cells": [
  {
   "cell_type": "code",
   "execution_count": 1,
   "metadata": {},
   "outputs": [],
   "source": [
    "#using PyCall\n",
    "#np = pyimport(\"numpy\")\n",
    "#using DifferentialEquations\n",
    "#using DynamicalSystems\n",
    "#using PyPlot\n",
    "#using DiffEqCallbacks\n",
    "#using ForwardDiff\n",
    "#using Latexify, LaTeXStrings, SymEngine\n",
    "#using LinearAlgebra\n",
    "#using JLD"
   ]
  },
  {
   "cell_type": "code",
   "execution_count": 2,
   "metadata": {},
   "outputs": [
    {
     "data": {
      "text/plain": [
       "Main.BS_Uni_Sys"
      ]
     },
     "execution_count": 2,
     "metadata": {},
     "output_type": "execute_result"
    }
   ],
   "source": [
    "#include(\"Utils\\\\Computation_Utils.jl\")\n",
    "#include(\"Utils\\\\CallBack_Utils.jl\")\n",
    "#include(\"Utils\\\\YAML_Utils.jl\")\n",
    "#include(\"Utils\\\\Graphics_Utils.jl\")\n",
    "include(\"ODEs\\\\BS_Uni_System.jl\")\n",
    "#include(\"Utils\\\\TangentComputation_Utils.jl\")"
   ]
  },
  {
   "cell_type": "code",
   "execution_count": 23,
   "metadata": {},
   "outputs": [
    {
     "data": {
      "text/plain": [
       "makeSync (generic function with 1 method)"
      ]
     },
     "execution_count": 23,
     "metadata": {},
     "output_type": "execute_result"
    }
   ],
   "source": [
    "function Funcs_Compare(ReducedSys, DefaultSys, SyncWith)\n",
    "    # Разница между первыми тремя элементами (phi) полной 6D системы и редуцированной 3D системой при условии предполагаемой синхронизации phi_i ~ psi_j + delay_j\n",
    "    PhiDiffMax = 0\n",
    "\n",
    "    # Разница между первыми тремя элементами (phi) и последними тремя элементами (psi) полной 6D системы при условии предполагаемой синхронизации phi_i ~ psi_j + delay_j\n",
    "    PsiDiffMax = 0\n",
    "\n",
    "    for i = 1 : 1000\n",
    "\n",
    "        ReducedIC = rand(Float64, 3)\n",
    "        DefaultIC = cat(ReducedIC, \n",
    "                        ReducedIC[SyncWith[\"phi1\"][\"psi\"]] + SyncWith[\"phi1\"][\"delay\"],\n",
    "                        ReducedIC[SyncWith[\"phi2\"][\"psi\"]] + SyncWith[\"phi2\"][\"delay\"],\n",
    "                        ReducedIC[SyncWith[\"phi3\"][\"psi\"]] + SyncWith[\"phi3\"][\"delay\"], dims = 1)\n",
    "\n",
    "        RS = ReducedSys(ReducedIC)\n",
    "        DS = DefaultSys(DefaultIC)\n",
    "\n",
    "        Phidiff = maximum(map(abs, RS - DS[1 : 3]))\n",
    "        if Phidiff > PhiDiffMax\n",
    "            PhiDiffMax = Phidiff\n",
    "        end\n",
    "\n",
    "        Psidiff = maximum(map(abs, DS[1 : 3] - DS[3 .+ [SyncWith[\"phi1\"][\"psi\"], SyncWith[\"phi2\"][\"psi\"], SyncWith[\"phi3\"][\"psi\"]]]))\n",
    "        if Psidiff > PsiDiffMax\n",
    "            PsiDiffMax = Psidiff\n",
    "        end\n",
    "    end\n",
    "    return (PhiDiffMax, PsiDiffMax)\n",
    "end\n",
    "\n",
    "function makeSync(psi; delay = [0.0, 0.0, 0.0])\n",
    "    SyncWith = Dict(\"phi1\" => Dict(\"psi\" => psi[1], \"delay\" => delay[1]), \n",
    "                    \"phi2\" => Dict(\"psi\" => psi[2], \"delay\" => delay[2]),\n",
    "                    \"phi3\" => Dict(\"psi\" => psi[3], \"delay\" => delay[3]))\n",
    "    println(\"Sync: phi_1 -> psi_\", string(SyncWith[\"phi1\"][\"psi\"]), \" + \",  string(SyncWith[\"phi1\"][\"delay\"]), \"    \", \n",
    "              \"phi_2 -> psi_\", string(SyncWith[\"phi2\"][\"psi\"]), \" + \",  string(SyncWith[\"phi2\"][\"delay\"]), \"    \",\n",
    "              \"phi_3 -> psi_\", string(SyncWith[\"phi3\"][\"psi\"]), \" + \",  string(SyncWith[\"phi3\"][\"delay\"]))\n",
    "    return SyncWith\n",
    "end"
   ]
  },
  {
   "cell_type": "code",
   "execution_count": 4,
   "metadata": {},
   "outputs": [
    {
     "data": {
      "text/plain": [
       "\"-cos(x)\""
      ]
     },
     "execution_count": 4,
     "metadata": {},
     "output_type": "execute_result"
    }
   ],
   "source": [
    "CoupleFuncNum = 2\n",
    "\n",
    "if CoupleFuncNum == 1\n",
    "    \n",
    "    function MyCoupleFunc(x)\n",
    "        return 1/(1 + exp(10*(cos(x))))\n",
    "    end\n",
    "    CoupleFuncName = \"1_(1 + exp(10(cos(x))))\"\n",
    "     \n",
    "elseif CoupleFuncNum == 2\n",
    "    \n",
    "    function MyCoupleFunc(x)\n",
    "        return -cos(x)\n",
    "    end\n",
    "\n",
    "    CoupleFuncName = \"-cos(x)\"\n",
    "    \n",
    "elseif CoupleFuncNum == 3\n",
    "    \n",
    "    function MyCoupleFunc(x)\n",
    "        return 1-cos(x)\n",
    "    end\n",
    "\n",
    "    CoupleFuncName = \"1-cos(x)\"\n",
    "    \n",
    "end"
   ]
  },
  {
   "cell_type": "code",
   "execution_count": 5,
   "metadata": {},
   "outputs": [
    {
     "data": {
      "text/plain": [
       "#2 (generic function with 1 method)"
      ]
     },
     "execution_count": 5,
     "metadata": {},
     "output_type": "execute_result"
    }
   ],
   "source": [
    "a2 = pi/2\n",
    "a4 = 3.24685581148453\n",
    "K = 1.5789473684210527\n",
    "r = K/4\n",
    "\n",
    "Eps = 1e-7\n",
    "\n",
    "config = Dict(\"a2\" => a2, \"a4\" => a4, \"K\" => K, \"r\" => r, \"Eps\" => Eps)\n",
    "DefaultSys = x -> BS_Uni_Sys.Get_Uni_Sys(config, MyCoupleFunc)(zeros(6), x, [], 0)"
   ]
  },
  {
   "cell_type": "markdown",
   "metadata": {},
   "source": [
    "---"
   ]
  },
  {
   "cell_type": "code",
   "execution_count": 15,
   "metadata": {},
   "outputs": [
    {
     "data": {
      "text/plain": [
       "proofSyncs (generic function with 2 methods)"
      ]
     },
     "execution_count": 15,
     "metadata": {},
     "output_type": "execute_result"
    }
   ],
   "source": [
    "function proofSyncs(Syncs, Delays)\n",
    "    for sync in Syncs\n",
    "        SyncWith = makeSync(sync)\n",
    "        ReducedSys = x -> BS_Uni_Sys.Get_Reduced_Sys(config, MyCoupleFunc, SyncWith)(zeros(3), x, [], 0);\n",
    "\n",
    "        diff = Funcs_Compare(ReducedSys, DefaultSys, SyncWith)\n",
    "        println(\"max(ReducedSys[1 : 3] - DefaultSys[1 : 3]) = \", string(diff[1]))\n",
    "        println(\"max(DefaultSys[1 : 3] - DefaultSys[4 : 6]) = \", string(diff[2]))\n",
    "        println(\"###\")\n",
    "    end\n",
    "end"
   ]
  },
  {
   "cell_type": "code",
   "execution_count": 16,
   "metadata": {},
   "outputs": [
    {
     "data": {
      "text/plain": [
       "6-element Vector{Vector{Irrational{:π}}}:\n",
       " [π, π, π]\n",
       " [π, π, π]\n",
       " [π, π, π]\n",
       " [π, π, π]\n",
       " [π, π, π]\n",
       " [π, π, π]"
      ]
     },
     "execution_count": 16,
     "metadata": {},
     "output_type": "execute_result"
    }
   ],
   "source": [
    "Syncs = [[1, 2, 3], [3, 1, 2], [2, 3, 1], [1, 3, 2], [3, 2, 1], [2, 1, 3]]\n",
    "Delays = [[0.0, 0.0, 0.0], [0.0, 0.0, 0.0], [0.0, 0.0, 0.0], [0.0, 0.0, 0.0], [0.0, 0.0, 0.0], [0.0, 0.0, 0.0]]\n",
    "DelaysPi = [[pi for p in 1:3] for k in 1 : 6]"
   ]
  },
  {
   "cell_type": "code",
   "execution_count": 17,
   "metadata": {},
   "outputs": [
    {
     "name": "stdout",
     "output_type": "stream",
     "text": [
      "Sync: phi_1 -> psi_1 + 0.0    phi_2 -> psi_2 + 0.0    phi_3 -> psi_3 + 0.0\n",
      "max(ReducedSys[1 : 3] - DefaultSys[1 : 3]) = 0\n",
      "max(DefaultSys[1 : 3] - DefaultSys[4 : 6]) = 1.1732795294752951\n",
      "###\n",
      "Sync: phi_1 -> psi_3 + 0.0    phi_2 -> psi_1 + 0.0    phi_3 -> psi_2 + 0.0\n",
      "max(ReducedSys[1 : 3] - DefaultSys[1 : 3]) = 0\n",
      "max(DefaultSys[1 : 3] - DefaultSys[4 : 6]) = 0.7716575469841842\n",
      "###\n",
      "Sync: phi_1 -> psi_2 + 0.0    phi_2 -> psi_3 + 0.0    phi_3 -> psi_1 + 0.0\n",
      "max(ReducedSys[1 : 3] - DefaultSys[1 : 3]) = 0\n",
      "max(DefaultSys[1 : 3] - DefaultSys[4 : 6]) = 1.316503943389054\n",
      "###\n",
      "Sync: phi_1 -> psi_1 + 0.0    phi_2 -> psi_3 + 0.0    phi_3 -> psi_2 + 0.0\n",
      "max(ReducedSys[1 : 3] - DefaultSys[1 : 3]) = 0\n",
      "max(DefaultSys[1 : 3] - DefaultSys[4 : 6]) = 4.440892098500626e-16\n",
      "###\n",
      "Sync: phi_1 -> psi_3 + 0.0    phi_2 -> psi_2 + 0.0    phi_3 -> psi_1 + 0.0\n",
      "max(ReducedSys[1 : 3] - DefaultSys[1 : 3]) = 0\n",
      "max(DefaultSys[1 : 3] - DefaultSys[4 : 6]) = 4.440892098500626e-16\n",
      "###\n",
      "Sync: phi_1 -> psi_2 + 0.0    phi_2 -> psi_1 + 0.0    phi_3 -> psi_3 + 0.0\n",
      "max(ReducedSys[1 : 3] - DefaultSys[1 : 3]) = 0\n",
      "max(DefaultSys[1 : 3] - DefaultSys[4 : 6]) = 4.440892098500626e-16\n",
      "###\n"
     ]
    }
   ],
   "source": [
    "proofSyncs(Syncs, Delays)"
   ]
  },
  {
   "cell_type": "code",
   "execution_count": 18,
   "metadata": {},
   "outputs": [
    {
     "name": "stdout",
     "output_type": "stream",
     "text": [
      "Sync: phi_1 -> psi_1 + 0.0    phi_2 -> psi_2 + 0.0    phi_3 -> psi_3 + 0.0\n",
      "max(ReducedSys[1 : 3] - DefaultSys[1 : 3]) = 0\n",
      "max(DefaultSys[1 : 3] - DefaultSys[4 : 6]) = 1.1740444836271848\n",
      "###\n",
      "Sync: phi_1 -> psi_3 + 0.0    phi_2 -> psi_1 + 0.0    phi_3 -> psi_2 + 0.0\n",
      "max(ReducedSys[1 : 3] - DefaultSys[1 : 3]) = 0\n",
      "max(DefaultSys[1 : 3] - DefaultSys[4 : 6]) = 0.7721761944995027\n",
      "###\n",
      "Sync: phi_1 -> psi_2 + 0.0    phi_2 -> psi_3 + 0.0    phi_3 -> psi_1 + 0.0\n",
      "max(ReducedSys[1 : 3] - DefaultSys[1 : 3]) = 0\n",
      "max(DefaultSys[1 : 3] - DefaultSys[4 : 6]) = 1.3128582740374408\n",
      "###\n",
      "Sync: phi_1 -> psi_1 + 0.0    phi_2 -> psi_3 + 0.0    phi_3 -> psi_2 + 0.0\n",
      "max(ReducedSys[1 : 3] - DefaultSys[1 : 3]) = 0\n",
      "max(DefaultSys[1 : 3] - DefaultSys[4 : 6]) = 4.440892098500626e-16\n",
      "###\n",
      "Sync: phi_1 -> psi_3 + 0.0    phi_2 -> psi_2 + 0.0    phi_3 -> psi_1 + 0.0\n",
      "max(ReducedSys[1 : 3] - DefaultSys[1 : 3]) = 0\n",
      "max(DefaultSys[1 : 3] - DefaultSys[4 : 6]) = 4.440892098500626e-16\n",
      "###\n",
      "Sync: phi_1 -> psi_2 + 0.0    phi_2 -> psi_1 + 0.0    phi_3 -> psi_3 + 0.0\n",
      "max(ReducedSys[1 : 3] - DefaultSys[1 : 3]) = 0\n",
      "max(DefaultSys[1 : 3] - DefaultSys[4 : 6]) = 4.440892098500626e-16\n",
      "###\n"
     ]
    }
   ],
   "source": [
    "proofSyncs(Syncs, DelaysPi)"
   ]
  },
  {
   "cell_type": "code",
   "execution_count": 19,
   "metadata": {},
   "outputs": [
    {
     "data": {
      "text/plain": [
       "#22 (generic function with 1 method)"
      ]
     },
     "execution_count": 19,
     "metadata": {},
     "output_type": "execute_result"
    }
   ],
   "source": [
    "FullTanSys = x -> BS_Uni_Sys.Get_Tan_Full_Sys(config, MyCoupleFunc)(zeros(6), ones(6), x)"
   ]
  },
  {
   "cell_type": "code",
   "execution_count": 25,
   "metadata": {},
   "outputs": [
    {
     "data": {
      "text/plain": [
       "Jacs_Compare (generic function with 1 method)"
      ]
     },
     "execution_count": 25,
     "metadata": {},
     "output_type": "execute_result"
    }
   ],
   "source": [
    "function Jacs_Compare(ReducedSys, DefaultSys, SyncWith)\n",
    "    WDiffMax = 0\n",
    "\n",
    "    for i = 1 : 1000\n",
    "\n",
    "        ReducedIC = rand(Float64, 3)\n",
    "        DefaultIC = cat(ReducedIC, \n",
    "                        ReducedIC[SyncWith[\"phi1\"][\"psi\"]] + SyncWith[\"phi1\"][\"delay\"],\n",
    "                        ReducedIC[SyncWith[\"phi2\"][\"psi\"]] + SyncWith[\"phi2\"][\"delay\"],\n",
    "                        ReducedIC[SyncWith[\"phi3\"][\"psi\"]] + SyncWith[\"phi3\"][\"delay\"], dims = 1)\n",
    "\n",
    "        RS = ReducedSys(ReducedIC)\n",
    "        DS = DefaultSys(DefaultIC)\n",
    "\n",
    "        Phidiff = maximum(map(abs, RS - DS))\n",
    "        if Phidiff > WDiffMax\n",
    "            WDiffMax = Phidiff\n",
    "        end\n",
    "    end\n",
    "    return WDiffMax\n",
    "end"
   ]
  },
  {
   "cell_type": "code",
   "execution_count": 28,
   "metadata": {},
   "outputs": [
    {
     "name": "stdout",
     "output_type": "stream",
     "text": [
      "Sync: phi_1 -> psi_1 + 0.0    phi_2 -> psi_2 + 0.0    phi_3 -> psi_3 + 0.0\n",
      "max(ReducedSys[1 : 3] - DefaultSys[1 : 3]) = 0\n",
      "###\n",
      "Sync: phi_1 -> psi_3 + 0.0    phi_2 -> psi_1 + 0.0    phi_3 -> psi_2 + 0.0\n",
      "max(ReducedSys[1 : 3] - DefaultSys[1 : 3]) = 0\n",
      "###\n",
      "Sync: phi_1 -> psi_2 + 0.0    phi_2 -> psi_3 + 0.0    phi_3 -> psi_1 + 0.0\n",
      "max(ReducedSys[1 : 3] - DefaultSys[1 : 3]) = 0\n",
      "###\n",
      "Sync: phi_1 -> psi_1 + 0.0    phi_2 -> psi_3 + 0.0    phi_3 -> psi_2 + 0.0\n",
      "max(ReducedSys[1 : 3] - DefaultSys[1 : 3]) = 0\n",
      "###\n",
      "Sync: phi_1 -> psi_3 + 0.0    phi_2 -> psi_2 + 0.0    phi_3 -> psi_1 + 0.0\n",
      "max(ReducedSys[1 : 3] - DefaultSys[1 : 3]) = 0\n",
      "###\n",
      "Sync: phi_1 -> psi_2 + 0.0    phi_2 -> psi_1 + 0.0    phi_3 -> psi_3 + 0.0\n",
      "max(ReducedSys[1 : 3] - DefaultSys[1 : 3]) = 0\n",
      "###\n"
     ]
    }
   ],
   "source": [
    "    for sync in Syncs\n",
    "        SyncWith = makeSync(sync)\n",
    "        TanSys = x -> BS_Uni_Sys.Get_Tan_Red_Sys(config, MyCoupleFunc, SyncWith)(zeros(6), ones(6), x);\n",
    "\n",
    "        diff = Jacs_Compare(TanSys, FullTanSys, SyncWith)\n",
    "        println(\"max(ReducedSys[1 : 3] - DefaultSys[1 : 3]) = \", string(diff))\n",
    "        println(\"###\")\n",
    "    end"
   ]
  },
  {
   "cell_type": "code",
   "execution_count": null,
   "metadata": {},
   "outputs": [],
   "source": []
  },
  {
   "cell_type": "markdown",
   "metadata": {},
   "source": [
    "# Library importing benchmark"
   ]
  },
  {
   "cell_type": "code",
   "execution_count": 1,
   "metadata": {},
   "outputs": [
    {
     "name": "stdout",
     "output_type": "stream",
     "text": [
      "  0.643947 seconds (742.23 k allocations: 41.900 MiB, 2.29% gc time, 71.95% compilation time)\n"
     ]
    }
   ],
   "source": [
    "@time using PyCall"
   ]
  },
  {
   "cell_type": "code",
   "execution_count": 2,
   "metadata": {},
   "outputs": [
    {
     "name": "stdout",
     "output_type": "stream",
     "text": [
      " 17.847246 seconds (41.41 M allocations: 3.005 GiB, 6.43% gc time, 16.77% compilation time: 86% of which was recompilation)\n"
     ]
    }
   ],
   "source": [
    "@time import DifferentialEquations: SciMLBase.ODEProblem"
   ]
  },
  {
   "cell_type": "code",
   "execution_count": 2,
   "metadata": {},
   "outputs": [
    {
     "name": "stdout",
     "output_type": "stream",
     "text": [
      "  0.318781 seconds (720.91 k allocations: 35.768 MiB, 5.73% gc time, 99.72% compilation time: 100% of which was recompilation)\n"
     ]
    }
   ],
   "source": [
    "@time using SciMLBase"
   ]
  },
  {
   "cell_type": "code",
   "execution_count": 1,
   "metadata": {},
   "outputs": [
    {
     "name": "stdout",
     "output_type": "stream",
     "text": [
      "  6.942304 seconds (14.33 M allocations: 1.069 GiB, 6.70% gc time, 14.14% compilation time: 60% of which was recompilation)\n"
     ]
    }
   ],
   "source": [
    "@time using DiffEqCallbacks"
   ]
  },
  {
   "cell_type": "code",
   "execution_count": 3,
   "metadata": {},
   "outputs": [
    {
     "name": "stdout",
     "output_type": "stream",
     "text": [
      " 16.451421 seconds (42.19 M allocations: 2.582 GiB, 2.91% gc time, 14.42% compilation time: 80% of which was recompilation)\n"
     ]
    }
   ],
   "source": [
    "@time using DynamicalSystems"
   ]
  },
  {
   "cell_type": "code",
   "execution_count": 2,
   "metadata": {},
   "outputs": [
    {
     "name": "stdout",
     "output_type": "stream",
     "text": [
      "  3.887290 seconds (7.36 M allocations: 381.650 MiB, 3.19% gc time, 73.34% compilation time: 62% of which was recompilation)\n"
     ]
    }
   ],
   "source": [
    "@time using PyPlot"
   ]
  },
  {
   "cell_type": "code",
   "execution_count": 5,
   "metadata": {},
   "outputs": [
    {
     "name": "stdout",
     "output_type": "stream",
     "text": [
      "  0.000768 seconds (279 allocations: 18.102 KiB)\n"
     ]
    }
   ],
   "source": [
    "@time using DiffEqCallbacks"
   ]
  },
  {
   "cell_type": "code",
   "execution_count": 6,
   "metadata": {},
   "outputs": [
    {
     "name": "stdout",
     "output_type": "stream",
     "text": [
      "  0.000807 seconds (279 allocations: 18.102 KiB)\n"
     ]
    }
   ],
   "source": [
    "@time using ForwardDiff"
   ]
  },
  {
   "cell_type": "code",
   "execution_count": 7,
   "metadata": {},
   "outputs": [
    {
     "name": "stdout",
     "output_type": "stream",
     "text": [
      "  0.364160 seconds (609.21 k allocations: 47.282 MiB, 59.16% compilation time: 74% of which was recompilation)\n"
     ]
    }
   ],
   "source": [
    "@time using Latexify, LaTeXStrings, SymEngine"
   ]
  },
  {
   "cell_type": "code",
   "execution_count": 8,
   "metadata": {},
   "outputs": [
    {
     "name": "stdout",
     "output_type": "stream",
     "text": [
      "  0.001835 seconds (654 allocations: 48.570 KiB)\n"
     ]
    }
   ],
   "source": [
    "@time using LinearAlgebra"
   ]
  },
  {
   "cell_type": "code",
   "execution_count": 3,
   "metadata": {},
   "outputs": [],
   "source": [
    "using PackageCompiler"
   ]
  },
  {
   "cell_type": "code",
   "execution_count": 8,
   "metadata": {},
   "outputs": [
    {
     "name": "stderr",
     "output_type": "stream",
     "text": [
      "- PackageCompiler: compiling incremental system image\n",
      "\u001b[32m\u001b[1m Downloading\u001b[22m\u001b[39m artifact: mingw-w64\n"
     ]
    }
   ],
   "source": [
    "create_sysimage([\"PyPlot\"], sysimage_path=\"sys_plots.so\")"
   ]
  },
  {
   "cell_type": "code",
   "execution_count": null,
   "metadata": {},
   "outputs": [],
   "source": []
  }
 ],
 "metadata": {
  "kernelspec": {
   "display_name": "Julia 1.8.2",
   "language": "julia",
   "name": "julia-1.8"
  },
  "language_info": {
   "file_extension": ".jl",
   "mimetype": "application/julia",
   "name": "julia",
   "version": "1.8.2"
  },
  "vscode": {
   "interpreter": {
    "hash": "8ce802015738f7fad9eea9832a506898a03adca8eb19ee4aa72467d8e6bb710a"
   }
  }
 },
 "nbformat": 4,
 "nbformat_minor": 4
}
