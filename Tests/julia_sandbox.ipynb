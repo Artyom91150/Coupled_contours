{
 "cells": [
  {
   "cell_type": "code",
   "execution_count": 22,
   "metadata": {},
   "outputs": [
    {
     "data": {
      "text/plain": [
       "Dict{String, Any} with 4 entries:\n",
       "  \"c\" => 1.0e-10\n",
       "  \"b\" => \"123\"\n",
       "  \"a\" => 123\n",
       "  \"d\" => \"1e-10\""
      ]
     },
     "execution_count": 22,
     "metadata": {},
     "output_type": "execute_result"
    }
   ],
   "source": [
    "a = Dict(\"a\" => 123, \"b\" => \"123\", \"c\" => 1e-10, \"d\" => \"1e-10\")"
   ]
  },
  {
   "cell_type": "code",
   "execution_count": 23,
   "metadata": {},
   "outputs": [
    {
     "data": {
      "text/plain": [
       "1.5707963267948966"
      ]
     },
     "execution_count": 23,
     "metadata": {},
     "output_type": "execute_result"
    }
   ],
   "source": [
    "smth = Meta.eval(Meta.parse(\"pi /2 \"))"
   ]
  },
  {
   "cell_type": "markdown",
   "metadata": {},
   "source": [
    "---"
   ]
  },
  {
   "cell_type": "markdown",
   "metadata": {},
   "source": [
    "## Загрузка необходимого файла и вызов функции по соответствующему запросу конфигурационного файла"
   ]
  },
  {
   "cell_type": "code",
   "execution_count": 24,
   "metadata": {},
   "outputs": [
    {
     "data": {
      "text/plain": [
       "\"func2\""
      ]
     },
     "execution_count": 24,
     "metadata": {},
     "output_type": "execute_result"
    }
   ],
   "source": [
    "function_file_path = \"module_with_funcs.jl\"\n",
    "function_name = \"func2\""
   ]
  },
  {
   "cell_type": "code",
   "execution_count": 25,
   "metadata": {},
   "outputs": [
    {
     "ename": "LoadError",
     "evalue": "SystemError: opening file \"c:\\\\Users\\\\artyo\\\\YandexDisk\\\\Other\\\\Julia\\\\BS_module\\\\Tests\\\\module_with_funcs.jl\": No such file or directory",
     "output_type": "error",
     "traceback": [
      "SystemError: opening file \"c:\\\\Users\\\\artyo\\\\YandexDisk\\\\Other\\\\Julia\\\\BS_module\\\\Tests\\\\module_with_funcs.jl\": No such file or directory",
      "",
      "Stacktrace:",
      "  [1] systemerror(p::String, errno::Int32; extrainfo::Nothing)",
      "    @ Base .\\error.jl:176",
      "  [2] #systemerror#80",
      "    @ .\\error.jl:175 [inlined]",
      "  [3] systemerror",
      "    @ .\\error.jl:175 [inlined]",
      "  [4] open(fname::String; lock::Bool, read::Nothing, write::Nothing, create::Nothing, truncate::Nothing, append::Nothing)",
      "    @ Base .\\iostream.jl:293",
      "  [5] open",
      "    @ .\\iostream.jl:275 [inlined]",
      "  [6] open(f::Base.var\"#387#388\"{String}, args::String; kwargs::Base.Pairs{Symbol, Union{}, Tuple{}, NamedTuple{(), Tuple{}}})",
      "    @ Base .\\io.jl:382",
      "  [7] open",
      "    @ .\\io.jl:381 [inlined]",
      "  [8] read",
      "    @ .\\io.jl:462 [inlined]",
      "  [9] _include(mapexpr::Function, mod::Module, _path::String)",
      "    @ Base .\\loading.jl:1484",
      " [10] include(fname::String)",
      "    @ Base.MainInclude .\\client.jl:476",
      " [11] top-level scope",
      "    @ In[25]:1"
     ]
    }
   ],
   "source": [
    "module_name = include(function_file_path)"
   ]
  },
  {
   "cell_type": "code",
   "execution_count": null,
   "metadata": {},
   "outputs": [
    {
     "data": {
      "text/plain": [
       "func2 (generic function with 1 method)"
      ]
     },
     "execution_count": 15,
     "metadata": {},
     "output_type": "execute_result"
    }
   ],
   "source": [
    "func = getfield(module_name, Meta.parse(function_name))"
   ]
  },
  {
   "cell_type": "code",
   "execution_count": null,
   "metadata": {},
   "outputs": [
    {
     "data": {
      "text/plain": [
       "9"
      ]
     },
     "execution_count": 17,
     "metadata": {},
     "output_type": "execute_result"
    }
   ],
   "source": [
    "func(3)"
   ]
  },
  {
   "cell_type": "markdown",
   "metadata": {},
   "source": [
    "---"
   ]
  },
  {
   "cell_type": "markdown",
   "metadata": {},
   "source": [
    "## Считывание и обработка строковых значений из конфигурационного файла типа 1е-10, pi/2"
   ]
  },
  {
   "cell_type": "code",
   "execution_count": null,
   "metadata": {},
   "outputs": [
    {
     "data": {
      "text/plain": [
       "Dict{String, Any} with 4 entries:\n",
       "  \"c\" => 321\n",
       "  \"b\" => \"1e-10\"\n",
       "  \"a\" => 123\n",
       "  \"d\" => \"pi/2\""
      ]
     },
     "execution_count": 21,
     "metadata": {},
     "output_type": "execute_result"
    }
   ],
   "source": [
    "Config = Dict(\"a\" => 123, \"b\" => \"1e-10\", \"c\" => 321, \"d\" => \"pi/2\")"
   ]
  },
  {
   "cell_type": "code",
   "execution_count": null,
   "metadata": {},
   "outputs": [],
   "source": [
    "for key = keys(Config)\n",
    "    if(typeof(Config[key]) == String)\n",
    "        Config[key] = eval(Meta.parse(Config[key]))\n",
    "    end\n",
    "end"
   ]
  },
  {
   "cell_type": "code",
   "execution_count": null,
   "metadata": {},
   "outputs": [
    {
     "data": {
      "text/plain": [
       "Dict{String, Any} with 4 entries:\n",
       "  \"c\" => 321\n",
       "  \"b\" => 1.0e-10\n",
       "  \"a\" => 123\n",
       "  \"d\" => 1.5708"
      ]
     },
     "execution_count": 30,
     "metadata": {},
     "output_type": "execute_result"
    }
   ],
   "source": [
    "Config"
   ]
  },
  {
   "cell_type": "markdown",
   "metadata": {},
   "source": [
    "---"
   ]
  },
  {
   "cell_type": "markdown",
   "metadata": {},
   "source": [
    "## Работа с YAML"
   ]
  },
  {
   "cell_type": "code",
   "execution_count": null,
   "metadata": {},
   "outputs": [],
   "source": [
    "using YAML, Configurations\n",
    "#include(\"Utils.jl\")"
   ]
  },
  {
   "cell_type": "code",
   "execution_count": null,
   "metadata": {},
   "outputs": [
    {
     "data": {
      "text/plain": [
       "\"config.yaml\""
      ]
     },
     "execution_count": 34,
     "metadata": {},
     "output_type": "execute_result"
    }
   ],
   "source": [
    "config_file_name = \"config.yaml\""
   ]
  },
  {
   "cell_type": "code",
   "execution_count": null,
   "metadata": {},
   "outputs": [
    {
     "data": {
      "text/plain": [
       "Dict{Any, Any} with 5 entries:\n",
       "  \"Task\"          => \"PlotODESolution\"\n",
       "  \"ODE_File_Name\" => \"Utils\\\\BS_Cos_System.jl\"\n",
       "  \"Int_setings\"   => Dict{Any, Any}(\"reltol\"=>1.0e-13, \"maxiters\"=>1.0e10, \"tra…\n",
       "  \"Parameters\"    => Dict{Any, Any}[Dict(\"name\"=>\"K\", \"Lname\"=>\"r\\\"K\\\"\", \"value…\n",
       "  \"SubTask\"       => Dict{Any, Any}(\"TimeSeries\"=>Dict{Any, Any}(\"proj\"=>[\"proj…"
      ]
     },
     "execution_count": 44,
     "metadata": {},
     "output_type": "execute_result"
    }
   ],
   "source": [
    "data = ispath(config_file_name) ? YAML.load_file(config_file_name) : error(\"Configuration file \" * string(config_file_name) * \" does not exist!\")"
   ]
  },
  {
   "cell_type": "code",
   "execution_count": null,
   "metadata": {},
   "outputs": [
    {
     "data": {
      "text/plain": [
       "Dict{Any, Any} with 4 entries:\n",
       "  \"Task\"          => \"Do_smth\"\n",
       "  \"ODE_File_Name\" => \"Utils\\\\BS_Sin_System.jl\"\n",
       "  \"Int_setings\"   => Dict{Any, Any}(\"reltol\"=>1.0e-13, \"maxiters\"=>1.0e10, \"tra…\n",
       "  \"Parameters\"    => Dict{Any, Any}[Dict(\"name\"=>\"a\", \"Lname\"=>\"r\\\"\\\\alpha\\\"\", …"
      ]
     },
     "execution_count": 22,
     "metadata": {},
     "output_type": "execute_result"
    }
   ],
   "source": [
    "YAMLUtils.ParseConfig!(data)"
   ]
  },
  {
   "cell_type": "code",
   "execution_count": null,
   "metadata": {},
   "outputs": [],
   "source": [
    "YAML.write_file(\"testYAML.yaml\", Dict(\"a\" => 1, \"b\" => [1, 2, 3]))"
   ]
  },
  {
   "cell_type": "markdown",
   "metadata": {},
   "source": [
    "---"
   ]
  },
  {
   "cell_type": "markdown",
   "metadata": {},
   "source": [
    "## Время и даты"
   ]
  },
  {
   "cell_type": "code",
   "execution_count": null,
   "metadata": {},
   "outputs": [],
   "source": [
    "using Dates"
   ]
  },
  {
   "cell_type": "code",
   "execution_count": null,
   "metadata": {},
   "outputs": [
    {
     "data": {
      "text/plain": [
       "2022-11-01T12:34:14.199"
      ]
     },
     "execution_count": 40,
     "metadata": {},
     "output_type": "execute_result"
    }
   ],
   "source": [
    "time1 = now()"
   ]
  },
  {
   "cell_type": "code",
   "execution_count": null,
   "metadata": {},
   "outputs": [
    {
     "data": {
      "text/plain": [
       "2022-11-01T12:36:34.534"
      ]
     },
     "execution_count": 48,
     "metadata": {},
     "output_type": "execute_result"
    }
   ],
   "source": [
    "time2 = now()"
   ]
  },
  {
   "cell_type": "code",
   "execution_count": null,
   "metadata": {},
   "outputs": [
    {
     "data": {
      "text/plain": [
       "\"2022/11/01 12:34:14\""
      ]
     },
     "execution_count": 44,
     "metadata": {},
     "output_type": "execute_result"
    }
   ],
   "source": [
    "Dates.format(time1, \"yyyy/mm/dd HH:MM:SS\")"
   ]
  },
  {
   "cell_type": "code",
   "execution_count": null,
   "metadata": {},
   "outputs": [
    {
     "name": "stdout",
     "output_type": "stream",
     "text": [
      "Elapsed time : 2 minutes, 20 seconds, 335 milliseconds"
     ]
    }
   ],
   "source": [
    "print(\"Elapsed time : \" * string(canonicalize(time2 - time1)))"
   ]
  },
  {
   "cell_type": "markdown",
   "metadata": {},
   "source": [
    "---"
   ]
  },
  {
   "cell_type": "markdown",
   "metadata": {},
   "source": [
    "## Создание функции системы ДУ с параемтрами заданными из конф. файла. Инетгрирование и вычисление Ляпуновских показателей"
   ]
  },
  {
   "cell_type": "code",
   "execution_count": null,
   "metadata": {},
   "outputs": [],
   "source": [
    "using DifferentialEquations\n",
    "using DynamicalSystems\n",
    "using ForwardDiff"
   ]
  },
  {
   "cell_type": "code",
   "execution_count": null,
   "metadata": {},
   "outputs": [
    {
     "data": {
      "text/plain": [
       "getSystem (generic function with 1 method)"
      ]
     },
     "execution_count": 100,
     "metadata": {},
     "output_type": "execute_result"
    }
   ],
   "source": [
    "function getSystem(dict::Dict)\n",
    "    a = dict[\"a\"]\n",
    "    b = dict[\"b\"]\n",
    "    function System(dX, X, p, t)\n",
    "        x1, x2 = X\n",
    "        dX[1] = x1 + a\n",
    "        dX[2] = x2 * b\n",
    "        return SVector{2}(dX)\n",
    "    end\n",
    "end"
   ]
  },
  {
   "cell_type": "code",
   "execution_count": null,
   "metadata": {},
   "outputs": [
    {
     "data": {
      "text/plain": [
       "Dict{String, Int64} with 2 entries:\n",
       "  \"b\" => 4\n",
       "  \"a\" => 2"
      ]
     },
     "execution_count": 101,
     "metadata": {},
     "output_type": "execute_result"
    }
   ],
   "source": [
    "config = Dict(\"a\" => 2, \"b\" => 4)"
   ]
  },
  {
   "cell_type": "code",
   "execution_count": null,
   "metadata": {},
   "outputs": [
    {
     "data": {
      "text/plain": [
       "(::var\"#System#74\"{Int64, Int64}) (generic function with 1 method)"
      ]
     },
     "execution_count": 102,
     "metadata": {},
     "output_type": "execute_result"
    }
   ],
   "source": [
    "Sys1 = getSystem(config)"
   ]
  },
  {
   "cell_type": "code",
   "execution_count": null,
   "metadata": {},
   "outputs": [
    {
     "name": "stderr",
     "output_type": "stream",
     "text": [
      "WARNING: replacing module Computation_Utils.\n"
     ]
    },
    {
     "data": {
      "text/plain": [
       "Main.Computation_Utils"
      ]
     },
     "execution_count": 161,
     "metadata": {},
     "output_type": "execute_result"
    }
   ],
   "source": [
    "include(\"Computation_Utils.jl\")"
   ]
  },
  {
   "cell_type": "code",
   "execution_count": null,
   "metadata": {},
   "outputs": [
    {
     "data": {
      "text/plain": [
       "getCond (generic function with 1 method)"
      ]
     },
     "execution_count": 229,
     "metadata": {},
     "output_type": "execute_result"
    }
   ],
   "source": [
    "function getCond(callback_func)\n",
    "\n",
    "    function myCond(x, t, integrator)\n",
    "        return callback_func(x)\n",
    "    end\n",
    "    return myCond\n",
    "end"
   ]
  },
  {
   "cell_type": "code",
   "execution_count": null,
   "metadata": {},
   "outputs": [
    {
     "data": {
      "text/plain": [
       "(::var\"#myCond#88\"{var\"#89#90\"}) (generic function with 1 method)"
      ]
     },
     "execution_count": 230,
     "metadata": {},
     "output_type": "execute_result"
    }
   ],
   "source": [
    "myCond1 = getCond(x -> sin(x[1] - 0.25))"
   ]
  },
  {
   "cell_type": "code",
   "execution_count": null,
   "metadata": {},
   "outputs": [
    {
     "data": {
      "text/plain": [
       "0.6816387600233341"
      ]
     },
     "execution_count": 231,
     "metadata": {},
     "output_type": "execute_result"
    }
   ],
   "source": [
    "myCond1(1, 2, 3)"
   ]
  },
  {
   "cell_type": "code",
   "execution_count": null,
   "metadata": {},
   "outputs": [
    {
     "ename": "LoadError",
     "evalue": "ArgumentError: reducing over an empty collection is not allowed",
     "output_type": "error",
     "traceback": [
      "ArgumentError: reducing over an empty collection is not allowed",
      "",
      "Stacktrace:",
      "  [1] _empty_reduce_error()",
      "    @ Base .\\reduce.jl:299",
      "  [2] reduce_empty(op::Function, #unused#::Type{Any})",
      "    @ Base .\\reduce.jl:309",
      "  [3] mapreduce_empty(#unused#::typeof(identity), op::Function, T::Type)",
      "    @ Base .\\reduce.jl:343",
      "  [4] reduce_empty(op::Base.MappingRF{typeof(identity), typeof(max)}, #unused#::Type{Any})",
      "    @ Base .\\reduce.jl:329",
      "  [5] reduce_empty_iter",
      "    @ .\\reduce.jl:355 [inlined]",
      "  [6] mapreduce_empty_iter(f::Function, op::Function, itr::Vector{Any}, ItrEltype::Base.HasEltype)",
      "    @ Base .\\reduce.jl:351",
      "  [7] _mapreduce(f::typeof(identity), op::typeof(max), #unused#::IndexLinear, A::Vector{Any})",
      "    @ Base .\\reduce.jl:400",
      "  [8] _mapreduce_dim",
      "    @ .\\reducedim.jl:318 [inlined]",
      "  [9] #mapreduce#672",
      "    @ .\\reducedim.jl:310 [inlined]",
      " [10] mapreduce",
      "    @ .\\reducedim.jl:310 [inlined]",
      " [11] #_maximum#690",
      "    @ .\\reducedim.jl:878 [inlined]",
      " [12] _maximum",
      "    @ .\\reducedim.jl:878 [inlined]",
      " [13] #_maximum#689",
      "    @ .\\reducedim.jl:877 [inlined]",
      " [14] _maximum(a::Vector{Any}, ::Colon)",
      "    @ Base .\\reducedim.jl:877",
      " [15] #maximum#687",
      "    @ .\\reducedim.jl:873 [inlined]",
      " [16] maximum",
      "    @ .\\reducedim.jl:873 [inlined]",
      " [17] numargs(f::Int64)",
      "    @ SciMLBase C:\\Users\\artyo\\.julia\\packages\\SciMLBase\\L7Nun\\src\\utils.jl:13",
      " [18] isinplace(f::Int64, inplace_param_number::Int64)",
      "    @ SciMLBase C:\\Users\\artyo\\.julia\\packages\\SciMLBase\\L7Nun\\src\\utils.jl:42",
      " [19] ODEFunction(f::Int64; kwargs::Base.Iterators.Pairs{Symbol, Union{Nothing, typeof(SciMLBase.DEFAULT_OBSERVED)}, NTuple{12, Symbol}, NamedTuple{(:analytic, :tgrad, :jac, :jvp, :vjp, :Wfact, :Wfact_t, :paramjac, :syms, :indepsym, :observed, :colorvec), Tuple{Nothing, Nothing, Nothing, Nothing, Nothing, Nothing, Nothing, Nothing, Nothing, Nothing, typeof(SciMLBase.DEFAULT_OBSERVED), Nothing}}})",
      "    @ SciMLBase C:\\Users\\artyo\\.julia\\packages\\SciMLBase\\L7Nun\\src\\scimlfunctions.jl:508",
      " [20] convert",
      "    @ C:\\Users\\artyo\\.julia\\packages\\SciMLBase\\L7Nun\\src\\scimlfunctions.jl:1429 [inlined]",
      " [21] ODEProblem(f::Int64, u0::Vector{Int64}, tspan::Tuple{Float64, Float64}, p::SciMLBase.NullParameters; kwargs::Base.Iterators.Pairs{Union{}, Union{}, Tuple{}, NamedTuple{(), Tuple{}}})",
      "    @ SciMLBase C:\\Users\\artyo\\.julia\\packages\\SciMLBase\\L7Nun\\src\\problems\\ode_problems.jl:76",
      " [22] ODEProblem (repeats 2 times)",
      "    @ C:\\Users\\artyo\\.julia\\packages\\SciMLBase\\L7Nun\\src\\problems\\ode_problems.jl:76 [inlined]",
      " [23] SolveODE(ODESystem::Int64, x_0::Vector{Int64}, time_span::Int64; trans_time::Float64, callback_func::Function, kwargs::Dict{String, Float64})",
      "    @ Main.Computation_Utils c:\\Users\\artyo\\YandexDisk\\Other\\Julia\\Computation_Utils.jl:37",
      " [24] top-level scope",
      "    @ In[271]:1",
      " [25] eval",
      "    @ .\\boot.jl:360 [inlined]",
      " [26] include_string(mapexpr::typeof(REPL.softscope), mod::Module, code::String, filename::String)",
      "    @ Base .\\loading.jl:1116"
     ]
    }
   ],
   "source": [
    "sol = Computation_Utils.SolveODE(Sys1, [1, 1], 100; kwargs = Dict(\"reltol\" => 1e-10), callback_func = myCond1)"
   ]
  },
  {
   "cell_type": "code",
   "execution_count": null,
   "metadata": {},
   "outputs": [
    {
     "data": {
      "text/plain": [
       "2-dimensional continuous dynamical system\n",
       " state:       [1.0, 2.0]\n",
       " rule f:      System\n",
       " in-place?    true\n",
       " jacobian:    ForwardDiff\n",
       " parameters:  [1.0, 2.0]"
      ]
     },
     "execution_count": 50,
     "metadata": {},
     "output_type": "execute_result"
    }
   ],
   "source": [
    "lvDs = ContinuousDynamicalSystem(Sys1, [1.0, 2.0], [1.0, 2.0])"
   ]
  },
  {
   "cell_type": "code",
   "execution_count": null,
   "metadata": {},
   "outputs": [
    {
     "data": {
      "text/plain": [
       "2-element Vector{Float64}:\n",
       " 3.910217249845047e-14\n",
       " 2.9757621411337013e-14"
      ]
     },
     "execution_count": 51,
     "metadata": {},
     "output_type": "execute_result"
    }
   ],
   "source": [
    "lyapunovspectrum(lvDs, 2000)"
   ]
  },
  {
   "cell_type": "code",
   "execution_count": null,
   "metadata": {},
   "outputs": [
    {
     "data": {
      "text/plain": [
       "BS_Uni_Sys (generic function with 2 methods)"
      ]
     },
     "execution_count": 91,
     "metadata": {},
     "output_type": "execute_result"
    }
   ],
   "source": [
    "include(\"Utils\\\\BS_Uni_System.jl\")"
   ]
  },
  {
   "cell_type": "code",
   "execution_count": null,
   "metadata": {},
   "outputs": [
    {
     "data": {
      "text/plain": [
       "SubFunc (generic function with 1 method)"
      ]
     },
     "execution_count": 48,
     "metadata": {},
     "output_type": "execute_result"
    }
   ],
   "source": [
    "function OuterFunc(SideFunc)\n",
    "    function InnerFunc(dX, X, p, t)\n",
    "        dX[1] = X[1] + SubFunc(p[1])\n",
    "        dX[2] = X[2] + SideFunc(p[2])\n",
    "        dX[1:2] .= dX[1:2] + [12, 34]\n",
    "        return dX\n",
    "    end\n",
    "    return InnerFunc\n",
    "end\n",
    "\n",
    "function SubFunc(x)\n",
    "    return x^2\n",
    "end"
   ]
  },
  {
   "cell_type": "code",
   "execution_count": null,
   "metadata": {},
   "outputs": [
    {
     "data": {
      "text/plain": [
       "(::var\"#Uni_Sys!#71\"{var\"#72#73\"}) (generic function with 1 method)"
      ]
     },
     "execution_count": 92,
     "metadata": {},
     "output_type": "execute_result"
    }
   ],
   "source": [
    "func = BS_Uni_Sys(x -> x^2)"
   ]
  },
  {
   "cell_type": "code",
   "execution_count": null,
   "metadata": {},
   "outputs": [
    {
     "data": {
      "text/plain": [
       "6-element SVector{6, Float64} with indices SOneTo(6):\n",
       " 41.42354138141536\n",
       " 48.33666772782265\n",
       " 46.71218191041544\n",
       " 38.689757070869234\n",
       " 48.57869928890133\n",
       " 47.31398714249025"
      ]
     },
     "execution_count": 93,
     "metadata": {},
     "output_type": "execute_result"
    }
   ],
   "source": [
    "func(zeros(6), 1.0 : 6.0, 1 : 5, 0)"
   ]
  },
  {
   "cell_type": "code",
   "execution_count": null,
   "metadata": {},
   "outputs": [
    {
     "data": {
      "text/plain": [
       "6-dimensional continuous dynamical system\n",
       " state:       [1.0, 2.0, 3.0, 4.0, 5.0, 6.0]\n",
       " rule f:      Uni_Sys!\n",
       " in-place?    true\n",
       " jacobian:    ForwardDiff\n",
       " parameters:  [1, 2, 3, 4, 5]"
      ]
     },
     "execution_count": 95,
     "metadata": {},
     "output_type": "execute_result"
    }
   ],
   "source": [
    "lvDs = ContinuousDynamicalSystem(func, 1.0 : 6.0, 1 : 5)"
   ]
  },
  {
   "cell_type": "code",
   "execution_count": null,
   "metadata": {},
   "outputs": [
    {
     "data": {
      "text/plain": [
       "(::var\"#InnerFunc#32\"{var\"#35#36\"}) (generic function with 1 method)"
      ]
     },
     "execution_count": 51,
     "metadata": {},
     "output_type": "execute_result"
    }
   ],
   "source": [
    "func = OuterFunc(x -> x^2)"
   ]
  },
  {
   "cell_type": "code",
   "execution_count": null,
   "metadata": {},
   "outputs": [
    {
     "data": {
      "text/plain": [
       "2-element Vector{Int64}:\n",
       " 40\n",
       " 74"
      ]
     },
     "execution_count": 52,
     "metadata": {},
     "output_type": "execute_result"
    }
   ],
   "source": [
    "func([1, 2], [3, 4], [5, 6], 0)"
   ]
  },
  {
   "cell_type": "code",
   "execution_count": null,
   "metadata": {},
   "outputs": [
    {
     "data": {
      "text/plain": [
       "2-dimensional continuous dynamical system\n",
       " state:       [0.0, 0.0]\n",
       " rule f:      InnerFunc\n",
       " in-place?    true\n",
       " jacobian:    ForwardDiff\n",
       " parameters:  [0.0, 0.0]"
      ]
     },
     "execution_count": 53,
     "metadata": {},
     "output_type": "execute_result"
    }
   ],
   "source": [
    "lvDs = ContinuousDynamicalSystem(OuterFunc(x -> x^2), zeros(2), zeros(2))"
   ]
  },
  {
   "cell_type": "code",
   "execution_count": null,
   "metadata": {},
   "outputs": [
    {
     "data": {
      "text/plain": [
       "6-element Vector{Float64}:\n",
       "  1.2147253237836189\n",
       " -0.21588494762830343\n",
       " -5.735149014560517\n",
       " -7.117406117834933\n",
       " -7.7474014800812\n",
       " -9.474269769509423"
      ]
     },
     "execution_count": 96,
     "metadata": {},
     "output_type": "execute_result"
    }
   ],
   "source": [
    "lyapunovspectrum(lvDs, 20)"
   ]
  },
  {
   "cell_type": "markdown",
   "metadata": {},
   "source": [
    "---"
   ]
  },
  {
   "cell_type": "markdown",
   "metadata": {},
   "source": [
    "## Создание переменной по имени и задание ей значения по данным из конфиг. файла"
   ]
  },
  {
   "cell_type": "code",
   "execution_count": null,
   "metadata": {},
   "outputs": [
    {
     "data": {
      "text/plain": [
       "Dict{String, Any} with 2 entries:\n",
       "  \"name\"  => \"a\"\n",
       "  \"value\" => 323"
      ]
     },
     "execution_count": 214,
     "metadata": {},
     "output_type": "execute_result"
    }
   ],
   "source": [
    "config = Dict(\"name\" => \"a\", \"value\" => 323)"
   ]
  },
  {
   "cell_type": "code",
   "execution_count": null,
   "metadata": {},
   "outputs": [
    {
     "data": {
      "text/plain": [
       "\"a = 323\""
      ]
     },
     "execution_count": 215,
     "metadata": {},
     "output_type": "execute_result"
    }
   ],
   "source": [
    "someExpr = config[\"name\"] * \" = \" * string(config[\"value\"])"
   ]
  },
  {
   "cell_type": "code",
   "execution_count": null,
   "metadata": {},
   "outputs": [
    {
     "data": {
      "text/plain": [
       "323"
      ]
     },
     "execution_count": 218,
     "metadata": {},
     "output_type": "execute_result"
    }
   ],
   "source": [
    "eval(Meta.parse(someExpr))"
   ]
  },
  {
   "cell_type": "code",
   "execution_count": null,
   "metadata": {},
   "outputs": [
    {
     "name": "stdout",
     "output_type": "stream",
     "text": [
      "323"
     ]
    }
   ],
   "source": [
    "print(a)"
   ]
  },
  {
   "cell_type": "markdown",
   "metadata": {},
   "source": [
    "---"
   ]
  },
  {
   "cell_type": "code",
   "execution_count": null,
   "metadata": {},
   "outputs": [],
   "source": [
    "using JLD"
   ]
  },
  {
   "cell_type": "code",
   "execution_count": null,
   "metadata": {},
   "outputs": [
    {
     "data": {
      "text/plain": [
       "\"Results\\\\test\""
      ]
     },
     "execution_count": 323,
     "metadata": {},
     "output_type": "execute_result"
    }
   ],
   "source": [
    "SavePath = \"Results\\\\test\""
   ]
  },
  {
   "cell_type": "code",
   "execution_count": null,
   "metadata": {},
   "outputs": [
    {
     "data": {
      "text/plain": [
       "\"Results\\\\test\""
      ]
     },
     "execution_count": 333,
     "metadata": {},
     "output_type": "execute_result"
    }
   ],
   "source": [
    "mkpath(SavePath)"
   ]
  },
  {
   "cell_type": "code",
   "execution_count": null,
   "metadata": {},
   "outputs": [],
   "source": [
    "save(SavePath * \"\\\\\" * \"TaskName\" * \"Data.jld\", \"sol\", Tosave)"
   ]
  },
  {
   "cell_type": "code",
   "execution_count": null,
   "metadata": {},
   "outputs": [
    {
     "ename": "ErrorException",
     "evalue": "syntax: invalid \"import\" statement: expected identifier",
     "output_type": "error",
     "traceback": [
      "syntax: invalid \"import\" statement: expected identifier\n",
      "\n",
      "Stacktrace:\n",
      " [1] top-level scope\n",
      "   @ c:\\Users\\artyo\\YandexDisk\\Other\\Julia\\BS_module\\sandbox_notebook.ipynb:1"
     ]
    }
   ],
   "source": [
    "module_name = import(raw\"ODEs\\BS_Uni_System.jl\")"
   ]
  },
  {
   "cell_type": "code",
   "execution_count": null,
   "metadata": {},
   "outputs": [
    {
     "data": {
      "text/plain": [
       "Dict{String, Dict{String, Int64}} with 1 entry:\n",
       "  \"a\" => Dict(\"b\"=>3)"
      ]
     },
     "metadata": {},
     "output_type": "display_data"
    }
   ],
   "source": [
    "config = Dict(\"a\" => Dict(\"b\" => 3))"
   ]
  },
  {
   "cell_type": "code",
   "execution_count": null,
   "metadata": {},
   "outputs": [
    {
     "data": {
      "text/plain": [
       "Dict{String, Int64} with 1 entry:\n",
       "  \"b\" => 3"
      ]
     },
     "metadata": {},
     "output_type": "display_data"
    }
   ],
   "source": [
    "config[\"a\"]"
   ]
  },
  {
   "cell_type": "code",
   "execution_count": null,
   "metadata": {},
   "outputs": [
    {
     "data": {
      "text/plain": [
       "true"
      ]
     },
     "metadata": {},
     "output_type": "display_data"
    }
   ],
   "source": [
    "haskey(config[\"a\"], \"b\")"
   ]
  },
  {
   "cell_type": "code",
   "execution_count": null,
   "metadata": {},
   "outputs": [],
   "source": [
    "using PyCall"
   ]
  },
  {
   "cell_type": "code",
   "execution_count": null,
   "metadata": {},
   "outputs": [
    {
     "data": {
      "text/plain": [
       "PyObject <module 'Utils.Matlotlib_Utils' from 'c:\\\\Users\\\\artyo\\\\YandexDisk\\\\Other\\\\Julia\\\\BS_module\\\\Utils\\\\Matlotlib_Utils.py'>"
      ]
     },
     "metadata": {},
     "output_type": "display_data"
    }
   ],
   "source": [
    "pushfirst!(PyVector(pyimport(\"sys\").\"path\"), \"\")\n",
    "GU =  pyimport(\"Utils.Matlotlib_Utils\")"
   ]
  },
  {
   "cell_type": "code",
   "execution_count": null,
   "metadata": {},
   "outputs": [
    {
     "data": {
      "text/plain": [
       "true"
      ]
     },
     "metadata": {},
     "output_type": "display_data"
    }
   ],
   "source": [
    "haskey(GU, \"plt\")"
   ]
  },
  {
   "cell_type": "markdown",
   "metadata": {},
   "source": [
    "---"
   ]
  },
  {
   "cell_type": "markdown",
   "metadata": {},
   "source": [
    "## Синтаксис kwargs..."
   ]
  },
  {
   "cell_type": "code",
   "execution_count": null,
   "metadata": {},
   "outputs": [
    {
     "data": {
      "text/plain": [
       "f (generic function with 1 method)"
      ]
     },
     "metadata": {},
     "output_type": "display_data"
    }
   ],
   "source": [
    "function f(s; kwargs...)\n",
    "    println(s)\n",
    "    for arg in kwargs\n",
    "        println(arg)\n",
    "    end\n",
    "end"
   ]
  },
  {
   "cell_type": "code",
   "execution_count": null,
   "metadata": {},
   "outputs": [
    {
     "name": "stdout",
     "output_type": "stream",
     "text": [
      "12\n",
      ":maxiters => 1.0e10\n",
      ":reltol => 1.0e-13\n",
      ":abstol => 1.0e-13\n",
      ":dt => 0.001\n"
     ]
    }
   ],
   "source": [
    "f(12; Dict(:dt => 1e-3, :abstol => 1e-13, :reltol => 1e-13, :maxiters => 1e10)...)"
   ]
  },
  {
   "cell_type": "code",
   "execution_count": null,
   "metadata": {},
   "outputs": [],
   "source": [
    "using DifferentialEquations\n",
    "using DynamicalSystems"
   ]
  },
  {
   "cell_type": "code",
   "execution_count": null,
   "metadata": {},
   "outputs": [
    {
     "data": {
      "text/plain": [
       "\u001b[36mODEProblem\u001b[0m with uType \u001b[36mVector{Float64}\u001b[0m and tType \u001b[36mFloat64\u001b[0m. In-place: \u001b[36mtrue\u001b[0m\n",
       "timespan: (0.0, 500.0)\n",
       "u0: 6-element Vector{Float64}:\n",
       " 0.1\n",
       " 0.2\n",
       " 0.3\n",
       " 0.4\n",
       " 0.5\n",
       " 0.6"
      ]
     },
     "metadata": {},
     "output_type": "display_data"
    }
   ],
   "source": [
    "prob_julia = ODEProblem(ODE_func, InitCond, (0.0, time_span))"
   ]
  },
  {
   "cell_type": "code",
   "execution_count": null,
   "metadata": {},
   "outputs": [
    {
     "data": {
      "text/plain": [
       "Dict{Symbol, Float64} with 4 entries:\n",
       "  :maxiters => 1.0e10\n",
       "  :reltol   => 1.0e-13\n",
       "  :abstol   => 1.0e-13\n",
       "  :dt       => 0.001"
      ]
     },
     "metadata": {},
     "output_type": "display_data"
    }
   ],
   "source": [
    "dict = Dict(:dt => 1e-3, :abstol => 1e-13, :reltol => 1e-13, :maxiters => 1e10)"
   ]
  },
  {
   "cell_type": "code",
   "execution_count": null,
   "metadata": {},
   "outputs": [
    {
     "data": {
      "text/plain": [
       "retcode: Success\n",
       "Interpolation: 1st order linear\n",
       "t: 2-element Vector{Float64}:\n",
       "   0.0\n",
       " 500.0\n",
       "u: 2-element Vector{Vector{Float64}}:\n",
       " [0.1, 0.2, 0.3, 0.4, 0.5, 0.6]\n",
       " [-3.986853058938782e-14, -6.277999214383971e-14, -1.1576742808529368e-14, -6.405918435627489e-14, 4.464418579701838e-14, -4.34401746978249e-14]"
      ]
     },
     "metadata": {},
     "output_type": "display_data"
    }
   ],
   "source": [
    "sol_julia = solve(prob_julia, DP8(); save_everystep = false,  dict...)"
   ]
  },
  {
   "cell_type": "markdown",
   "metadata": {},
   "source": [
    "---"
   ]
  },
  {
   "cell_type": "code",
   "execution_count": null,
   "metadata": {},
   "outputs": [],
   "source": [
    "using YAML\n",
    "using Configurations\n",
    "using Latexify, LaTeXStrings, SymEngine"
   ]
  },
  {
   "cell_type": "code",
   "execution_count": null,
   "metadata": {},
   "outputs": [
    {
     "data": {
      "text/plain": [
       "Main.YAML_Utils"
      ]
     },
     "execution_count": 5,
     "metadata": {},
     "output_type": "execute_result"
    }
   ],
   "source": [
    "## Importing utils ##\n",
    "#include(\"Utils\\\\Computation_Utils.jl\")\n",
    "include(\"..\\\\Utils\\\\YAML_Utils.jl\")"
   ]
  },
  {
   "cell_type": "code",
   "execution_count": null,
   "metadata": {},
   "outputs": [
    {
     "data": {
      "text/plain": [
       "Dict{Any, Any} with 4 entries:\n",
       "  \"Session_Input\"  => Dict{Any, Any}(\"Tasks_List\"=>Dict{Any, Any}[Dict(\"Task_In…\n",
       "  \"Session_folder\" => \"Results\"\n",
       "  \"Session_name\"   => \"Some_Tasks\"\n",
       "  \"Session_Output\" => \"Output.txt\""
      ]
     },
     "execution_count": 7,
     "metadata": {},
     "output_type": "execute_result"
    }
   ],
   "source": [
    "config_dict = YAML.load_file(\"..\\\\config.yaml\")"
   ]
  },
  {
   "cell_type": "code",
   "execution_count": null,
   "metadata": {},
   "outputs": [
    {
     "data": {
      "text/plain": [
       "Dict{Any, Any} with 4 entries:\n",
       "  \"Task_Input\"  => Dict{Any, Any}(\"ODESolver_settings\"=>Dict{Any, Any}(\"init_co…\n",
       "  \"Task_Func\"   => \"SolveODE\"\n",
       "  \"Task_Output\" => Dict{Any, Any}(\"Data_file_name\"=>\"SolveODE_Data.jld\")\n",
       "  \"Task_File\"   => \"Tasks\\\\BS_ODE_Solving.jl\""
      ]
     },
     "execution_count": 10,
     "metadata": {},
     "output_type": "execute_result"
    }
   ],
   "source": [
    "config_dict[\"Session_Input\"][\"Tasks_List\"][1]"
   ]
  },
  {
   "cell_type": "code",
   "execution_count": null,
   "metadata": {},
   "outputs": [
    {
     "name": "stdout",
     "output_type": "stream",
     "text": [
      "Required fileds procceed\n",
      "Optional fileds procceed\n"
     ]
    }
   ],
   "source": [
    "# Required fileds\n",
    "module_name = include(config_dict[\"ODE_File_Name\"])\n",
    "ODE_func = getfield(module_name, Meta.parse(config_dict[\"ODE_Func_Name\"]))(YAML_Utils.MakeParametersDict(config_dict), eval(Meta.parse(config_dict[\"Couple_func\"])))\n",
    "InitCond = config_dict[\"ODESolver_setings\"][\"InitCond\"]\n",
    "time_span = config_dict[\"ODESolver_setings\"][\"time_span\"]\n",
    "println(\"Required fileds procceed\")\n",
    "\n",
    "# Optional fields\n",
    "ODE_alg = haskey(config_dict[\"ODESolver_setings\"], \"alg\") ? config_dict[\"ODESolver_setings\"][\"alg\"] : nothing\n",
    "ParsedKwargs = haskey(config_dict[\"ODESolver_setings\"], \"kwargs\") ? YAML_Utils.ParseODEKwargs(config_dict[\"ODESolver_setings\"][\"kwargs\"]) : nothing\n",
    "trans_time = haskey(config_dict[\"ODESolver_setings\"], \"trans_time\") ? config_dict[\"ODESolver_setings\"][\"trans_time\"] : nothing\n",
    "callback = haskey(config_dict[\"ODESolver_setings\"], \"callback\") ? Callback_Utils.ParseAnonCondition(eval(Meta.parse(config_dict[\"ODESolver_setings\"][\"callback\"]))) : nothing\n",
    "println(\"Optional fileds procceed\")"
   ]
  },
  {
   "cell_type": "code",
   "execution_count": null,
   "metadata": {},
   "outputs": [
    {
     "name": "stdout",
     "output_type": "stream",
     "text": [
      "SolveODE succeed\n"
     ]
    }
   ],
   "source": [
    "sol = Computation_Utils.SolveODE(ODE_func, InitCond, time_span;\n",
    "                                 alg = ODE_alg,\n",
    "                                 trans_time = trans_time,\n",
    "                                 kwargs = ParsedKwargs,\n",
    "                                 callback_func = callback);\n",
    "println(\"SolveODE succeed\")"
   ]
  },
  {
   "cell_type": "code",
   "execution_count": null,
   "metadata": {},
   "outputs": [],
   "source": [
    "## Plot results ##\n",
    "Graphics_Utils.PlotRequestedGraphics(sol, config_dict, \"Results\")"
   ]
  },
  {
   "attachments": {},
   "cell_type": "markdown",
   "metadata": {},
   "source": [
    "---"
   ]
  },
  {
   "cell_type": "code",
   "execution_count": null,
   "metadata": {},
   "outputs": [],
   "source": [
    "using JLD2"
   ]
  },
  {
   "cell_type": "code",
   "execution_count": null,
   "metadata": {},
   "outputs": [],
   "source": [
    "cd(raw\"C:\\Users\\artyo\\YandexDisk\\Other\\Julia\\BS_module\")"
   ]
  },
  {
   "cell_type": "code",
   "execution_count": null,
   "metadata": {},
   "outputs": [],
   "source": [
    "struct py_sol\n",
    "    t::Vector{Float64}\n",
    "    y::Vector{Vector{Float64}}\n",
    "    t_events::Vector{Vector{Float64}}\n",
    "    y_events::Vector{Matrix{Float64}}\n",
    "end  "
   ]
  },
  {
   "cell_type": "code",
   "execution_count": null,
   "metadata": {},
   "outputs": [
    {
     "data": {
      "text/plain": [
       "\"Results\\\\Some_Tasks 2023_01_11 16_23_05\\\\SolveODE_Data.jld2\""
      ]
     },
     "execution_count": 27,
     "metadata": {},
     "output_type": "execute_result"
    }
   ],
   "source": [
    "file_name = raw\"Results\\Some_Tasks 2023_01_11 16_23_05\\SolveODE_Data.jld2\""
   ]
  },
  {
   "cell_type": "code",
   "execution_count": null,
   "metadata": {},
   "outputs": [
    {
     "name": "stderr",
     "output_type": "stream",
     "text": [
      "\u001b[33m\u001b[1m┌ \u001b[22m\u001b[39m\u001b[33m\u001b[1mWarning: \u001b[22m\u001b[39mtype Main.BS_ODE_Tasks.Computation_Utils.py_sol does not exist in workspace; reconstructing\n",
      "\u001b[33m\u001b[1m└ \u001b[22m\u001b[39m\u001b[90m@ JLD2 C:\\Users\\artyo\\.julia\\packages\\JLD2\\1YVED\\src\\data\\reconstructing_datatypes.jl:495\u001b[39m\n"
     ]
    },
    {
     "data": {
      "text/plain": [
       "JLD2.ReconstructedTypes.var\"##Main.BS_ODE_Tasks.Computation_Utils.py_sol#316\"([0.0, 0.1, 0.43865182679061143, 0.7797840935322946, 1.1963633280703436, 1.7069479753783061, 2.523782834235203, 3.488455367373043, 4.276776310585493, 4.940957847617945  …  99.41612526133575, 99.48277449841709, 99.54840841692824, 99.61487634838602, 99.67857812690899, 99.74261007709588, 99.80800655710146, 99.87531713039517, 99.94491857790753, 100.0], [[6.283185309326366, 6.283185309689658, 6.283185311440916, 6.283185314440682, 6.283185321097774, 6.2831853380739195, 6.283185417799717, 6.283185806090078, 6.283187015675529, 6.2831901268851835  …  15.707963267951008, 15.70796326795109, 15.707963267951163, 15.707963267951232, 15.70796326795129, 15.707963267951342, 15.707963267951392, 15.707963267951436, 15.70796326795148, 15.70796326795151], [12.5663705908434, 12.566370607661389, 12.566370629907343, 12.566370634420014, 12.566370635389632, 12.56637063553333, 12.566370635547313, 12.566370635547596, 12.56637063554747, 12.566370635547528  …  18.849556092758817, 18.849556111382512, 18.84955613177969, 18.84955615471789, 18.84955617907336, 18.849556206135052, 18.849556236720613, 18.849556271643877, 18.84955631183404, 18.84955634688657], [9.424778023928857, 9.424778023953833, 9.424778024014302, 9.424778024049923, 9.424778024073984, 9.424778024088287, 9.424778024096653, 9.42477802409914, 9.424778024099638, 9.424778024099773  …  18.70420930166455, 18.74326018567015, 18.77150622799533, 18.792494210834775, 18.80729988774051, 18.818316138968484, 18.826610057860673, 18.832854129861705, 18.837530006181062, 18.84028275881792], [6.283185309328243, 6.283185309691851, 6.283185311444634, 6.283185314447011, 6.28318532110992, 6.28318533810088, 6.28318541789625, 6.283185806525385, 6.2831870171662185, 6.283190131090422  …  15.707963267951012, 15.707963267951094, 15.707963267951166, 15.707963267951234, 15.707963267951293, 15.707963267951344, 15.707963267951394, 15.707963267951436, 15.70796326795148, 15.707963267951511], [9.42477802392879, 9.424778023953772, 9.424778024014266, 9.424778024049902, 9.424778024073968, 9.42477802408828, 9.424778024096653, 9.424778024099147, 9.424778024099645, 9.424778024099774  …  18.705900759341443, 18.74450118994934, 18.772419018015334, 18.793162168012007, 18.807794770266007, 18.818682101621025, 18.82687889992012, 18.83304983000499, 18.83767092382227, 18.84039142225989], [12.566370590977495, 12.56637060774504, 12.566370629924256, 12.566370634423409, 12.566370635390104, 12.56637063553338, 12.566370635547242, 12.566370635547546, 12.566370635547406, 12.566370635547495  …  18.84955609439813, 18.849556113203775, 18.849556133798767, 18.84955615695855, 18.84955618154879, 18.84955620887105, 18.849556239750925, 18.849556275010123, 18.84955631558681, 18.849556350976425]], [Float64[]], Matrix{Float64}[])"
      ]
     },
     "execution_count": 28,
     "metadata": {},
     "output_type": "execute_result"
    }
   ],
   "source": [
    "sol = load_object(file_name)"
   ]
  },
  {
   "cell_type": "code",
   "execution_count": null,
   "metadata": {},
   "outputs": [
    {
     "data": {
      "text/plain": [
       "673-element Vector{Float64}:\n",
       "   0.0\n",
       "   0.1\n",
       "   0.43865182679061143\n",
       "   0.7797840935322946\n",
       "   1.1963633280703436\n",
       "   1.7069479753783061\n",
       "   2.523782834235203\n",
       "   3.488455367373043\n",
       "   4.276776310585493\n",
       "   4.940957847617945\n",
       "   5.51744413643272\n",
       "   6.0282027866064425\n",
       "   6.535842053766405\n",
       "   ⋮\n",
       "  99.32453270347193\n",
       "  99.36610150660192\n",
       "  99.41612526133575\n",
       "  99.48277449841709\n",
       "  99.54840841692824\n",
       "  99.61487634838602\n",
       "  99.67857812690899\n",
       "  99.74261007709588\n",
       "  99.80800655710146\n",
       "  99.87531713039517\n",
       "  99.94491857790753\n",
       " 100.0"
      ]
     },
     "execution_count": 14,
     "metadata": {},
     "output_type": "execute_result"
    }
   ],
   "source": [
    "sol.t"
   ]
  },
  {
   "attachments": {},
   "cell_type": "markdown",
   "metadata": {},
   "source": [
    "---"
   ]
  },
  {
   "cell_type": "code",
   "execution_count": null,
   "metadata": {},
   "outputs": [
    {
     "name": "stderr",
     "output_type": "stream",
     "text": [
      "WARNING: replacing module abc.\n"
     ]
    },
    {
     "data": {
      "text/plain": [
       "Main.abc"
      ]
     },
     "execution_count": 3,
     "metadata": {},
     "output_type": "execute_result"
    }
   ],
   "source": [
    "module abc\n",
    "export a, f\n",
    "\n",
    "a = 123\n",
    "b = \"123\"\n",
    "\n",
    "function f()\n",
    "    return \"That's a function\"\n",
    "end\n",
    "end"
   ]
  },
  {
   "cell_type": "code",
   "execution_count": null,
   "metadata": {},
   "outputs": [],
   "source": [
    "str = \"abc\"\n",
    "eval(Meta.parse(\"using .\" * str))"
   ]
  },
  {
   "attachments": {},
   "cell_type": "markdown",
   "metadata": {},
   "source": [
    "---"
   ]
  },
  {
   "cell_type": "code",
   "execution_count": null,
   "metadata": {},
   "outputs": [
    {
     "data": {
      "text/plain": [
       "\"..\\\\Tasks\\\\BS_ODE_Solving.jl\""
      ]
     },
     "execution_count": 35,
     "metadata": {},
     "output_type": "execute_result"
    }
   ],
   "source": [
    "str = \"..\\\\Tasks\\\\BS_ODE_Solving.jl\""
   ]
  },
  {
   "cell_type": "code",
   "execution_count": null,
   "metadata": {},
   "outputs": [
    {
     "data": {
      "text/plain": [
       "Main.BS_ODE_Solving"
      ]
     },
     "execution_count": 28,
     "metadata": {},
     "output_type": "execute_result"
    }
   ],
   "source": [
    "include(str)"
   ]
  },
  {
   "cell_type": "code",
   "execution_count": null,
   "metadata": {},
   "outputs": [
    {
     "data": {
      "text/plain": [
       "24"
      ]
     },
     "execution_count": 43,
     "metadata": {},
     "output_type": "execute_result"
    }
   ],
   "source": [
    "findlast(\".\", str)[1]"
   ]
  },
  {
   "cell_type": "code",
   "execution_count": null,
   "metadata": {},
   "outputs": [
    {
     "data": {
      "text/plain": [
       "9:9"
      ]
     },
     "execution_count": 51,
     "metadata": {},
     "output_type": "execute_result"
    }
   ],
   "source": [
    "findlast(\"\\\\\", str)"
   ]
  },
  {
   "cell_type": "code",
   "execution_count": null,
   "metadata": {},
   "outputs": [
    {
     "data": {
      "text/plain": [
       "\"BS_ODE_Solving\""
      ]
     },
     "execution_count": 53,
     "metadata": {},
     "output_type": "execute_result"
    }
   ],
   "source": [
    "str[findlast(\"\\\\\", str)[1] + 1 : findlast(\".\", str)[1] - 1]"
   ]
  },
  {
   "cell_type": "code",
   "execution_count": null,
   "metadata": {},
   "outputs": [],
   "source": [
    "using .BS_ODE_Solving"
   ]
  },
  {
   "cell_type": "code",
   "execution_count": null,
   "metadata": {},
   "outputs": [
    {
     "data": {
      "text/plain": [
       "\"12321  321  342342\""
      ]
     },
     "execution_count": 31,
     "metadata": {},
     "output_type": "execute_result"
    }
   ],
   "source": [
    "a = 321\n",
    "\"12321  $(a)  342342\""
   ]
  },
  {
   "attachments": {},
   "cell_type": "markdown",
   "metadata": {},
   "source": [
    "---"
   ]
  },
  {
   "cell_type": "code",
   "execution_count": 19,
   "metadata": {},
   "outputs": [
    {
     "data": {
      "text/plain": [
       "GetConfig (generic function with 1 method)"
      ]
     },
     "execution_count": 19,
     "metadata": {},
     "output_type": "execute_result"
    }
   ],
   "source": [
    "mutable struct Poly_solve_Task{T <: Real}\n",
    "    coefs::Vector{T}\n",
    "end\n",
    "\n",
    "function (p::Poly_solve_Task)()\n",
    "    a, b, c = p.coefs\n",
    "    D = b^2 - 4 * a * c\n",
    "    if D > 0\n",
    "        return [(-b + sqrt(D))/2, (-b - sqrt(D))/2]\n",
    "    elseif D == 0\n",
    "        return (-b + sqrt(D))/2\n",
    "    else\n",
    "        return \"No real roots\"\n",
    "    end\n",
    "end\n",
    "\n",
    "function GetConfig(p::Poly_solve_Task)\n",
    "    return Dict(:coefs => p.coefs)\n",
    "end"
   ]
  },
  {
   "cell_type": "code",
   "execution_count": 16,
   "metadata": {},
   "outputs": [
    {
     "data": {
      "text/plain": [
       "Poly_solve_Task{Int64}([1, 2, -3])"
      ]
     },
     "execution_count": 16,
     "metadata": {},
     "output_type": "execute_result"
    }
   ],
   "source": [
    "pol = Poly_solve_Task([1, 2, -3])"
   ]
  },
  {
   "cell_type": "code",
   "execution_count": 17,
   "metadata": {},
   "outputs": [
    {
     "data": {
      "text/plain": [
       "2-element Vector{Float64}:\n",
       "  1.0\n",
       " -3.0"
      ]
     },
     "execution_count": 17,
     "metadata": {},
     "output_type": "execute_result"
    }
   ],
   "source": [
    "pol()"
   ]
  },
  {
   "cell_type": "code",
   "execution_count": 20,
   "metadata": {},
   "outputs": [
    {
     "data": {
      "text/plain": [
       "Dict{Symbol, Vector{Int64}} with 1 entry:\n",
       "  :coefs => [1, 2, -3]"
      ]
     },
     "execution_count": 20,
     "metadata": {},
     "output_type": "execute_result"
    }
   ],
   "source": [
    "GetConfig(pol)"
   ]
  },
  {
   "cell_type": "code",
   "execution_count": null,
   "metadata": {},
   "outputs": [],
   "source": [
    "abstract type ODE end"
   ]
  },
  {
   "cell_type": "code",
   "execution_count": 1,
   "metadata": {},
   "outputs": [],
   "source": [
    "mutable struct A\n",
    "    a::Float64\n",
    "    b::Float64\n",
    "    c::Union{Float64, Nothing}\n",
    "    function A(v::Vector{Float64})\n",
    "        new(v[1], v[2], v[3])\n",
    "    end\n",
    "    function A(a, b, c)\n",
    "        new(a, b, c)\n",
    "    end\n",
    "end"
   ]
  },
  {
   "cell_type": "code",
   "execution_count": 2,
   "metadata": {},
   "outputs": [],
   "source": [
    "function Base.string(a::A)\n",
    "    return \"A 123\"\n",
    "end"
   ]
  },
  {
   "cell_type": "code",
   "execution_count": 14,
   "metadata": {},
   "outputs": [],
   "source": [
    "function Base.show(io::IO, a::A)\n",
    "    print(io, \"123 A\")\n",
    "end"
   ]
  },
  {
   "cell_type": "code",
   "execution_count": 1,
   "metadata": {},
   "outputs": [
    {
     "data": {
      "text/plain": [
       "smth (generic function with 1 method)"
      ]
     },
     "execution_count": 1,
     "metadata": {},
     "output_type": "execute_result"
    }
   ],
   "source": [
    "abstract type A_1 end\n",
    "mutable struct A <: A_1\n",
    "    x::Float64\n",
    "end\n",
    "\n",
    "function smth(a::A_1)\n",
    "    println(\"value of field x in A = $(a.x)\")\n",
    "end"
   ]
  },
  {
   "cell_type": "code",
   "execution_count": 2,
   "metadata": {},
   "outputs": [
    {
     "name": "stdout",
     "output_type": "stream",
     "text": [
      "value of field x in A = 1.0\n"
     ]
    }
   ],
   "source": [
    "a = A(1.0)\n",
    "smth(a)"
   ]
  },
  {
   "cell_type": "code",
   "execution_count": 10,
   "metadata": {},
   "outputs": [
    {
     "data": {
      "text/plain": [
       "smth (generic function with 2 methods)"
      ]
     },
     "execution_count": 10,
     "metadata": {},
     "output_type": "execute_result"
    }
   ],
   "source": [
    "mutable struct nextA <: A_1\n",
    "    y::A\n",
    "end\n",
    "\n",
    "function smth(a::nextA)\n",
    "    smth(a.y)\n",
    "end"
   ]
  },
  {
   "cell_type": "code",
   "execution_count": 11,
   "metadata": {},
   "outputs": [
    {
     "name": "stdout",
     "output_type": "stream",
     "text": [
      "value of field x in A = 1.0\n"
     ]
    }
   ],
   "source": [
    "nexta = nextA(a)\n",
    "smth(nexta)"
   ]
  },
  {
   "cell_type": "code",
   "execution_count": 8,
   "metadata": {},
   "outputs": [
    {
     "data": {
      "text/plain": [
       "A(1.0)"
      ]
     },
     "execution_count": 8,
     "metadata": {},
     "output_type": "execute_result"
    }
   ],
   "source": [
    "a = A(1.0)"
   ]
  },
  {
   "cell_type": "code",
   "execution_count": 11,
   "metadata": {},
   "outputs": [
    {
     "ename": "LoadError",
     "evalue": "MethodError: no method matching B(::Float64)\n\u001b[0mClosest candidates are:\n\u001b[0m  B(\u001b[91m::T\u001b[39m) where T<:A_1 at In[7]:3",
     "output_type": "error",
     "traceback": [
      "MethodError: no method matching B(::Float64)\n\u001b[0mClosest candidates are:\n\u001b[0m  B(\u001b[91m::T\u001b[39m) where T<:A_1 at In[7]:3",
      "",
      "Stacktrace:",
      " [1] top-level scope",
      "   @ In[11]:1"
     ]
    }
   ],
   "source": [
    "b = B(1.0)"
   ]
  },
  {
   "cell_type": "code",
   "execution_count": 16,
   "metadata": {},
   "outputs": [
    {
     "data": {
      "text/plain": [
       "MySavedValues"
      ]
     },
     "execution_count": 16,
     "metadata": {},
     "output_type": "execute_result"
    }
   ],
   "source": [
    "struct MySavedValues{T, S}\n",
    "    t::Vector{T}\n",
    "    s::Vector{S}\n",
    "end\n",
    "\n",
    "function MySavedValues(::T, ::S) where {T, S}\n",
    "    println(T)\n",
    "    println(S)\n",
    "    MySavedValues{T, S}(Vector{T}(), Vector{S}())\n",
    "end"
   ]
  },
  {
   "cell_type": "code",
   "execution_count": 17,
   "metadata": {},
   "outputs": [
    {
     "name": "stdout",
     "output_type": "stream",
     "text": [
      "Float64\n",
      "NTuple{6, Float64}\n"
     ]
    },
    {
     "data": {
      "text/plain": [
       "MySavedValues{Float64, NTuple{6, Float64}}(Float64[], NTuple{6, Float64}[])"
      ]
     },
     "execution_count": 17,
     "metadata": {},
     "output_type": "execute_result"
    }
   ],
   "source": [
    "MySavedValues(Float64, NTuple{6, Float64})"
   ]
  },
  {
   "cell_type": "code",
   "execution_count": null,
   "metadata": {},
   "outputs": [],
   "source": []
  },
  {
   "cell_type": "code",
   "execution_count": null,
   "metadata": {},
   "outputs": [],
   "source": []
  },
  {
   "cell_type": "code",
   "execution_count": null,
   "metadata": {},
   "outputs": [],
   "source": []
  },
  {
   "cell_type": "code",
   "execution_count": null,
   "metadata": {},
   "outputs": [],
   "source": []
  },
  {
   "cell_type": "code",
   "execution_count": null,
   "metadata": {},
   "outputs": [],
   "source": [
    "abstract type ODEType end\n",
    "\n",
    "mutable struct Abstract_ODE <: ODEType\n",
    "    ODE_Sys::Function\n",
    "    ODE_Parameters::Dict{String, Any}\n",
    "    Couple_function::String\n",
    "end"
   ]
  },
  {
   "cell_type": "code",
   "execution_count": null,
   "metadata": {},
   "outputs": [],
   "source": [
    "\n",
    "\n",
    "mutable struct BS_ODE <: ODEType\n",
    "    ODE_Sys::Function\n",
    "    ODE_Parameters::Dict{String, Any}\n",
    "    Couple_function::String\n",
    "end\n",
    "\n",
    "function Get_BS_ODE(bs::BS_ODE)\n",
    "    ODE_rhs = bs.ODE_Sys(bs.ODE_Parameters, eval(Meta.parse(bs.Couple_function)))\n",
    "    return ODE(dX, u, p, t) = Base.invokelatest(ODE_rhs, dX, u, p, t)\n",
    "end\n",
    "\n",
    "function Base.show(io::IO, bs::BS_ODE)\n",
    "    for property in propertynames(bs)\n",
    "        println(io, \"[$property]: $(getproperty(bs, property))\")\n",
    "    end\n",
    "end"
   ]
  },
  {
   "cell_type": "code",
   "execution_count": 1,
   "metadata": {},
   "outputs": [
    {
     "data": {
      "text/plain": [
       "f (generic function with 1 method)"
      ]
     },
     "execution_count": 1,
     "metadata": {},
     "output_type": "execute_result"
    }
   ],
   "source": [
    "function f()\n",
    "    println(\"123\")\n",
    "end"
   ]
  },
  {
   "cell_type": "code",
   "execution_count": 8,
   "metadata": {},
   "outputs": [],
   "source": [
    "mutable struct S\n",
    "    a::Int32\n",
    "\n",
    "    function S(a::Float64)\n",
    "        println(a)\n",
    "        S(\"1\")\n",
    "    end\n",
    "\n",
    "    function S(b::String)\n",
    "        println(b)\n",
    "        new(1)\n",
    "    end\n",
    "end"
   ]
  },
  {
   "cell_type": "code",
   "execution_count": 13,
   "metadata": {},
   "outputs": [],
   "source": [
    "mutable struct S{T<:Any}\n",
    "    a::Int32\n",
    "\n",
    "    function S{T}(a::Int32) where T\n",
    "\n",
    "        new{T}(a)\n",
    "    end\n",
    "end"
   ]
  },
  {
   "cell_type": "code",
   "execution_count": 1,
   "metadata": {},
   "outputs": [
    {
     "ename": "LoadError",
     "evalue": "ArgumentError: Package matplotlib not found in current path.\n- Run `import Pkg; Pkg.add(\"matplotlib\")` to install the matplotlib package.",
     "output_type": "error",
     "traceback": [
      "ArgumentError: Package matplotlib not found in current path.\n- Run `import Pkg; Pkg.add(\"matplotlib\")` to install the matplotlib package.",
      "",
      "Stacktrace:",
      " [1] macro expansion",
      "   @ .\\loading.jl:1163 [inlined]",
      " [2] macro expansion",
      "   @ .\\lock.jl:223 [inlined]",
      " [3] require(into::Module, mod::Symbol)",
      "   @ Base .\\loading.jl:1144"
     ]
    }
   ],
   "source": [
    "using matplotlib"
   ]
  },
  {
   "cell_type": "code",
   "execution_count": 2,
   "metadata": {},
   "outputs": [],
   "source": [
    "using PyPlot"
   ]
  },
  {
   "cell_type": "code",
   "execution_count": 8,
   "metadata": {},
   "outputs": [
    {
     "ename": "LoadError",
     "evalue": "PyError ($(Expr(:escape, :(ccall(#= C:\\Users\\artyo\\.julia\\packages\\PyCall\\ygXW2\\src\\pyfncall.jl:43 =# @pysym(:PyObject_Call), PyPtr, (PyPtr, PyPtr, PyPtr), o, pyargsptr, kw))))) <class 'ValueError'>\nValueError(\"'' is not a valid value for backend; supported values are ['GTK3Agg', 'GTK3Cairo', 'GTK4Agg', 'GTK4Cairo', 'MacOSX', 'nbAgg', 'QtAgg', 'QtCairo', 'Qt5Agg', 'Qt5Cairo', 'TkAgg', 'TkCairo', 'WebAgg', 'WX', 'WXAgg', 'WXCairo', 'agg', 'cairo', 'pdf', 'pgf', 'ps', 'svg', 'template']\")\n  File \"C:\\Users\\artyo\\.julia\\conda\\3\\lib\\site-packages\\matplotlib\\__init__.py\", line 1140, in use\n    name = validate_backend(backend)\n  File \"C:\\Users\\artyo\\.julia\\conda\\3\\lib\\site-packages\\matplotlib\\rcsetup.py\", line 255, in validate_backend\n    else _validate_standard_backends(s))\n  File \"C:\\Users\\artyo\\.julia\\conda\\3\\lib\\site-packages\\matplotlib\\rcsetup.py\", line 82, in __call__\n    raise ValueError(msg)\n",
     "output_type": "error",
     "traceback": [
      "PyError ($(Expr(:escape, :(ccall(#= C:\\Users\\artyo\\.julia\\packages\\PyCall\\ygXW2\\src\\pyfncall.jl:43 =# @pysym(:PyObject_Call), PyPtr, (PyPtr, PyPtr, PyPtr), o, pyargsptr, kw))))) <class 'ValueError'>\nValueError(\"'' is not a valid value for backend; supported values are ['GTK3Agg', 'GTK3Cairo', 'GTK4Agg', 'GTK4Cairo', 'MacOSX', 'nbAgg', 'QtAgg', 'QtCairo', 'Qt5Agg', 'Qt5Cairo', 'TkAgg', 'TkCairo', 'WebAgg', 'WX', 'WXAgg', 'WXCairo', 'agg', 'cairo', 'pdf', 'pgf', 'ps', 'svg', 'template']\")\n  File \"C:\\Users\\artyo\\.julia\\conda\\3\\lib\\site-packages\\matplotlib\\__init__.py\", line 1140, in use\n    name = validate_backend(backend)\n  File \"C:\\Users\\artyo\\.julia\\conda\\3\\lib\\site-packages\\matplotlib\\rcsetup.py\", line 255, in validate_backend\n    else _validate_standard_backends(s))\n  File \"C:\\Users\\artyo\\.julia\\conda\\3\\lib\\site-packages\\matplotlib\\rcsetup.py\", line 82, in __call__\n    raise ValueError(msg)\n",
      "",
      "Stacktrace:",
      "  [1] pyerr_check",
      "    @ C:\\Users\\artyo\\.julia\\packages\\PyCall\\ygXW2\\src\\exception.jl:62 [inlined]",
      "  [2] pyerr_check",
      "    @ C:\\Users\\artyo\\.julia\\packages\\PyCall\\ygXW2\\src\\exception.jl:66 [inlined]",
      "  [3] _handle_error(msg::String)",
      "    @ PyCall C:\\Users\\artyo\\.julia\\packages\\PyCall\\ygXW2\\src\\exception.jl:83",
      "  [4] macro expansion",
      "    @ C:\\Users\\artyo\\.julia\\packages\\PyCall\\ygXW2\\src\\exception.jl:97 [inlined]",
      "  [5] #107",
      "    @ C:\\Users\\artyo\\.julia\\packages\\PyCall\\ygXW2\\src\\pyfncall.jl:43 [inlined]",
      "  [6] disable_sigint",
      "    @ .\\c.jl:473 [inlined]",
      "  [7] __pycall!",
      "    @ C:\\Users\\artyo\\.julia\\packages\\PyCall\\ygXW2\\src\\pyfncall.jl:42 [inlined]",
      "  [8] _pycall!(ret::PyCall.PyObject, o::PyCall.PyObject, args::Tuple{String}, nargs::Int64, kw::Ptr{Nothing})",
      "    @ PyCall C:\\Users\\artyo\\.julia\\packages\\PyCall\\ygXW2\\src\\pyfncall.jl:29",
      "  [9] _pycall!",
      "    @ C:\\Users\\artyo\\.julia\\packages\\PyCall\\ygXW2\\src\\pyfncall.jl:11 [inlined]",
      " [10] #_#114",
      "    @ C:\\Users\\artyo\\.julia\\packages\\PyCall\\ygXW2\\src\\pyfncall.jl:86 [inlined]",
      " [11] (::PyCall.PyObject)(args::String)",
      "    @ PyCall C:\\Users\\artyo\\.julia\\packages\\PyCall\\ygXW2\\src\\pyfncall.jl:86",
      " [12] top-level scope",
      "    @ In[8]:1"
     ]
    }
   ],
   "source": [
    "matplotlib.use(\"\")"
   ]
  }
 ],
 "metadata": {
  "kernelspec": {
   "display_name": "Julia 1.8.4",
   "language": "julia",
   "name": "julia-1.8"
  },
  "language_info": {
   "file_extension": ".jl",
   "mimetype": "application/julia",
   "name": "julia",
   "version": "1.8.4"
  },
  "vscode": {
   "interpreter": {
    "hash": "8ce802015738f7fad9eea9832a506898a03adca8eb19ee4aa72467d8e6bb710a"
   }
  }
 },
 "nbformat": 4,
 "nbformat_minor": 4
}
