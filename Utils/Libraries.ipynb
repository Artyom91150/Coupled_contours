{
 "cells": [
  {
   "cell_type": "markdown",
   "id": "252a053b-0021-4bfb-aeb5-620d1b30bff5",
   "metadata": {},
   "source": [
    "# Установка библиотек"
   ]
  },
  {
   "cell_type": "code",
   "execution_count": null,
   "id": "ba558ee5-e4fd-42e1-8e3d-146351065f07",
   "metadata": {
    "scrolled": true,
    "tags": []
   },
   "outputs": [],
   "source": [
    "import Pkg\n",
    "Pkg.add(\"DifferentialEquations\")\n",
    "Pkg.add(\"DynamicalSystems\")\n",
    "Pkg.add(\"DiffEqCallbacks\")\n",
    "Pkg.add(\"ForwardDiff\")\n",
    "Pkg.add(\"StaticArrays\")\n",
    "Pkg.add(\"ChaosTools\")"
   ]
  },
  {
   "cell_type": "code",
   "execution_count": null,
   "id": "d9dde85c",
   "metadata": {},
   "outputs": [],
   "source": [
    "import Pkg\n",
    "Pkg.add(\"SciMLBase\")\n",
    "Pkg.add(\"OrdinaryDiffEq\")"
   ]
  },
  {
   "cell_type": "code",
   "execution_count": null,
   "id": "450689cb-f2c3-4e79-bf73-4da3096c1fff",
   "metadata": {
    "scrolled": true,
    "tags": []
   },
   "outputs": [],
   "source": [
    "import Pkg\n",
    "Pkg.add(\"PyCall\")\n",
    "Pkg.add(\"PyPlot\")\n",
    "Pkg.add(\"SymPy\")"
   ]
  },
  {
   "cell_type": "code",
   "execution_count": null,
   "id": "44b4ac59-04fb-4f04-8009-a4df2222c268",
   "metadata": {
    "scrolled": true,
    "tags": []
   },
   "outputs": [],
   "source": [
    "import Pkg\n",
    "Pkg.add(\"Latexify\")\n",
    "Pkg.add(\"LaTeXStrings\")\n",
    "Pkg.add(\"SymEngine\")"
   ]
  },
  {
   "cell_type": "code",
   "execution_count": null,
   "id": "d562a373-35fb-4702-9c68-4952280b6b28",
   "metadata": {},
   "outputs": [],
   "source": [
    "import Pkg\n",
    "Pkg.add(\"BenchmarkTools\")\n",
    "Pkg.add(\"JLD2\")"
   ]
  },
  {
   "cell_type": "code",
   "execution_count": null,
   "id": "b0adbef4-7413-4336-a82f-f0bc1bfb1b6b",
   "metadata": {},
   "outputs": [],
   "source": [
    "import Pkg\n",
    "Pkg.add(\"YAML\")\n",
    "Pkg.add(\"Configurations\")"
   ]
  },
  {
   "cell_type": "code",
   "execution_count": 1,
   "id": "71e6da6e",
   "metadata": {},
   "outputs": [
    {
     "name": "stderr",
     "output_type": "stream",
     "text": [
      "\u001b[32m\u001b[1m    Updating\u001b[22m\u001b[39m registry at `C:\\Users\\artyo\\.julia\\registries\\General.toml`\n",
      "\u001b[32m\u001b[1m   Resolving\u001b[22m\u001b[39m package versions...\n",
      "\u001b[32m\u001b[1m  No Changes\u001b[22m\u001b[39m to `C:\\Users\\artyo\\.julia\\environments\\v1.8\\Project.toml`\n",
      "\u001b[32m\u001b[1m  No Changes\u001b[22m\u001b[39m to `C:\\Users\\artyo\\.julia\\environments\\v1.8\\Manifest.toml`\n"
     ]
    }
   ],
   "source": [
    "using Pkg\n",
    "Pkg.add(\"Optim\")"
   ]
  },
  {
   "cell_type": "code",
   "execution_count": 1,
   "id": "12f523eb",
   "metadata": {},
   "outputs": [
    {
     "name": "stderr",
     "output_type": "stream",
     "text": [
      "\u001b[32m\u001b[1m    Updating\u001b[22m\u001b[39m registry at `C:\\Users\\artyo\\.julia\\registries\\General.toml`\n",
      "\u001b[32m\u001b[1m   Resolving\u001b[22m\u001b[39m package versions...\n",
      "\u001b[32m\u001b[1m    Updating\u001b[22m\u001b[39m `C:\\Users\\artyo\\.julia\\environments\\v1.8\\Project.toml`\n",
      "\u001b[33m⌅\u001b[39m\u001b[90m [639c3291] \u001b[39m\u001b[92m+ RecurrenceAnalysis v1.8.1\u001b[39m\n",
      "\u001b[32m\u001b[1m  No Changes\u001b[22m\u001b[39m to `C:\\Users\\artyo\\.julia\\environments\\v1.8\\Manifest.toml`\n"
     ]
    }
   ],
   "source": [
    "import Pkg\n",
    "Pkg.add(\"RecurrenceAnalysis\")"
   ]
  }
 ],
 "metadata": {
  "kernelspec": {
   "display_name": "Julia 1.8.5",
   "language": "julia",
   "name": "julia-1.8"
  },
  "language_info": {
   "file_extension": ".jl",
   "mimetype": "application/julia",
   "name": "julia",
   "version": "1.8.5"
  },
  "vscode": {
   "interpreter": {
    "hash": "8ce802015738f7fad9eea9832a506898a03adca8eb19ee4aa72467d8e6bb710a"
   }
  }
 },
 "nbformat": 4,
 "nbformat_minor": 5
}
