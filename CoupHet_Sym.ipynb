{
 "cells": [
  {
   "cell_type": "code",
   "execution_count": 1,
   "metadata": {},
   "outputs": [],
   "source": [
    "using SymPy"
   ]
  },
  {
   "attachments": {},
   "cell_type": "markdown",
   "metadata": {},
   "source": [
    "---"
   ]
  },
  {
   "cell_type": "code",
   "execution_count": 12,
   "metadata": {},
   "outputs": [
    {
     "data": {
      "text/plain": [
       "(A, B, C)"
      ]
     },
     "metadata": {},
     "output_type": "display_data"
    }
   ],
   "source": [
    "Phi = symbols(\"phi1 phi2 phi3\")\n",
    "Psi = symbols(\"psi1 psi2 psi3\")\n",
    "\n",
    "A, B, C = symbols(\"A B C\", real = True)\n",
    "\n",
    "x = symbols(\"x\")"
   ]
  },
  {
   "cell_type": "code",
   "execution_count": 5,
   "metadata": {},
   "outputs": [
    {
     "data": {
      "text/latex": [
       "$\\left( x \\mapsto \\frac{1}{e^{10 \\cos{\\left(x \\right)}} + 1} \\right)$"
      ],
      "text/plain": [
       "           1       \n",
       "x -> --------------\n",
       "      10*cos(x)    \n",
       "     e          + 1"
      ]
     },
     "metadata": {},
     "output_type": "display_data"
    }
   ],
   "source": [
    "Couple = Lambda((x), 1/(1 + exp(10cos(x))))"
   ]
  },
  {
   "cell_type": "code",
   "execution_count": 13,
   "metadata": {},
   "outputs": [
    {
     "data": {
      "text/latex": [
       "$\\left[ \\begin{array}{r}\\frac{\\varepsilon}{e^{10 \\cos{\\left(\\phi_{1} - \\psi_{1} \\right)}} + 1} + \\left(A \\left(- \\cos{\\left(\\phi_{2} \\right)} + \\cos{\\left(\\phi_{3} \\right)}\\right) + B \\cos{\\left(\\phi_{1} \\right)} + C\\right) \\sin{\\left(\\phi_{1} \\right)}\\\\\\frac{\\varepsilon}{e^{10 \\cos{\\left(\\phi_{2} - \\psi_{2} \\right)}} + 1} + \\left(A \\left(\\cos{\\left(\\phi_{1} \\right)} - \\cos{\\left(\\phi_{3} \\right)}\\right) + B \\cos{\\left(\\phi_{2} \\right)} + C\\right) \\sin{\\left(\\phi_{2} \\right)}\\\\\\frac{\\varepsilon}{e^{10 \\cos{\\left(\\phi_{3} - \\psi_{3} \\right)}} + 1} + \\left(A \\left(- \\cos{\\left(\\phi_{1} \\right)} + \\cos{\\left(\\phi_{2} \\right)}\\right) + B \\cos{\\left(\\phi_{3} \\right)} + C\\right) \\sin{\\left(\\phi_{3} \\right)}\\\\\\frac{\\varepsilon}{e^{10 \\cos{\\left(\\phi_{1} - \\psi_{1} \\right)}} + 1} + \\left(A \\left(- \\cos{\\left(\\psi_{2} \\right)} + \\cos{\\left(\\psi_{3} \\right)}\\right) + B \\cos{\\left(\\psi_{1} \\right)} + C\\right) \\sin{\\left(\\psi_{1} \\right)}\\\\\\frac{\\varepsilon}{e^{10 \\cos{\\left(\\phi_{2} - \\psi_{2} \\right)}} + 1} + \\left(A \\left(\\cos{\\left(\\psi_{1} \\right)} - \\cos{\\left(\\psi_{3} \\right)}\\right) + B \\cos{\\left(\\psi_{2} \\right)} + C\\right) \\sin{\\left(\\psi_{2} \\right)}\\\\\\frac{\\varepsilon}{e^{10 \\cos{\\left(\\phi_{3} - \\psi_{3} \\right)}} + 1} + \\left(A \\left(- \\cos{\\left(\\psi_{1} \\right)} + \\cos{\\left(\\psi_{2} \\right)}\\right) + B \\cos{\\left(\\psi_{3} \\right)} + C\\right) \\sin{\\left(\\psi_{3} \\right)}\\end{array} \\right]$\n"
      ],
      "text/plain": [
       "6-element Vector{Sym}:\n",
       " varepsilon/(exp(10*cos(phi1 - psi1)) + 1) + (A*(-cos(phi2) + cos(phi3)) + B*cos(phi1) + C)*sin(phi1)\n",
       "  varepsilon/(exp(10*cos(phi2 - psi2)) + 1) + (A*(cos(phi1) - cos(phi3)) + B*cos(phi2) + C)*sin(phi2)\n",
       " varepsilon/(exp(10*cos(phi3 - psi3)) + 1) + (A*(-cos(phi1) + cos(phi2)) + B*cos(phi3) + C)*sin(phi3)\n",
       " varepsilon/(exp(10*cos(phi1 - psi1)) + 1) + (A*(-cos(psi2) + cos(psi3)) + B*cos(psi1) + C)*sin(psi1)\n",
       "  varepsilon/(exp(10*cos(phi2 - psi2)) + 1) + (A*(cos(psi1) - cos(psi3)) + B*cos(psi2) + C)*sin(psi2)\n",
       " varepsilon/(exp(10*cos(phi3 - psi3)) + 1) + (A*(-cos(psi1) + cos(psi2)) + B*cos(psi3) + C)*sin(psi3)"
      ]
     },
     "metadata": {},
     "output_type": "display_data"
    }
   ],
   "source": [
    "Rhs = [\n",
    "    sin(Phi[1]) * (A * (cos(Phi[3]) - cos(Phi[2])) + B * cos(Phi[1]) + C) + Eps * Couple(Psi[1] - Phi[1])\n",
    "    sin(Phi[2]) * (A * (cos(Phi[1]) - cos(Phi[3])) + B * cos(Phi[2]) + C) + Eps * Couple(Psi[2] - Phi[2])\n",
    "    sin(Phi[3]) * (A * (cos(Phi[2]) - cos(Phi[1])) + B * cos(Phi[3]) + C) + Eps * Couple(Psi[3] - Phi[3])\n",
    "    sin(Psi[1]) * (A * (cos(Psi[3]) - cos(Psi[2])) + B * cos(Psi[1]) + C) + Eps * Couple(Phi[1] - Psi[1])\n",
    "    sin(Psi[2]) * (A * (cos(Psi[1]) - cos(Psi[3])) + B * cos(Psi[2]) + C) + Eps * Couple(Phi[2] - Psi[2])\n",
    "    sin(Psi[3]) * (A * (cos(Psi[2]) - cos(Psi[1])) + B * cos(Psi[3]) + C) + Eps * Couple(Phi[3] - Psi[3])]"
   ]
  },
  {
   "attachments": {},
   "cell_type": "markdown",
   "metadata": {},
   "source": [
    "---"
   ]
  },
  {
   "cell_type": "code",
   "execution_count": null,
   "metadata": {},
   "outputs": [],
   "source": [
    "a2, a4, K, r, Eps = symbols(\"a_2 a_4 K r varepsilon\", real = True)"
   ]
  },
  {
   "cell_type": "code",
   "execution_count": 19,
   "metadata": {},
   "outputs": [
    {
     "data": {
      "text/latex": [
       "$\\left[ \\begin{array}{r}\\frac{\\varepsilon}{e^{10 \\cos{\\left(\\phi_{1} - \\psi_{1} \\right)}} + 1} + \\left(K \\left(- \\cos{\\left(\\phi_{2} \\right)} + \\cos{\\left(\\phi_{3} \\right)}\\right) \\cos{\\left(a_{4} \\right)} + 4 r \\cos{\\left(2 a_{2} \\right)} \\cos{\\left(\\phi_{1} \\right)} - 2 \\cos{\\left(a_{2} \\right)}\\right) \\sin{\\left(\\phi_{1} \\right)}\\\\\\frac{\\varepsilon}{e^{10 \\cos{\\left(\\phi_{2} - \\psi_{2} \\right)}} + 1} + \\left(K \\left(\\cos{\\left(\\phi_{1} \\right)} - \\cos{\\left(\\phi_{3} \\right)}\\right) \\cos{\\left(a_{4} \\right)} + 4 r \\cos{\\left(2 a_{2} \\right)} \\cos{\\left(\\phi_{2} \\right)} - 2 \\cos{\\left(a_{2} \\right)}\\right) \\sin{\\left(\\phi_{2} \\right)}\\\\\\frac{\\varepsilon}{e^{10 \\cos{\\left(\\phi_{3} - \\psi_{3} \\right)}} + 1} + \\left(K \\left(- \\cos{\\left(\\phi_{1} \\right)} + \\cos{\\left(\\phi_{2} \\right)}\\right) \\cos{\\left(a_{4} \\right)} + 4 r \\cos{\\left(2 a_{2} \\right)} \\cos{\\left(\\phi_{3} \\right)} - 2 \\cos{\\left(a_{2} \\right)}\\right) \\sin{\\left(\\phi_{3} \\right)}\\\\\\frac{\\varepsilon}{e^{10 \\cos{\\left(\\phi_{1} - \\psi_{1} \\right)}} + 1} + \\left(K \\left(- \\cos{\\left(\\psi_{2} \\right)} + \\cos{\\left(\\psi_{3} \\right)}\\right) \\cos{\\left(a_{4} \\right)} + 4 r \\cos{\\left(2 a_{2} \\right)} \\cos{\\left(\\psi_{1} \\right)} - 2 \\cos{\\left(a_{2} \\right)}\\right) \\sin{\\left(\\psi_{1} \\right)}\\\\\\frac{\\varepsilon}{e^{10 \\cos{\\left(\\phi_{2} - \\psi_{2} \\right)}} + 1} + \\left(K \\left(\\cos{\\left(\\psi_{1} \\right)} - \\cos{\\left(\\psi_{3} \\right)}\\right) \\cos{\\left(a_{4} \\right)} + 4 r \\cos{\\left(2 a_{2} \\right)} \\cos{\\left(\\psi_{2} \\right)} - 2 \\cos{\\left(a_{2} \\right)}\\right) \\sin{\\left(\\psi_{2} \\right)}\\\\\\frac{\\varepsilon}{e^{10 \\cos{\\left(\\phi_{3} - \\psi_{3} \\right)}} + 1} + \\left(K \\left(- \\cos{\\left(\\psi_{1} \\right)} + \\cos{\\left(\\psi_{2} \\right)}\\right) \\cos{\\left(a_{4} \\right)} + 4 r \\cos{\\left(2 a_{2} \\right)} \\cos{\\left(\\psi_{3} \\right)} - 2 \\cos{\\left(a_{2} \\right)}\\right) \\sin{\\left(\\psi_{3} \\right)}\\end{array}\\right]$\n"
      ],
      "text/plain": [
       "6×1 Matrix{Sym}:\n",
       " varepsilon/(exp(10*cos(phi1 - psi1)) + 1) + (K*(-cos(phi2) + cos(phi3))*cos(a_4) + 4*r*cos(2*a_2)*cos(phi1) - 2*cos(a_2))*sin(phi1)\n",
       "  varepsilon/(exp(10*cos(phi2 - psi2)) + 1) + (K*(cos(phi1) - cos(phi3))*cos(a_4) + 4*r*cos(2*a_2)*cos(phi2) - 2*cos(a_2))*sin(phi2)\n",
       " varepsilon/(exp(10*cos(phi3 - psi3)) + 1) + (K*(-cos(phi1) + cos(phi2))*cos(a_4) + 4*r*cos(2*a_2)*cos(phi3) - 2*cos(a_2))*sin(phi3)\n",
       " varepsilon/(exp(10*cos(phi1 - psi1)) + 1) + (K*(-cos(psi2) + cos(psi3))*cos(a_4) + 4*r*cos(2*a_2)*cos(psi1) - 2*cos(a_2))*sin(psi1)\n",
       "  varepsilon/(exp(10*cos(phi2 - psi2)) + 1) + (K*(cos(psi1) - cos(psi3))*cos(a_4) + 4*r*cos(2*a_2)*cos(psi2) - 2*cos(a_2))*sin(psi2)\n",
       " varepsilon/(exp(10*cos(phi3 - psi3)) + 1) + (K*(-cos(psi1) + cos(psi2))*cos(a_4) + 4*r*cos(2*a_2)*cos(psi3) - 2*cos(a_2))*sin(psi3)"
      ]
     },
     "metadata": {},
     "output_type": "display_data"
    }
   ],
   "source": [
    "#A = K * cos(a4)\n",
    "#B = 4r * cos(2a2)\n",
    "#C = -2cos(a2)\n",
    "\n",
    "Rhs.subs(Dict(A => K * cos(a4), B => 4r * cos(2a2), C => -2cos(a2)))"
   ]
  }
 ],
 "metadata": {
  "kernelspec": {
   "display_name": "Julia 1.8.5",
   "language": "julia",
   "name": "julia-1.8"
  },
  "language_info": {
   "file_extension": ".jl",
   "mimetype": "application/julia",
   "name": "julia",
   "version": "1.8.5"
  },
  "orig_nbformat": 4
 },
 "nbformat": 4,
 "nbformat_minor": 2
}
