{
 "cells": [
  {
   "cell_type": "code",
   "execution_count": 2,
   "metadata": {},
   "outputs": [
    {
     "data": {
      "text/plain": [
       "Dict{String, Any} with 4 entries:\n",
       "  \"c\" => 1.0e-10\n",
       "  \"b\" => \"123\"\n",
       "  \"a\" => 123\n",
       "  \"d\" => \"1e-10\""
      ]
     },
     "execution_count": 2,
     "metadata": {},
     "output_type": "execute_result"
    }
   ],
   "source": [
    "a = Dict(\"a\" => 123, \"b\" => \"123\", \"c\" => 1e-10, \"d\" => \"1e-10\")"
   ]
  },
  {
   "cell_type": "code",
   "execution_count": 15,
   "metadata": {},
   "outputs": [
    {
     "data": {
      "text/plain": [
       "1.5707963267948966"
      ]
     },
     "execution_count": 15,
     "metadata": {},
     "output_type": "execute_result"
    }
   ],
   "source": [
    "smth = Meta.eval(Meta.parse(\"pi /2 \"))"
   ]
  },
  {
   "cell_type": "markdown",
   "metadata": {},
   "source": [
    "---"
   ]
  },
  {
   "cell_type": "markdown",
   "metadata": {},
   "source": [
    "## Загрузка необходимого файла и вызов функции по соответствующему запросу конфигурационного файла"
   ]
  },
  {
   "cell_type": "code",
   "execution_count": 14,
   "metadata": {},
   "outputs": [
    {
     "data": {
      "text/plain": [
       "\"func2\""
      ]
     },
     "execution_count": 14,
     "metadata": {},
     "output_type": "execute_result"
    }
   ],
   "source": [
    "function_file_path = \"module_with_funcs.jl\"\n",
    "function_name = \"func2\""
   ]
  },
  {
   "cell_type": "code",
   "execution_count": 10,
   "metadata": {},
   "outputs": [
    {
     "name": "stderr",
     "output_type": "stream",
     "text": [
      "WARNING: replacing module Smth_module.\n"
     ]
    },
    {
     "data": {
      "text/plain": [
       "Main.Smth_module"
      ]
     },
     "execution_count": 10,
     "metadata": {},
     "output_type": "execute_result"
    }
   ],
   "source": [
    "module_name = include(function_file_path)"
   ]
  },
  {
   "cell_type": "code",
   "execution_count": 15,
   "metadata": {},
   "outputs": [
    {
     "data": {
      "text/plain": [
       "func2 (generic function with 1 method)"
      ]
     },
     "execution_count": 15,
     "metadata": {},
     "output_type": "execute_result"
    }
   ],
   "source": [
    "func = getfield(module_name, Meta.parse(function_name))"
   ]
  },
  {
   "cell_type": "code",
   "execution_count": 17,
   "metadata": {},
   "outputs": [
    {
     "data": {
      "text/plain": [
       "9"
      ]
     },
     "execution_count": 17,
     "metadata": {},
     "output_type": "execute_result"
    }
   ],
   "source": [
    "func(3)"
   ]
  },
  {
   "cell_type": "markdown",
   "metadata": {},
   "source": [
    "---"
   ]
  },
  {
   "cell_type": "markdown",
   "metadata": {},
   "source": [
    "## Считывание и обработка строковых значений из конфигурационного файла типа 1е-10, pi/2"
   ]
  },
  {
   "cell_type": "code",
   "execution_count": 21,
   "metadata": {},
   "outputs": [
    {
     "data": {
      "text/plain": [
       "Dict{String, Any} with 4 entries:\n",
       "  \"c\" => 321\n",
       "  \"b\" => \"1e-10\"\n",
       "  \"a\" => 123\n",
       "  \"d\" => \"pi/2\""
      ]
     },
     "execution_count": 21,
     "metadata": {},
     "output_type": "execute_result"
    }
   ],
   "source": [
    "Config = Dict(\"a\" => 123, \"b\" => \"1e-10\", \"c\" => 321, \"d\" => \"pi/2\")"
   ]
  },
  {
   "cell_type": "code",
   "execution_count": 29,
   "metadata": {},
   "outputs": [],
   "source": [
    "for key = keys(Config)\n",
    "    if(typeof(Config[key]) == String)\n",
    "        Config[key] = eval(Meta.parse(Config[key]))\n",
    "    end\n",
    "end"
   ]
  },
  {
   "cell_type": "code",
   "execution_count": 30,
   "metadata": {},
   "outputs": [
    {
     "data": {
      "text/plain": [
       "Dict{String, Any} with 4 entries:\n",
       "  \"c\" => 321\n",
       "  \"b\" => 1.0e-10\n",
       "  \"a\" => 123\n",
       "  \"d\" => 1.5708"
      ]
     },
     "execution_count": 30,
     "metadata": {},
     "output_type": "execute_result"
    }
   ],
   "source": [
    "Config"
   ]
  },
  {
   "cell_type": "markdown",
   "metadata": {},
   "source": [
    "---"
   ]
  },
  {
   "cell_type": "markdown",
   "metadata": {},
   "source": [
    "## Работа с YAML"
   ]
  },
  {
   "cell_type": "code",
   "execution_count": 174,
   "metadata": {},
   "outputs": [],
   "source": [
    "using YAML, Configurations\n",
    "#include(\"Utils.jl\")"
   ]
  },
  {
   "cell_type": "code",
   "execution_count": 34,
   "metadata": {},
   "outputs": [
    {
     "data": {
      "text/plain": [
       "\"config.yaml\""
      ]
     },
     "execution_count": 34,
     "metadata": {},
     "output_type": "execute_result"
    }
   ],
   "source": [
    "config_file_name = \"config.yaml\""
   ]
  },
  {
   "cell_type": "code",
   "execution_count": 44,
   "metadata": {},
   "outputs": [
    {
     "data": {
      "text/plain": [
       "Dict{Any, Any} with 5 entries:\n",
       "  \"Task\"          => \"PlotODESolution\"\n",
       "  \"ODE_File_Name\" => \"Utils\\\\BS_Cos_System.jl\"\n",
       "  \"Int_setings\"   => Dict{Any, Any}(\"reltol\"=>1.0e-13, \"maxiters\"=>1.0e10, \"tra…\n",
       "  \"Parameters\"    => Dict{Any, Any}[Dict(\"name\"=>\"K\", \"Lname\"=>\"r\\\"K\\\"\", \"value…\n",
       "  \"SubTask\"       => Dict{Any, Any}(\"TimeSeries\"=>Dict{Any, Any}(\"proj\"=>[\"proj…"
      ]
     },
     "execution_count": 44,
     "metadata": {},
     "output_type": "execute_result"
    }
   ],
   "source": [
    "data = ispath(config_file_name) ? YAML.load_file(config_file_name) : error(\"Configuration file \" * string(config_file_name) * \" does not exist!\")"
   ]
  },
  {
   "cell_type": "code",
   "execution_count": 22,
   "metadata": {},
   "outputs": [
    {
     "data": {
      "text/plain": [
       "Dict{Any, Any} with 4 entries:\n",
       "  \"Task\"          => \"Do_smth\"\n",
       "  \"ODE_File_Name\" => \"Utils\\\\BS_Sin_System.jl\"\n",
       "  \"Int_setings\"   => Dict{Any, Any}(\"reltol\"=>1.0e-13, \"maxiters\"=>1.0e10, \"tra…\n",
       "  \"Parameters\"    => Dict{Any, Any}[Dict(\"name\"=>\"a\", \"Lname\"=>\"r\\\"\\\\alpha\\\"\", …"
      ]
     },
     "execution_count": 22,
     "metadata": {},
     "output_type": "execute_result"
    }
   ],
   "source": [
    "YAMLUtils.ParseConfig!(data)"
   ]
  },
  {
   "cell_type": "code",
   "execution_count": 180,
   "metadata": {},
   "outputs": [],
   "source": [
    "YAML.write_file(\"testYAML.yaml\", Dict(\"a\" => 1, \"b\" => [1, 2, 3]))"
   ]
  },
  {
   "cell_type": "markdown",
   "metadata": {},
   "source": [
    "---"
   ]
  },
  {
   "cell_type": "markdown",
   "metadata": {},
   "source": [
    "## Время и даты"
   ]
  },
  {
   "cell_type": "code",
   "execution_count": 25,
   "metadata": {},
   "outputs": [],
   "source": [
    "using Dates"
   ]
  },
  {
   "cell_type": "code",
   "execution_count": 40,
   "metadata": {},
   "outputs": [
    {
     "data": {
      "text/plain": [
       "2022-11-01T12:34:14.199"
      ]
     },
     "execution_count": 40,
     "metadata": {},
     "output_type": "execute_result"
    }
   ],
   "source": [
    "time1 = now()"
   ]
  },
  {
   "cell_type": "code",
   "execution_count": 48,
   "metadata": {},
   "outputs": [
    {
     "data": {
      "text/plain": [
       "2022-11-01T12:36:34.534"
      ]
     },
     "execution_count": 48,
     "metadata": {},
     "output_type": "execute_result"
    }
   ],
   "source": [
    "time2 = now()"
   ]
  },
  {
   "cell_type": "code",
   "execution_count": 44,
   "metadata": {},
   "outputs": [
    {
     "data": {
      "text/plain": [
       "\"2022/11/01 12:34:14\""
      ]
     },
     "execution_count": 44,
     "metadata": {},
     "output_type": "execute_result"
    }
   ],
   "source": [
    "Dates.format(time1, \"yyyy/mm/dd HH:MM:SS\")"
   ]
  },
  {
   "cell_type": "code",
   "execution_count": 57,
   "metadata": {},
   "outputs": [
    {
     "name": "stdout",
     "output_type": "stream",
     "text": [
      "Elapsed time : 2 minutes, 20 seconds, 335 milliseconds"
     ]
    }
   ],
   "source": [
    "print(\"Elapsed time : \" * string(canonicalize(time2 - time1)))"
   ]
  },
  {
   "cell_type": "markdown",
   "metadata": {},
   "source": [
    "---"
   ]
  },
  {
   "cell_type": "markdown",
   "metadata": {},
   "source": [
    "## Создание функции системы ДУ с параемтрами заданными из конф. файла. Инетгрирование и вычисление Ляпуновских показателей"
   ]
  },
  {
   "cell_type": "code",
   "execution_count": 99,
   "metadata": {},
   "outputs": [],
   "source": [
    "using DifferentialEquations\n",
    "using DynamicalSystems\n",
    "using ForwardDiff"
   ]
  },
  {
   "cell_type": "code",
   "execution_count": 100,
   "metadata": {},
   "outputs": [
    {
     "data": {
      "text/plain": [
       "getSystem (generic function with 1 method)"
      ]
     },
     "execution_count": 100,
     "metadata": {},
     "output_type": "execute_result"
    }
   ],
   "source": [
    "function getSystem(dict::Dict)\n",
    "    a = dict[\"a\"]\n",
    "    b = dict[\"b\"]\n",
    "    function System(dX, X, p, t)\n",
    "        x1, x2 = X\n",
    "        dX[1] = x1 + a\n",
    "        dX[2] = x2 * b\n",
    "        return SVector{2}(dX)\n",
    "    end\n",
    "end"
   ]
  },
  {
   "cell_type": "code",
   "execution_count": 101,
   "metadata": {},
   "outputs": [
    {
     "data": {
      "text/plain": [
       "Dict{String, Int64} with 2 entries:\n",
       "  \"b\" => 4\n",
       "  \"a\" => 2"
      ]
     },
     "execution_count": 101,
     "metadata": {},
     "output_type": "execute_result"
    }
   ],
   "source": [
    "config = Dict(\"a\" => 2, \"b\" => 4)"
   ]
  },
  {
   "cell_type": "code",
   "execution_count": 102,
   "metadata": {},
   "outputs": [
    {
     "data": {
      "text/plain": [
       "(::var\"#System#74\"{Int64, Int64}) (generic function with 1 method)"
      ]
     },
     "execution_count": 102,
     "metadata": {},
     "output_type": "execute_result"
    }
   ],
   "source": [
    "Sys1 = getSystem(config)"
   ]
  },
  {
   "cell_type": "code",
   "execution_count": 161,
   "metadata": {},
   "outputs": [
    {
     "name": "stderr",
     "output_type": "stream",
     "text": [
      "WARNING: replacing module Computation_Utils.\n"
     ]
    },
    {
     "data": {
      "text/plain": [
       "Main.Computation_Utils"
      ]
     },
     "execution_count": 161,
     "metadata": {},
     "output_type": "execute_result"
    }
   ],
   "source": [
    "include(\"Computation_Utils.jl\")"
   ]
  },
  {
   "cell_type": "code",
   "execution_count": 229,
   "metadata": {},
   "outputs": [
    {
     "data": {
      "text/plain": [
       "getCond (generic function with 1 method)"
      ]
     },
     "execution_count": 229,
     "metadata": {},
     "output_type": "execute_result"
    }
   ],
   "source": [
    "function getCond(callback_func)\n",
    "\n",
    "    function myCond(x, t, integrator)\n",
    "        return callback_func(x)\n",
    "    end\n",
    "    return myCond\n",
    "end"
   ]
  },
  {
   "cell_type": "code",
   "execution_count": 230,
   "metadata": {},
   "outputs": [
    {
     "data": {
      "text/plain": [
       "(::var\"#myCond#88\"{var\"#89#90\"}) (generic function with 1 method)"
      ]
     },
     "execution_count": 230,
     "metadata": {},
     "output_type": "execute_result"
    }
   ],
   "source": [
    "myCond1 = getCond(x -> sin(x[1] - 0.25))"
   ]
  },
  {
   "cell_type": "code",
   "execution_count": 231,
   "metadata": {},
   "outputs": [
    {
     "data": {
      "text/plain": [
       "0.6816387600233341"
      ]
     },
     "execution_count": 231,
     "metadata": {},
     "output_type": "execute_result"
    }
   ],
   "source": [
    "myCond1(1, 2, 3)"
   ]
  },
  {
   "cell_type": "code",
   "execution_count": 271,
   "metadata": {},
   "outputs": [
    {
     "ename": "LoadError",
     "evalue": "ArgumentError: reducing over an empty collection is not allowed",
     "output_type": "error",
     "traceback": [
      "ArgumentError: reducing over an empty collection is not allowed",
      "",
      "Stacktrace:",
      "  [1] _empty_reduce_error()",
      "    @ Base .\\reduce.jl:299",
      "  [2] reduce_empty(op::Function, #unused#::Type{Any})",
      "    @ Base .\\reduce.jl:309",
      "  [3] mapreduce_empty(#unused#::typeof(identity), op::Function, T::Type)",
      "    @ Base .\\reduce.jl:343",
      "  [4] reduce_empty(op::Base.MappingRF{typeof(identity), typeof(max)}, #unused#::Type{Any})",
      "    @ Base .\\reduce.jl:329",
      "  [5] reduce_empty_iter",
      "    @ .\\reduce.jl:355 [inlined]",
      "  [6] mapreduce_empty_iter(f::Function, op::Function, itr::Vector{Any}, ItrEltype::Base.HasEltype)",
      "    @ Base .\\reduce.jl:351",
      "  [7] _mapreduce(f::typeof(identity), op::typeof(max), #unused#::IndexLinear, A::Vector{Any})",
      "    @ Base .\\reduce.jl:400",
      "  [8] _mapreduce_dim",
      "    @ .\\reducedim.jl:318 [inlined]",
      "  [9] #mapreduce#672",
      "    @ .\\reducedim.jl:310 [inlined]",
      " [10] mapreduce",
      "    @ .\\reducedim.jl:310 [inlined]",
      " [11] #_maximum#690",
      "    @ .\\reducedim.jl:878 [inlined]",
      " [12] _maximum",
      "    @ .\\reducedim.jl:878 [inlined]",
      " [13] #_maximum#689",
      "    @ .\\reducedim.jl:877 [inlined]",
      " [14] _maximum(a::Vector{Any}, ::Colon)",
      "    @ Base .\\reducedim.jl:877",
      " [15] #maximum#687",
      "    @ .\\reducedim.jl:873 [inlined]",
      " [16] maximum",
      "    @ .\\reducedim.jl:873 [inlined]",
      " [17] numargs(f::Int64)",
      "    @ SciMLBase C:\\Users\\artyo\\.julia\\packages\\SciMLBase\\L7Nun\\src\\utils.jl:13",
      " [18] isinplace(f::Int64, inplace_param_number::Int64)",
      "    @ SciMLBase C:\\Users\\artyo\\.julia\\packages\\SciMLBase\\L7Nun\\src\\utils.jl:42",
      " [19] ODEFunction(f::Int64; kwargs::Base.Iterators.Pairs{Symbol, Union{Nothing, typeof(SciMLBase.DEFAULT_OBSERVED)}, NTuple{12, Symbol}, NamedTuple{(:analytic, :tgrad, :jac, :jvp, :vjp, :Wfact, :Wfact_t, :paramjac, :syms, :indepsym, :observed, :colorvec), Tuple{Nothing, Nothing, Nothing, Nothing, Nothing, Nothing, Nothing, Nothing, Nothing, Nothing, typeof(SciMLBase.DEFAULT_OBSERVED), Nothing}}})",
      "    @ SciMLBase C:\\Users\\artyo\\.julia\\packages\\SciMLBase\\L7Nun\\src\\scimlfunctions.jl:508",
      " [20] convert",
      "    @ C:\\Users\\artyo\\.julia\\packages\\SciMLBase\\L7Nun\\src\\scimlfunctions.jl:1429 [inlined]",
      " [21] ODEProblem(f::Int64, u0::Vector{Int64}, tspan::Tuple{Float64, Float64}, p::SciMLBase.NullParameters; kwargs::Base.Iterators.Pairs{Union{}, Union{}, Tuple{}, NamedTuple{(), Tuple{}}})",
      "    @ SciMLBase C:\\Users\\artyo\\.julia\\packages\\SciMLBase\\L7Nun\\src\\problems\\ode_problems.jl:76",
      " [22] ODEProblem (repeats 2 times)",
      "    @ C:\\Users\\artyo\\.julia\\packages\\SciMLBase\\L7Nun\\src\\problems\\ode_problems.jl:76 [inlined]",
      " [23] SolveODE(ODESystem::Int64, x_0::Vector{Int64}, time_span::Int64; trans_time::Float64, callback_func::Function, kwargs::Dict{String, Float64})",
      "    @ Main.Computation_Utils c:\\Users\\artyo\\YandexDisk\\Other\\Julia\\Computation_Utils.jl:37",
      " [24] top-level scope",
      "    @ In[271]:1",
      " [25] eval",
      "    @ .\\boot.jl:360 [inlined]",
      " [26] include_string(mapexpr::typeof(REPL.softscope), mod::Module, code::String, filename::String)",
      "    @ Base .\\loading.jl:1116"
     ]
    }
   ],
   "source": [
    "sol = Computation_Utils.SolveODE(Sys1, [1, 1], 100; kwargs = Dict(\"reltol\" => 1e-10), callback_func = myCond1)"
   ]
  },
  {
   "cell_type": "code",
   "execution_count": 50,
   "metadata": {},
   "outputs": [
    {
     "data": {
      "text/plain": [
       "2-dimensional continuous dynamical system\n",
       " state:       [1.0, 2.0]\n",
       " rule f:      System\n",
       " in-place?    true\n",
       " jacobian:    ForwardDiff\n",
       " parameters:  [1.0, 2.0]"
      ]
     },
     "execution_count": 50,
     "metadata": {},
     "output_type": "execute_result"
    }
   ],
   "source": [
    "lvDs = ContinuousDynamicalSystem(Sys1, [1.0, 2.0], [1.0, 2.0])"
   ]
  },
  {
   "cell_type": "code",
   "execution_count": 51,
   "metadata": {},
   "outputs": [
    {
     "data": {
      "text/plain": [
       "2-element Vector{Float64}:\n",
       " 3.910217249845047e-14\n",
       " 2.9757621411337013e-14"
      ]
     },
     "execution_count": 51,
     "metadata": {},
     "output_type": "execute_result"
    }
   ],
   "source": [
    "lyapunovspectrum(lvDs, 2000)"
   ]
  },
  {
   "cell_type": "code",
   "execution_count": 91,
   "metadata": {},
   "outputs": [
    {
     "data": {
      "text/plain": [
       "BS_Uni_Sys (generic function with 2 methods)"
      ]
     },
     "execution_count": 91,
     "metadata": {},
     "output_type": "execute_result"
    }
   ],
   "source": [
    "include(\"Utils\\\\BS_Uni_System.jl\")"
   ]
  },
  {
   "cell_type": "code",
   "execution_count": 48,
   "metadata": {},
   "outputs": [
    {
     "data": {
      "text/plain": [
       "SubFunc (generic function with 1 method)"
      ]
     },
     "execution_count": 48,
     "metadata": {},
     "output_type": "execute_result"
    }
   ],
   "source": [
    "function OuterFunc(SideFunc)\n",
    "    function InnerFunc(dX, X, p, t)\n",
    "        dX[1] = X[1] + SubFunc(p[1])\n",
    "        dX[2] = X[2] + SideFunc(p[2])\n",
    "        dX[1:2] .= dX[1:2] + [12, 34]\n",
    "        return dX\n",
    "    end\n",
    "    return InnerFunc\n",
    "end\n",
    "\n",
    "function SubFunc(x)\n",
    "    return x^2\n",
    "end"
   ]
  },
  {
   "cell_type": "code",
   "execution_count": 92,
   "metadata": {},
   "outputs": [
    {
     "data": {
      "text/plain": [
       "(::var\"#Uni_Sys!#71\"{var\"#72#73\"}) (generic function with 1 method)"
      ]
     },
     "execution_count": 92,
     "metadata": {},
     "output_type": "execute_result"
    }
   ],
   "source": [
    "func = BS_Uni_Sys(x -> x^2)"
   ]
  },
  {
   "cell_type": "code",
   "execution_count": 93,
   "metadata": {},
   "outputs": [
    {
     "data": {
      "text/plain": [
       "6-element SVector{6, Float64} with indices SOneTo(6):\n",
       " 41.42354138141536\n",
       " 48.33666772782265\n",
       " 46.71218191041544\n",
       " 38.689757070869234\n",
       " 48.57869928890133\n",
       " 47.31398714249025"
      ]
     },
     "execution_count": 93,
     "metadata": {},
     "output_type": "execute_result"
    }
   ],
   "source": [
    "func(zeros(6), 1.0 : 6.0, 1 : 5, 0)"
   ]
  },
  {
   "cell_type": "code",
   "execution_count": 95,
   "metadata": {},
   "outputs": [
    {
     "data": {
      "text/plain": [
       "6-dimensional continuous dynamical system\n",
       " state:       [1.0, 2.0, 3.0, 4.0, 5.0, 6.0]\n",
       " rule f:      Uni_Sys!\n",
       " in-place?    true\n",
       " jacobian:    ForwardDiff\n",
       " parameters:  [1, 2, 3, 4, 5]"
      ]
     },
     "execution_count": 95,
     "metadata": {},
     "output_type": "execute_result"
    }
   ],
   "source": [
    "lvDs = ContinuousDynamicalSystem(func, 1.0 : 6.0, 1 : 5)"
   ]
  },
  {
   "cell_type": "code",
   "execution_count": 51,
   "metadata": {},
   "outputs": [
    {
     "data": {
      "text/plain": [
       "(::var\"#InnerFunc#32\"{var\"#35#36\"}) (generic function with 1 method)"
      ]
     },
     "execution_count": 51,
     "metadata": {},
     "output_type": "execute_result"
    }
   ],
   "source": [
    "func = OuterFunc(x -> x^2)"
   ]
  },
  {
   "cell_type": "code",
   "execution_count": 52,
   "metadata": {},
   "outputs": [
    {
     "data": {
      "text/plain": [
       "2-element Vector{Int64}:\n",
       " 40\n",
       " 74"
      ]
     },
     "execution_count": 52,
     "metadata": {},
     "output_type": "execute_result"
    }
   ],
   "source": [
    "func([1, 2], [3, 4], [5, 6], 0)"
   ]
  },
  {
   "cell_type": "code",
   "execution_count": 53,
   "metadata": {},
   "outputs": [
    {
     "data": {
      "text/plain": [
       "2-dimensional continuous dynamical system\n",
       " state:       [0.0, 0.0]\n",
       " rule f:      InnerFunc\n",
       " in-place?    true\n",
       " jacobian:    ForwardDiff\n",
       " parameters:  [0.0, 0.0]"
      ]
     },
     "execution_count": 53,
     "metadata": {},
     "output_type": "execute_result"
    }
   ],
   "source": [
    "lvDs = ContinuousDynamicalSystem(OuterFunc(x -> x^2), zeros(2), zeros(2))"
   ]
  },
  {
   "cell_type": "code",
   "execution_count": 96,
   "metadata": {},
   "outputs": [
    {
     "data": {
      "text/plain": [
       "6-element Vector{Float64}:\n",
       "  1.2147253237836189\n",
       " -0.21588494762830343\n",
       " -5.735149014560517\n",
       " -7.117406117834933\n",
       " -7.7474014800812\n",
       " -9.474269769509423"
      ]
     },
     "execution_count": 96,
     "metadata": {},
     "output_type": "execute_result"
    }
   ],
   "source": [
    "lyapunovspectrum(lvDs, 20)"
   ]
  },
  {
   "cell_type": "markdown",
   "metadata": {},
   "source": [
    "---"
   ]
  },
  {
   "cell_type": "markdown",
   "metadata": {},
   "source": [
    "## Создание переменной по имени и задание ей значения по данным из конфиг. файла"
   ]
  },
  {
   "cell_type": "code",
   "execution_count": 214,
   "metadata": {},
   "outputs": [
    {
     "data": {
      "text/plain": [
       "Dict{String, Any} with 2 entries:\n",
       "  \"name\"  => \"a\"\n",
       "  \"value\" => 323"
      ]
     },
     "execution_count": 214,
     "metadata": {},
     "output_type": "execute_result"
    }
   ],
   "source": [
    "config = Dict(\"name\" => \"a\", \"value\" => 323)"
   ]
  },
  {
   "cell_type": "code",
   "execution_count": 215,
   "metadata": {},
   "outputs": [
    {
     "data": {
      "text/plain": [
       "\"a = 323\""
      ]
     },
     "execution_count": 215,
     "metadata": {},
     "output_type": "execute_result"
    }
   ],
   "source": [
    "someExpr = config[\"name\"] * \" = \" * string(config[\"value\"])"
   ]
  },
  {
   "cell_type": "code",
   "execution_count": 218,
   "metadata": {},
   "outputs": [
    {
     "data": {
      "text/plain": [
       "323"
      ]
     },
     "execution_count": 218,
     "metadata": {},
     "output_type": "execute_result"
    }
   ],
   "source": [
    "eval(Meta.parse(someExpr))"
   ]
  },
  {
   "cell_type": "code",
   "execution_count": 220,
   "metadata": {},
   "outputs": [
    {
     "name": "stdout",
     "output_type": "stream",
     "text": [
      "323"
     ]
    }
   ],
   "source": [
    "print(a)"
   ]
  },
  {
   "cell_type": "markdown",
   "metadata": {},
   "source": [
    "---"
   ]
  },
  {
   "cell_type": "code",
   "execution_count": 322,
   "metadata": {},
   "outputs": [],
   "source": [
    "using JLD"
   ]
  },
  {
   "cell_type": "code",
   "execution_count": 323,
   "metadata": {},
   "outputs": [
    {
     "data": {
      "text/plain": [
       "\"Results\\\\test\""
      ]
     },
     "execution_count": 323,
     "metadata": {},
     "output_type": "execute_result"
    }
   ],
   "source": [
    "SavePath = \"Results\\\\test\""
   ]
  },
  {
   "cell_type": "code",
   "execution_count": 333,
   "metadata": {},
   "outputs": [
    {
     "data": {
      "text/plain": [
       "\"Results\\\\test\""
      ]
     },
     "execution_count": 333,
     "metadata": {},
     "output_type": "execute_result"
    }
   ],
   "source": [
    "mkpath(SavePath)"
   ]
  },
  {
   "cell_type": "code",
   "execution_count": 334,
   "metadata": {},
   "outputs": [],
   "source": [
    "save(SavePath * \"\\\\\" * \"TaskName\" * \"Data.jld\", \"sol\", Tosave)"
   ]
  },
  {
   "cell_type": "code",
   "execution_count": 1,
   "metadata": {},
   "outputs": [
    {
     "ename": "ErrorException",
     "evalue": "syntax: invalid \"import\" statement: expected identifier",
     "output_type": "error",
     "traceback": [
      "syntax: invalid \"import\" statement: expected identifier\n",
      "\n",
      "Stacktrace:\n",
      " [1] top-level scope\n",
      "   @ c:\\Users\\artyo\\YandexDisk\\Other\\Julia\\BS_module\\sandbox_notebook.ipynb:1"
     ]
    }
   ],
   "source": [
    "module_name = import(raw\"ODEs\\BS_Uni_System.jl\")"
   ]
  },
  {
   "cell_type": "code",
   "execution_count": 4,
   "metadata": {},
   "outputs": [
    {
     "data": {
      "text/plain": [
       "Dict{String, Dict{String, Int64}} with 1 entry:\n",
       "  \"a\" => Dict(\"b\"=>3)"
      ]
     },
     "metadata": {},
     "output_type": "display_data"
    }
   ],
   "source": [
    "config = Dict(\"a\" => Dict(\"b\" => 3))"
   ]
  },
  {
   "cell_type": "code",
   "execution_count": 5,
   "metadata": {},
   "outputs": [
    {
     "data": {
      "text/plain": [
       "Dict{String, Int64} with 1 entry:\n",
       "  \"b\" => 3"
      ]
     },
     "metadata": {},
     "output_type": "display_data"
    }
   ],
   "source": [
    "config[\"a\"]"
   ]
  },
  {
   "cell_type": "code",
   "execution_count": 7,
   "metadata": {},
   "outputs": [
    {
     "data": {
      "text/plain": [
       "true"
      ]
     },
     "metadata": {},
     "output_type": "display_data"
    }
   ],
   "source": [
    "haskey(config[\"a\"], \"b\")"
   ]
  },
  {
   "cell_type": "code",
   "execution_count": 2,
   "metadata": {},
   "outputs": [],
   "source": [
    "using PyCall"
   ]
  },
  {
   "cell_type": "code",
   "execution_count": 5,
   "metadata": {},
   "outputs": [
    {
     "data": {
      "text/plain": [
       "PyObject <module 'Utils.Matlotlib_Utils' from 'c:\\\\Users\\\\artyo\\\\YandexDisk\\\\Other\\\\Julia\\\\BS_module\\\\Utils\\\\Matlotlib_Utils.py'>"
      ]
     },
     "metadata": {},
     "output_type": "display_data"
    }
   ],
   "source": [
    "pushfirst!(PyVector(pyimport(\"sys\").\"path\"), \"\")\n",
    "GU =  pyimport(\"Utils.Matlotlib_Utils\")"
   ]
  },
  {
   "cell_type": "code",
   "execution_count": 6,
   "metadata": {},
   "outputs": [
    {
     "data": {
      "text/plain": [
       "true"
      ]
     },
     "metadata": {},
     "output_type": "display_data"
    }
   ],
   "source": [
    "haskey(GU, \"plt\")"
   ]
  },
  {
   "cell_type": "markdown",
   "metadata": {},
   "source": [
    "---"
   ]
  },
  {
   "cell_type": "code",
   "execution_count": 1,
   "metadata": {},
   "outputs": [],
   "source": [
    "using YAML\n",
    "using Configurations"
   ]
  },
  {
   "cell_type": "code",
   "execution_count": 2,
   "metadata": {},
   "outputs": [
    {
     "data": {
      "text/plain": [
       "Main.Graphics_Utils"
      ]
     },
     "metadata": {},
     "output_type": "display_data"
    }
   ],
   "source": [
    "## Importing utils ##\n",
    "include(\"Utils\\\\Computation_Utils.jl\")\n",
    "include(\"Utils\\\\CallBack_Utils.jl\")\n",
    "include(\"Utils\\\\YAML_Utils.jl\")\n",
    "include(\"Utils\\\\Graphics_Utils.jl\")"
   ]
  },
  {
   "cell_type": "code",
   "execution_count": 3,
   "metadata": {},
   "outputs": [
    {
     "data": {
      "text/plain": [
       "Dict{Any, Any} with 7 entries:\n",
       "  \"Couple_func\"       => \"x -> 1 - cos(x)\"\n",
       "  \"Task\"              => \"SolveODE\"\n",
       "  \"ODE_File_Name\"     => \"ODEs\\\\BS_Uni_System.jl\"\n",
       "  \"Parameters\"        => Dict{Any, Any}[Dict(\"name\"=>\"K\", \"Lname\"=>\"r\\\"K\\\"\", \"v…\n",
       "  \"ODE_Func_Name\"     => \"Get_Uni_Sys\"\n",
       "  \"OutputProperties\"  => Dict{Any, Any}(\"DataSettings\"=>Dict{Any, Any}(\"DataFil…\n",
       "  \"ODESolver_setings\" => Dict{Any, Any}(\"trans_time\"=>2000, \"time_span\"=>500.0,…"
      ]
     },
     "metadata": {},
     "output_type": "display_data"
    }
   ],
   "source": [
    "config_dict = YAML.load_file(\"config.yaml\")"
   ]
  },
  {
   "cell_type": "code",
   "execution_count": 4,
   "metadata": {},
   "outputs": [
    {
     "name": "stdout",
     "output_type": "stream",
     "text": [
      "Required fileds procceed\n",
      "Optional fileds procceed\n"
     ]
    }
   ],
   "source": [
    "# Required fileds\n",
    "module_name = include(config_dict[\"ODE_File_Name\"])\n",
    "ODE_func = getfield(module_name, Meta.parse(config_dict[\"ODE_Func_Name\"]))(YAML_Utils.MakeParametersDict(config_dict), eval(Meta.parse(config_dict[\"Couple_func\"])))\n",
    "InitCond = config_dict[\"ODESolver_setings\"][\"InitCond\"]\n",
    "time_span = config_dict[\"ODESolver_setings\"][\"time_span\"]\n",
    "println(\"Required fileds procceed\")\n",
    "\n",
    "# Optional fields\n",
    "ODESolverKwargs = haskey(config_dict[\"ODESolver_setings\"], \"kwargs\") ? config_dict[\"ODESolver_setings\"][\"kwargs\"] : nothing\n",
    "trans_time = haskey(config_dict[\"ODESolver_setings\"], \"trans_time\") ? config_dict[\"ODESolver_setings\"][\"trans_time\"] : nothing\n",
    "callback = haskey(config_dict[\"ODESolver_setings\"], \"callback\") ? Callback_Utils.ParseAnonCondition(eval(Meta.parse(config_dict[\"ODESolver_setings\"][\"callback\"]))) : nothing\n",
    "println(\"Optional fileds procceed\")"
   ]
  },
  {
   "cell_type": "code",
   "execution_count": 5,
   "metadata": {},
   "outputs": [
    {
     "name": "stdout",
     "output_type": "stream",
     "text": [
      "SolveODE succeed\n"
     ]
    }
   ],
   "source": [
    "sol = Computation_Utils.SolveODE(ODE_func, InitCond, time_span;\n",
    "                                 trans_time = trans_time,\n",
    "                                 kwargs = config_dict[\"ODESolver_setings\"][\"kwargs\"],\n",
    "                                 callback_func = callback);\n",
    "println(\"SolveODE succeed\")"
   ]
  },
  {
   "cell_type": "code",
   "execution_count": 6,
   "metadata": {},
   "outputs": [
    {
     "data": {
      "text/plain": [
       "Main.Computation_Utils.py_sol([0.0, 9.999999999999999e-5, 0.0010999999999999998, 0.011099999999999997, 0.11109999999999996, 1.1110999999999995, 11.111099999999993, 58.35773561791239, 82.25115798507217, 90.3932182801791  …  158.58069974161856, 167.31262773724038, 176.0103898943214, 184.71881324871214, 193.45655032000312, 210.9862294384757, 233.8376506595398, 278.8702407790047, 380.11928479995754, 500.0], [[8.025941793041993e-15, 8.025619828364852e-15, 8.02240018159344e-15, 7.990203713879309e-15, 7.64783584438109e-15, 5.3592811895527454e-15, 1.6584054008667902e-14, 8.286133452399806e-10, 5.520837241857405e-7, 3.492479502923725e-7  …  8.206846010106824e-8, 8.001103474503469e-8, 7.610168234439043e-8, 7.294391159032454e-8, 7.141420784016191e-8, -1.4584264435072127e-8, 3.0050498044061157e-9, -4.929650810040843e-10, 4.7009184970204666e-11, -3.916816149216557e-12], [1.8748062585352087e-14, 1.8747307633695343e-14, 1.873975811712789e-14, 1.866426295145338e-14, 1.7924653674658127e-14, 1.2308204106184157e-14, 2.4757163286016774e-14, 1.2121909692633757e-9, 8.076519044287332e-7, 5.109202906800606e-7  …  1.200592544875524e-7, 1.1704940566023956e-7, 1.1133034702768302e-7, 1.0671079392062432e-7, 1.0447295578297561e-7, -2.1335548463547543e-8, 4.396133018822394e-9, -7.211661729454902e-10, 6.876957899643969e-11, -5.731333876476025e-12], [3.115801075459859e-14, 3.115676730481101e-14, 3.114433280693521e-14, 3.101998782817719e-14, 2.980449789393867e-14, 1.9979215947394627e-14, 4.256090157251421e-14, 2.1229726773241643e-9, 1.4144820826325314e-6, 8.948008160919738e-7  …  2.1026591086858928e-7, 2.049946176903032e-7, 1.9497853330797037e-7, 1.868880723837447e-7, 1.8296883020761457e-7, -3.7366020523932036e-8, 7.699171415004777e-9, -1.2630150817319012e-9, 1.2043952750905118e-10, -1.0036902171212228e-11], [4.301209970421802e-14, 4.3010376638083806e-14, 4.2993145976741626e-14, 4.282184249338013e-14, 4.1175922830031086e-14, 2.7793168731403835e-14, 6.58462654621245e-14, 3.2380605678563215e-9, 2.157435906324497e-6, 1.3647930889336215e-6  …  3.2070763531228465e-7, 3.1266761004206754e-7, 2.973906024608056e-7, 2.850506428691019e-7, 2.790728344071856e-7, -5.6992462545785435e-8, 1.1743145035532266e-8, -1.926411275364327e-9, 1.837010471835447e-10, -1.530762415112417e-11], [4.940696653059769e-14, 4.940498811316781e-14, 4.9385404564881054e-14, 4.9189357040310766e-14, 4.7322442793131403e-14, 3.1518506514229323e-14, 7.2242364908342e-14, 3.549586097541955e-9, 2.364997290377902e-6, 1.496096370927106e-6  …  3.5156208124498473e-7, 3.427485456827221e-7, 3.260017721551562e-7, 3.124746185503341e-7, 3.0592170553598664e-7, -6.247555919352499e-8, 1.2872925754198545e-8, -2.1117460116092634e-9, 2.0137251861967296e-10, -1.6781813198213883e-11], [6.6419701614484e-14, 6.64170370792249e-14, 6.63903917266339e-14, 6.612482367164612e-14, 6.353782570324803e-14, 4.2527971420367665e-14, 9.774894892560202e-14, 4.84795272750257e-9, 3.230065373227919e-6, 2.0433380393955796e-6  …  4.801563836481138e-7, 4.6811902916666015e-7, 4.452466285072253e-7, 4.26771515900123e-7, 4.178216746996565e-7, -8.532784299795736e-8, 1.7581578249683547e-8, -2.884180007859621e-9, 2.750333261691867e-10, -2.2919808403187727e-11]], Vector{Float64}[], Matrix{Float64}[])"
      ]
     },
     "metadata": {},
     "output_type": "display_data"
    }
   ],
   "source": [
    "sol"
   ]
  },
  {
   "cell_type": "code",
   "execution_count": 7,
   "metadata": {},
   "outputs": [
    {
     "data": {
      "text/plain": [
       "PyObject <module 'Utils.Matlotlib_Utils' from 'c:\\\\Users\\\\artyo\\\\YandexDisk\\\\Other\\\\Julia\\\\BS_module\\\\Utils\\\\Matlotlib_Utils.py'>"
      ]
     },
     "metadata": {},
     "output_type": "display_data"
    }
   ],
   "source": [
    "using PyCall\n",
    "pushfirst!(PyVector(pyimport(\"sys\").\"path\"), \"\")\n",
    "MU = pyimport(\"Utils.Matlotlib_Utils\")"
   ]
  },
  {
   "cell_type": "code",
   "execution_count": 8,
   "metadata": {},
   "outputs": [
    {
     "data": {
      "text/plain": [
       "plotTimeSeries (generic function with 1 method)"
      ]
     },
     "metadata": {},
     "output_type": "display_data"
    }
   ],
   "source": [
    "\n",
    "function PlotRequestedGraphics(sol, Plot_config, saveFolder)\n",
    "\n",
    "    RequestedPlots = Plot_config[\"OutputProperties\"][\"ImageSettings\"][\"RequestedPlots\"]\n",
    "    ImageFormat = Plot_config[\"OutputProperties\"][\"ImageSettings\"][\"FileFormat\"]\n",
    "\n",
    "    ## Plot results ##\n",
    "    for PlotConfig in RequestedPlots\n",
    "        plot_func = eval(Meta.parse(PlotConfig[\"func_name\"]))\n",
    "        image_savePath = saveFolder * \"\\\\\" * PlotConfig[\"imageName\"] * \".\" * ImageFormat\n",
    "        plot_func(sol, PlotConfig; savePath = image_savePath)\n",
    "    end\n",
    "\n",
    "end\n",
    "\n",
    "function plotTimeSeries(sol, TS_config; savePath = nothing)\n",
    "    projFunc = haskey(TS_config, \"projFunc\") ? MU[TS_config[\"projFunc\"]] : nothing\n",
    "    varNames = haskey(TS_config, \"varNames\") ? MU[TS_config[\"varNames\"]] : nothing\n",
    "    title = haskey(TS_config, \"title\") ? MU[TS_config[\"title\"]] : nothing\n",
    "    plotKwargs = haskey(TS_config, \"title\") ? MU[TS_config[\"title\"]] : nothing\n",
    "\n",
    "    MU.plotTimeSeries(sol, savePath = savePath, projFunc = projFunc, varNames = varNames, title = title, plotKwargs = plotKwargs)\n",
    "end"
   ]
  },
  {
   "cell_type": "code",
   "execution_count": 9,
   "metadata": {},
   "outputs": [],
   "source": [
    "## Plot results ##\n",
    "PlotRequestedGraphics(sol, config_dict, \"\")"
   ]
  },
  {
   "cell_type": "code",
   "execution_count": 8,
   "metadata": {},
   "outputs": [],
   "source": [
    "MU.plotTimeSeries(sol)"
   ]
  },
  {
   "cell_type": "code",
   "execution_count": null,
   "metadata": {},
   "outputs": [],
   "source": []
  }
 ],
 "metadata": {
  "kernelspec": {
   "display_name": "Julia 1.6.5",
   "language": "julia",
   "name": "julia-1.6"
  },
  "language_info": {
   "file_extension": ".jl",
   "mimetype": "application/julia",
   "name": "julia",
   "version": "1.6.5"
  },
  "vscode": {
   "interpreter": {
    "hash": "58ef709fb5d519151219109660248e0817f48de2a266deb83347e849e3cc56af"
   }
  }
 },
 "nbformat": 4,
 "nbformat_minor": 4
}
