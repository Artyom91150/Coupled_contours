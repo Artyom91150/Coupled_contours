{
 "cells": [
  {
   "cell_type": "code",
   "execution_count": null,
   "metadata": {},
   "outputs": [],
   "source": [
    "#using PyCall\n",
    "#np = pyimport(\"numpy\")\n",
    "#using DifferentialEquations\n",
    "#using DynamicalSystems\n",
    "#using PyPlot\n",
    "#using DiffEqCallbacks\n",
    "#using ForwardDiff\n",
    "#using Latexify, LaTeXStrings, SymEngine\n",
    "#using LinearAlgebra\n",
    "#using JLD"
   ]
  },
  {
   "cell_type": "code",
   "execution_count": 1,
   "metadata": {},
   "outputs": [
    {
     "data": {
      "text/plain": [
       "Main.BS_Uni_Sys"
      ]
     },
     "metadata": {},
     "output_type": "display_data"
    }
   ],
   "source": [
    "#include(\"Utils\\\\Computation_Utils.jl\")\n",
    "#include(\"Utils\\\\CallBack_Utils.jl\")\n",
    "#include(\"Utils\\\\YAML_Utils.jl\")\n",
    "#include(\"Utils\\\\Graphics_Utils.jl\")\n",
    "include(\"ODEs\\\\BS_Uni_System.jl\")\n",
    "#include(\"Utils\\\\TangentComputation_Utils.jl\")"
   ]
  },
  {
   "cell_type": "code",
   "execution_count": 11,
   "metadata": {},
   "outputs": [
    {
     "data": {
      "text/plain": [
       "makeSync (generic function with 1 method)"
      ]
     },
     "metadata": {},
     "output_type": "display_data"
    }
   ],
   "source": [
    "function Funcs_Compare(ReducedSys, DefaultSys, SyncWith)\n",
    "    # Разница между первыми тремя элементами (phi) полной 6D системы и редуцированной 3D системой при условии предполагаемой синхронизации phi_i ~ psi_j + delay_j\n",
    "    PhiDiffMax = 0\n",
    "\n",
    "    # Разница между первыми тремя элементами (phi) и последними тремя элементами (psi) полной 6D системы при условии предполагаемой синхронизации phi_i ~ psi_j + delay_j\n",
    "    PsiDiffMax = 0\n",
    "\n",
    "    for i = 1 : 1000\n",
    "\n",
    "        ReducedIC = rand(Float64, 3)\n",
    "        DefaultIC = cat(ReducedIC, \n",
    "                        ReducedIC[SyncWith[\"phi1\"][\"psi\"]] + SyncWith[\"phi1\"][\"delay\"],\n",
    "                        ReducedIC[SyncWith[\"phi2\"][\"psi\"]] + SyncWith[\"phi2\"][\"delay\"],\n",
    "                        ReducedIC[SyncWith[\"phi3\"][\"psi\"]] + SyncWith[\"phi3\"][\"delay\"], dims = 1)\n",
    "\n",
    "        RS = ReducedSys(ReducedIC)\n",
    "        DS = DefaultSys(DefaultIC)\n",
    "\n",
    "        Phidiff = maximum(map(abs, RS - DS[1 : 3]))\n",
    "        if Phidiff > PhiDiffMax\n",
    "            PhiDiffMax = Phidiff\n",
    "        end\n",
    "\n",
    "        Psidiff = maximum(map(abs, DS[1 : 3] - DS[3 .+ [SyncWith[\"phi1\"][\"psi\"], SyncWith[\"phi2\"][\"psi\"], SyncWith[\"phi3\"][\"psi\"]]]))\n",
    "        if Psidiff > PsiDiffMax\n",
    "            PsiDiffMax = Psidiff\n",
    "        end\n",
    "    end\n",
    "    return (PhiDiffMax, PsiDiffMax)\n",
    "end\n",
    "\n",
    "function makeSync(psi; delay = [0.0, 0.0, 0.0])\n",
    "    SyncWith = Dict(\"phi1\" => Dict(\"psi\" => psi[1], \"delay\" => delay[1]), \n",
    "                    \"phi2\" => Dict(\"psi\" => psi[2], \"delay\" => delay[2]),\n",
    "                    \"phi3\" => Dict(\"psi\" => psi[3], \"delay\" => delay[3]))\n",
    "    println(\"Sync: phi_1 -> psi_\", string(SyncWith[\"phi1\"][\"psi\"]), \" + \",  string(SyncWith[\"phi1\"][\"delay\"]), \"    \", \n",
    "              \"phi_2 -> psi_\", string(SyncWith[\"phi2\"][\"psi\"]), \" + \",  string(SyncWith[\"phi2\"][\"delay\"]), \"    \",\n",
    "              \"phi_3 -> psi_\", string(SyncWith[\"phi3\"][\"psi\"]), \" + \",  string(SyncWith[\"phi3\"][\"delay\"]))\n",
    "    return SyncWith\n",
    "end"
   ]
  },
  {
   "cell_type": "code",
   "execution_count": 3,
   "metadata": {},
   "outputs": [
    {
     "data": {
      "text/plain": [
       "\"-cos(x)\""
      ]
     },
     "metadata": {},
     "output_type": "display_data"
    }
   ],
   "source": [
    "CoupleFuncNum = 2\n",
    "\n",
    "if CoupleFuncNum == 1\n",
    "    \n",
    "    function MyCoupleFunc(x)\n",
    "        return 1/(1 + exp(10*(cos(x))))\n",
    "    end\n",
    "    CoupleFuncName = \"1_(1 + exp(10(cos(x))))\"\n",
    "     \n",
    "elseif CoupleFuncNum == 2\n",
    "    \n",
    "    function MyCoupleFunc(x)\n",
    "        return -cos(x)\n",
    "    end\n",
    "\n",
    "    CoupleFuncName = \"-cos(x)\"\n",
    "    \n",
    "elseif CoupleFuncNum == 3\n",
    "    \n",
    "    function MyCoupleFunc(x)\n",
    "        return 1-cos(x)\n",
    "    end\n",
    "\n",
    "    CoupleFuncName = \"1-cos(x)\"\n",
    "    \n",
    "end"
   ]
  },
  {
   "cell_type": "code",
   "execution_count": 4,
   "metadata": {},
   "outputs": [
    {
     "data": {
      "text/plain": [
       "#10 (generic function with 1 method)"
      ]
     },
     "metadata": {},
     "output_type": "display_data"
    }
   ],
   "source": [
    "a2 = pi/2\n",
    "a4 = 3.24685581148453\n",
    "K = 1.5789473684210527\n",
    "r = K/4\n",
    "\n",
    "Eps = 1e-7\n",
    "\n",
    "config = Dict(\"a2\" => a2, \"a4\" => a4, \"K\" => K, \"r\" => r, \"Eps\" => Eps)\n",
    "DefaultSys = x -> BS_Uni_Sys.Get_Uni_Sys(config, MyCoupleFunc)(zeros(6), x, [], 0)"
   ]
  },
  {
   "cell_type": "markdown",
   "metadata": {},
   "source": [
    "---"
   ]
  },
  {
   "cell_type": "code",
   "execution_count": 8,
   "metadata": {},
   "outputs": [
    {
     "data": {
      "text/plain": [
       "proofSyncs (generic function with 1 method)"
      ]
     },
     "metadata": {},
     "output_type": "display_data"
    }
   ],
   "source": [
    "function proofSyncs(Syncs, Delays)\n",
    "    for sync in Syncs\n",
    "        SyncWith = makeSync(sync)\n",
    "        ReducedSys = x -> BS_Uni_Sys.Get_Reduced_Sys(config, MyCoupleFunc, SyncWith)(zeros(3), x, [], 0);\n",
    "\n",
    "        diff = Funcs_Compare(ReducedSys, DefaultSys, SyncWith)\n",
    "        println(\"max(ReducedSys[1 : 3] - DefaultSys[1 : 3]) = \", string(diff[1]))\n",
    "        println(\"max(DefaultSys[1 : 3] - DefaultSys[4 : 6]) = \", string(diff[2]))\n",
    "        println(\"###\")\n",
    "    end\n",
    "end"
   ]
  },
  {
   "cell_type": "code",
   "execution_count": 21,
   "metadata": {},
   "outputs": [
    {
     "data": {
      "text/plain": [
       "6-element Vector{Vector{Irrational{:π}}}:\n",
       " [π, π, π]\n",
       " [π, π, π]\n",
       " [π, π, π]\n",
       " [π, π, π]\n",
       " [π, π, π]\n",
       " [π, π, π]"
      ]
     },
     "metadata": {},
     "output_type": "display_data"
    }
   ],
   "source": [
    "Syncs = [[1, 2, 3], [3, 1, 2], [2, 3, 1], [1, 3, 2], [3, 2, 1], [2, 1, 3]]\n",
    "Delays = [[0.0, 0.0, 0.0], [0.0, 0.0, 0.0], [0.0, 0.0, 0.0], [0.0, 0.0, 0.0], [0.0, 0.0, 0.0], [0.0, 0.0, 0.0]]\n",
    "DelaysPi = [[pi for p in 1:3] for k in 1 : 6]"
   ]
  },
  {
   "cell_type": "code",
   "execution_count": 17,
   "metadata": {},
   "outputs": [
    {
     "name": "stdout",
     "output_type": "stream",
     "text": [
      "Sync: phi_1 -> psi_1 + 0.0    phi_2 -> psi_2 + 0.0    phi_3 -> psi_3 + 0.0\n",
      "max(ReducedSys[1 : 3] - DefaultSys[1 : 3]) = 0\n",
      "max(DefaultSys[1 : 3] - DefaultSys[4 : 6]) = 1.1842538989594635\n",
      "###\n",
      "Sync: phi_1 -> psi_3 + 0.0    phi_2 -> psi_1 + 0.0    phi_3 -> psi_2 + 0.0\n",
      "max(ReducedSys[1 : 3] - DefaultSys[1 : 3]) = 0\n",
      "max(DefaultSys[1 : 3] - DefaultSys[4 : 6]) = 0.775580060543985\n",
      "###\n",
      "Sync: phi_1 -> psi_2 + 0.0    phi_2 -> psi_3 + 0.0    phi_3 -> psi_1 + 0.0\n",
      "max(ReducedSys[1 : 3] - DefaultSys[1 : 3]) = 0\n",
      "max(DefaultSys[1 : 3] - DefaultSys[4 : 6]) = 1.272640230752735\n",
      "###\n",
      "Sync: phi_1 -> psi_1 + 0.0    phi_2 -> psi_3 + 0.0    phi_3 -> psi_2 + 0.0\n",
      "max(ReducedSys[1 : 3] - DefaultSys[1 : 3]) = 0\n",
      "max(DefaultSys[1 : 3] - DefaultSys[4 : 6]) = 4.440892098500626e-16\n",
      "###\n",
      "Sync: phi_1 -> psi_3 + 0.0    phi_2 -> psi_2 + 0.0    phi_3 -> psi_1 + 0.0\n"
     ]
    },
    {
     "name": "stdout",
     "output_type": "stream",
     "text": [
      "max(ReducedSys[1 : 3] - DefaultSys[1 : 3]) = 0\n",
      "max(DefaultSys[1 : 3] - DefaultSys[4 : 6]) = 2.220446049250313e-16\n",
      "###\n",
      "Sync: phi_1 -> psi_2 + 0.0    phi_2 -> psi_1 + 0.0    phi_3 -> psi_3 + 0.0\n",
      "max(ReducedSys[1 : 3] - DefaultSys[1 : 3]) = 0\n",
      "max(DefaultSys[1 : 3] - DefaultSys[4 : 6]) = 4.440892098500626e-16\n",
      "###\n"
     ]
    }
   ],
   "source": [
    "proofSyncs(Syncs, Delays)"
   ]
  },
  {
   "cell_type": "code",
   "execution_count": 22,
   "metadata": {},
   "outputs": [
    {
     "name": "stdout",
     "output_type": "stream",
     "text": [
      "Sync: phi_1 -> psi_1 + 0.0    phi_2 -> psi_2 + 0.0    phi_3 -> psi_3 + 0.0\n",
      "max(ReducedSys[1 : 3] - DefaultSys[1 : 3]) = 0\n",
      "max(DefaultSys[1 : 3] - DefaultSys[4 : 6]) = 1.1080666345486856\n",
      "###\n",
      "Sync: phi_1 -> psi_3 + 0.0    phi_2 -> psi_1 + 0.0    phi_3 -> psi_2 + 0.0\n",
      "max(ReducedSys[1 : 3] - DefaultSys[1 : 3]) = 0\n",
      "max(DefaultSys[1 : 3] - DefaultSys[4 : 6]) = 0.7689294947751648\n",
      "###\n",
      "Sync: phi_1 -> psi_2 + 0.0    phi_2 -> psi_3 + 0.0    phi_3 -> psi_1 + 0.0\n",
      "max(ReducedSys[1 : 3] - DefaultSys[1 : 3]) = 0\n",
      "max(DefaultSys[1 : 3] - DefaultSys[4 : 6]) = 1.2759594403013659\n",
      "###\n",
      "Sync: phi_1 -> psi_1 + 0.0    phi_2 -> psi_3 + 0.0    phi_3 -> psi_2 + 0.0"
     ]
    },
    {
     "name": "stdout",
     "output_type": "stream",
     "text": [
      "\n",
      "max(ReducedSys[1 : 3] - DefaultSys[1 : 3]) = 0\n",
      "max(DefaultSys[1 : 3] - DefaultSys[4 : 6]) = 4.440892098500626e-16\n",
      "###\n",
      "Sync: phi_1 -> psi_3 + 0.0    phi_2 -> psi_2 + 0.0    phi_3 -> psi_1 + 0.0\n",
      "max(ReducedSys[1 : 3] - DefaultSys[1 : 3]) = 0\n",
      "max(DefaultSys[1 : 3] - DefaultSys[4 : 6]) = 4.440892098500626e-16\n",
      "###\n",
      "Sync: phi_1 -> psi_2 + 0.0    phi_2 -> psi_1 + 0.0    phi_3 -> psi_3 + 0.0\n",
      "max(ReducedSys[1 : 3] - DefaultSys[1 : 3]) = 0\n",
      "max(DefaultSys[1 : 3] - DefaultSys[4 : 6]) = 4.440892098500626e-16\n",
      "###\n"
     ]
    }
   ],
   "source": [
    "proofSyncs(Syncs, DelaysPi)"
   ]
  },
  {
   "cell_type": "code",
   "execution_count": null,
   "metadata": {},
   "outputs": [],
   "source": []
  }
 ],
 "metadata": {
  "kernelspec": {
   "display_name": "Julia 1.6.7",
   "language": "julia",
   "name": "julia-1.6"
  },
  "language_info": {
   "file_extension": ".jl",
   "mimetype": "application/julia",
   "name": "julia",
   "version": "1.6.7"
  },
  "orig_nbformat": 4,
  "vscode": {
   "interpreter": {
    "hash": "8ce802015738f7fad9eea9832a506898a03adca8eb19ee4aa72467d8e6bb710a"
   }
  }
 },
 "nbformat": 4,
 "nbformat_minor": 2
}
