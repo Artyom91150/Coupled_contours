{
 "cells": [
  {
   "cell_type": "code",
   "execution_count": null,
   "metadata": {},
   "outputs": [],
   "source": []
  },
  {
   "cell_type": "markdown",
   "metadata": {},
   "source": [
    "---\n",
    "## Загрузка библиотек и модулей\n",
    "\n",
    "---"
   ]
  },
  {
   "cell_type": "code",
   "execution_count": null,
   "metadata": {},
   "outputs": [],
   "source": [
    "using YAML: load_file, write_file\n",
    "using Configurations"
   ]
  },
  {
   "cell_type": "code",
   "execution_count": null,
   "metadata": {},
   "outputs": [],
   "source": [
    "include(\"Utils\\\\IO_Utils.jl\")"
   ]
  },
  {
   "cell_type": "markdown",
   "metadata": {},
   "source": [
    "---\n",
    "## Здесь будет что то типа собирааемого конфига\n",
    "\n",
    "---"
   ]
  },
  {
   "cell_type": "markdown",
   "metadata": {},
   "source": [
    "### Bick system ode solving"
   ]
  },
  {
   "cell_type": "code",
   "execution_count": null,
   "metadata": {},
   "outputs": [],
   "source": [
    "ODE_file_path : \"ODEs\\\\BS_Uni_System.jl\"\n",
    "ODE_func_name : \"Get_Uni_Sys\"\n",
    "\n",
    "ODE_Parameters = [Dict(:name => \"K\",\n",
    "                       :value => 1.5789473684210527,\n",
    "                       :Lname => \"K\"),\n",
    "\n",
    "                  Dict(:name => \"r\",\n",
    "                       :value => 0.39473684210526316,\n",
    "                       :Lname => \"r\"),\n",
    "\n",
    "                  Dict(:name => \"a2\",\n",
    "                       :value => pi/2,\n",
    "                       :Lname => \"a_2\"),\n",
    "\n",
    "                  Dict(:name => \"a4\",\n",
    "                       :value => 3.24685581148453,\n",
    "                       :Lname => \"a_4\"),\n",
    "                       \n",
    "                  Dict(:name => \"Eps\",\n",
    "                       :value => 1e-7,\n",
    "                       :Lname => \"\\\\varepsilon\")]\n",
    "\n",
    "Couple_func = x -> 1 - cos(x)\n",
    "\n",
    "ODESolver_settings = Dict(:time_span => 250.0,\n",
    "                          :trans_time => 100.0,\n",
    "                          :callback => x -> sin(x[1] - 0.25),\n",
    "                          :alg => DP8(),\n",
    "                          :init_cond => [2.941592653589793, 1.2, 1.4, 2.941592653589793, 0.4, 0.2],\n",
    "                          :kwargs => Dict(:dt => 1e-1\n",
    "                                          :abstol => 1e-13\n",
    "                                          :reltol => 1e-13\n",
    "                                          :maxiters => 1e10))"
   ]
  },
  {
   "cell_type": "code",
   "execution_count": null,
   "metadata": {},
   "outputs": [],
   "source": []
  }
 ],
 "metadata": {
  "kernelspec": {
   "display_name": "Julia 1.8.4",
   "language": "julia",
   "name": "julia-1.8"
  },
  "language_info": {
   "file_extension": ".jl",
   "mimetype": "application/julia",
   "name": "julia",
   "version": "1.8.4"
  }
 },
 "nbformat": 4,
 "nbformat_minor": 4
}
