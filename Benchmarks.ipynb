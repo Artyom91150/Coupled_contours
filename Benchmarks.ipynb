{
 "cells": [
  {
   "cell_type": "code",
   "execution_count": 1,
   "id": "3cdf19a2-cd3d-4404-a7bb-38b2b48288a1",
   "metadata": {},
   "outputs": [],
   "source": [
    "using PyCall\n",
    "np = pyimport(\"numpy\")\n",
    "using DifferentialEquations\n",
    "using DynamicalSystems\n",
    "using PyPlot\n",
    "#using DiffEqDevTools\n",
    "#using ProbNumDiffEq\n",
    "#using OrdinaryDiffEq\n",
    "#using DiffEqCallbacks\n",
    "#using DataFrames\n",
    "using ForwardDiff\n",
    "#using Latexify, LaTeXStrings, SymEngine"
   ]
  },
  {
   "cell_type": "code",
   "execution_count": 2,
   "id": "3fe97b1d-edf6-44e9-a710-f5264824feb0",
   "metadata": {},
   "outputs": [
    {
     "data": {
      "text/plain": [
       "BS_Exp_Sys (generic function with 1 method)"
      ]
     },
     "execution_count": 2,
     "metadata": {},
     "output_type": "execute_result"
    }
   ],
   "source": [
    "include(\"Utils\\\\BS_Sin_System.jl\")\n",
    "include(\"Utils\\\\BS_Cos_System.jl\")\n",
    "include(\"Utils\\\\BS_Uni_System.jl\")\n",
    "include(\"Utils\\\\BS_Exp_System.jl\")"
   ]
  },
  {
   "cell_type": "code",
   "execution_count": 3,
   "id": "1761fc54-3872-4272-b3d2-a21b657e5e3f",
   "metadata": {},
   "outputs": [
    {
     "data": {
      "text/plain": [
       "PyObject <module 'Bick_Systems' from 'C:\\\\Users\\\\artyo\\\\YandexDisk\\\\Other\\\\Python\\\\coupled_contours_2\\\\Bick_Systems.py'>"
      ]
     },
     "execution_count": 3,
     "metadata": {},
     "output_type": "execute_result"
    }
   ],
   "source": [
    "pushfirst!(PyVector(pyimport(\"sys\").\"path\"), \"\")\n",
    "BS =  pyimport(\"Bick_Systems\")"
   ]
  },
  {
   "cell_type": "code",
   "execution_count": 4,
   "id": "22eac41e-d261-492a-be5f-a8030a65eadc",
   "metadata": {},
   "outputs": [
    {
     "data": {
      "text/plain": [
       "BS_Py_Sys (generic function with 1 method)"
      ]
     },
     "execution_count": 4,
     "metadata": {},
     "output_type": "execute_result"
    }
   ],
   "source": [
    "@inline @inbounds function BS_Py_Sys(u, p, t)\n",
    "    K, a2, a4, r, Eps = p\n",
    "    rhs  = BS.coupled_Bick(K, a2, a4, r, Eps)\n",
    "    du = rhs(t, u)\n",
    "    return SVector{6}(du)\n",
    "end"
   ]
  },
  {
   "cell_type": "markdown",
   "id": "ffd71a7d-df92-4c5c-83bb-b5610fe7bd07",
   "metadata": {},
   "source": [
    "# Бенчмарки"
   ]
  },
  {
   "cell_type": "code",
   "execution_count": 16,
   "id": "af0b4826-4e28-4d9d-a42e-d0934e5d6560",
   "metadata": {},
   "outputs": [
    {
     "data": {
      "text/plain": [
       "Time_benchmark (generic function with 1 method)"
      ]
     },
     "execution_count": 16,
     "metadata": {},
     "output_type": "execute_result"
    }
   ],
   "source": [
    "function Funcs_Compare(first_func, second_func)\n",
    "    max = 0\n",
    "    vecs = np.random.normal(size=(10000, 6), loc=[np.pi]*6, scale=10)\n",
    "    \n",
    "    for i = 1 : size(vecs)[1] - 1\n",
    "        diff = np.max(np.abs([first_func(vecs[i, :]) - second_func(vecs[i, :])]))\n",
    "        if diff > max\n",
    "           max = diff\n",
    "        end\n",
    "    end\n",
    "    return max\n",
    "end\n",
    "\n",
    "function Time_benchmark(func, num)\n",
    "    vecs = np.random.normal(size=(num, 6), loc=[np.pi]*6, scale=0.001)\n",
    "    @time for i = 1 : size(vecs)[1] - 1\n",
    "        func(vecs[i, :])\n",
    "    end\n",
    "end"
   ]
  },
  {
   "cell_type": "markdown",
   "id": "8d1637d1-b5c4-4f6e-b902-c4aa69ab3d0a",
   "metadata": {},
   "source": [
    "# Параметры системы"
   ]
  },
  {
   "cell_type": "code",
   "execution_count": 6,
   "id": "32e93083-0e3d-40ca-a60e-6c2b4a80be8b",
   "metadata": {},
   "outputs": [
    {
     "data": {
      "text/plain": [
       "6-element Vector{Float64}:\n",
       " 3.141492653589793\n",
       " 0.0001\n",
       " 0.0001\n",
       " 3.141492653589793\n",
       " 0.0001\n",
       " 3.141492653589793"
      ]
     },
     "execution_count": 6,
     "metadata": {},
     "output_type": "execute_result"
    }
   ],
   "source": [
    "K = 0.4\n",
    "Eps = 1e-5\n",
    "a2 = pi/2\n",
    "a4 = pi\n",
    "r = 0.1\n",
    "#startPt = [3.141592653589786; 2.0776989018145287e-09; 6.283185307057817;\n",
    "#           3.1415926535897944; 6.2831853071795605; 3.1415916495384404]\n",
    "\n",
    "val = 0.0001\n",
    "#startPt = [3.141592653589786 + val, 2.0776989018145287e-09 + val, 6.283185307057817 + val,\n",
    "#            3.1415926535897944 + val, 6.2831853071795605 + val, 3.1415916495384404 + val]\n",
    "startPt = [np.pi - val; 0 + val; 0 + val;\n",
    "           np.pi - val; 0 + val; np.pi - val]"
   ]
  },
  {
   "cell_type": "markdown",
   "id": "0bd752ec-d605-4c31-8cfa-d9cecc52b790",
   "metadata": {},
   "source": [
    "### Сравнение точностей и времени вычисления различных реализаций системы"
   ]
  },
  {
   "cell_type": "code",
   "execution_count": 10,
   "id": "246c386d-ae2f-4b08-839a-16a23b90d014",
   "metadata": {},
   "outputs": [
    {
     "data": {
      "text/plain": [
       "0"
      ]
     },
     "execution_count": 10,
     "metadata": {},
     "output_type": "execute_result"
    }
   ],
   "source": [
    "Funcs_Compare(x -> BS.coupled_Bick(K, a2, a4, r, Eps, BS.couple_sin)(0, x),\n",
    "              x -> BS_Uni_Sys(couple_sin)(zeros(6, 1), x, [K, a2, a4, r, Eps], 0))"
   ]
  },
  {
   "cell_type": "code",
   "execution_count": 27,
   "id": "9c3aa58d-4ca8-4e22-89c3-95a89d1a6aac",
   "metadata": {
    "tags": []
   },
   "outputs": [
    {
     "name": "stdout",
     "output_type": "stream",
     "text": [
      "  1.194651 seconds (828.74 k allocations: 32.672 MiB, 3.04% gc time, 0.38% compilation time)\n"
     ]
    }
   ],
   "source": [
    "Time_benchmark(x -> BS.coupled_Bick(K, a2, a4, r, Eps, BS.couple_sin)(0, x), 10000)"
   ]
  },
  {
   "cell_type": "code",
   "execution_count": 28,
   "id": "689f1bf4-43f2-4f98-bd0d-f151d408a7bd",
   "metadata": {},
   "outputs": [
    {
     "name": "stdout",
     "output_type": "stream",
     "text": [
      "  0.065101 seconds (385.44 k allocations: 28.926 MiB, 23.88% compilation time)\n"
     ]
    }
   ],
   "source": [
    "Time_benchmark(x -> BS_Uni_Sys(couple_sin)(zeros(6, 1), x, [K, a2, a4, r, Eps], 0), 10000)"
   ]
  },
  {
   "cell_type": "markdown",
   "id": "61ca9bf4-849d-44cf-9efe-6f18b0141959",
   "metadata": {},
   "source": [
    "---"
   ]
  },
  {
   "cell_type": "code",
   "execution_count": 13,
   "id": "98bf0577-50b9-402d-a578-b51c97d7590e",
   "metadata": {},
   "outputs": [
    {
     "data": {
      "text/plain": [
       "1.5745326049920738e-15"
      ]
     },
     "execution_count": 13,
     "metadata": {},
     "output_type": "execute_result"
    }
   ],
   "source": [
    "Funcs_Compare(x -> BS.coupled_Bick(K, a2, a4, r, Eps, BS.couple_sin)(0, x),\n",
    "              x -> BS_Sin_Sys(zeros(6, 1), x, [K, a2, a4, r, Eps], 0))"
   ]
  },
  {
   "cell_type": "code",
   "execution_count": 29,
   "id": "96abe4d8-1e24-4d6e-9683-948993d11594",
   "metadata": {
    "tags": []
   },
   "outputs": [
    {
     "name": "stdout",
     "output_type": "stream",
     "text": [
      "  1.122061 seconds (828.74 k allocations: 32.672 MiB, 0.47% compilation time)\n"
     ]
    }
   ],
   "source": [
    "Time_benchmark(x -> BS.coupled_Bick(K, a2, a4, r, Eps, BS.couple_sin)(0, x), 10000)"
   ]
  },
  {
   "cell_type": "code",
   "execution_count": 30,
   "id": "3f36cab2-1136-49d0-8a83-d4ffc624e51c",
   "metadata": {},
   "outputs": [
    {
     "name": "stdout",
     "output_type": "stream",
     "text": [
      "  0.053292 seconds (205.39 k allocations: 9.699 MiB, 30.12% compilation time)\n"
     ]
    }
   ],
   "source": [
    "Time_benchmark(x -> BS_Sin_Sys(zeros(6, 1), x, [K, a2, a4, r, Eps], 0), 10000)"
   ]
  },
  {
   "cell_type": "markdown",
   "id": "d1d93add-b0cb-404b-9af9-7bca498242fd",
   "metadata": {},
   "source": [
    "---"
   ]
  },
  {
   "cell_type": "code",
   "execution_count": 14,
   "id": "47b7ff6c-2480-4f85-af69-93994a6bd12e",
   "metadata": {},
   "outputs": [
    {
     "data": {
      "text/plain": [
       "1.1176769145609944e-16"
      ]
     },
     "execution_count": 14,
     "metadata": {},
     "output_type": "execute_result"
    }
   ],
   "source": [
    "Funcs_Compare(x -> BS_Sin_Sys_Simp(zeros(6, 1), x, [K, a2, a4, r, Eps], 0),\n",
    "              x -> BS_Sin_Sys(zeros(6, 1), x, [K, a2, a4, r, Eps], 0))"
   ]
  },
  {
   "cell_type": "code",
   "execution_count": 31,
   "id": "56d06c03-549d-4203-b67c-d1e788d99b74",
   "metadata": {
    "tags": []
   },
   "outputs": [
    {
     "name": "stdout",
     "output_type": "stream",
     "text": [
      "  0.136820 seconds (205.39 k allocations: 9.699 MiB, 35.08% gc time, 10.42% compilation time)\n"
     ]
    }
   ],
   "source": [
    "Time_benchmark(x -> BS_Sin_Sys_Simp(zeros(6, 1), x, [K, a2, a4, r, Eps], 0), 10000)"
   ]
  },
  {
   "cell_type": "code",
   "execution_count": 32,
   "id": "6eaca265-e324-469a-81e9-c904e8e94186",
   "metadata": {},
   "outputs": [
    {
     "name": "stdout",
     "output_type": "stream",
     "text": [
      "  0.051782 seconds (205.39 k allocations: 9.699 MiB, 28.82% compilation time)\n"
     ]
    }
   ],
   "source": [
    "Time_benchmark(x -> BS_Sin_Sys(zeros(6, 1), x, [K, a2, a4, r, Eps], 0), 10000)"
   ]
  },
  {
   "cell_type": "markdown",
   "id": "cb70a4f6-a8b7-4e69-863f-500d344b0706",
   "metadata": {},
   "source": [
    "---"
   ]
  },
  {
   "cell_type": "code",
   "execution_count": 11,
   "id": "ee88b644-6aaa-4deb-820f-cc083d1149ee",
   "metadata": {},
   "outputs": [
    {
     "data": {
      "text/plain": [
       "0"
      ]
     },
     "execution_count": 11,
     "metadata": {},
     "output_type": "execute_result"
    }
   ],
   "source": [
    "Funcs_Compare(x -> BS.coupled_Bick(K, a2, a4, r, Eps, BS.couple_cos)(0, x),\n",
    "              x -> BS_Uni_Sys(couple_cos)(zeros(6, 1), x, [K, a2, a4, r, Eps], 0))"
   ]
  },
  {
   "cell_type": "code",
   "execution_count": 33,
   "id": "f83562e5-38b7-464c-b292-f8572b277f92",
   "metadata": {
    "tags": []
   },
   "outputs": [
    {
     "name": "stdout",
     "output_type": "stream",
     "text": [
      "  1.146423 seconds (828.74 k allocations: 32.672 MiB, 0.45% compilation time)\n"
     ]
    }
   ],
   "source": [
    "Time_benchmark(x -> BS.coupled_Bick(K, a2, a4, r, Eps, BS.couple_cos)(0, x), 10000)"
   ]
  },
  {
   "cell_type": "code",
   "execution_count": 34,
   "id": "44f5ebac-d2a4-4fcf-a5ed-32037976dc39",
   "metadata": {},
   "outputs": [
    {
     "name": "stdout",
     "output_type": "stream",
     "text": [
      "  0.066796 seconds (385.44 k allocations: 28.926 MiB, 20.95% compilation time)\n"
     ]
    }
   ],
   "source": [
    "Time_benchmark(x -> BS_Uni_Sys(couple_cos)(zeros(6, 1), x, [K, a2, a4, r, Eps], 0), 10000)"
   ]
  },
  {
   "cell_type": "markdown",
   "id": "3c8b2b09-86fa-479a-9129-999b18967446",
   "metadata": {},
   "source": [
    "---"
   ]
  },
  {
   "cell_type": "code",
   "execution_count": 12,
   "id": "ed81d1bf-0e49-4c29-b432-e9659eb86a11",
   "metadata": {},
   "outputs": [
    {
     "data": {
      "text/plain": [
       "1.5743462577436779e-15"
      ]
     },
     "execution_count": 12,
     "metadata": {},
     "output_type": "execute_result"
    }
   ],
   "source": [
    "Funcs_Compare(x -> BS.coupled_Bick(K, a2, a4, r, Eps, BS.couple_cos)(0, x),\n",
    "              x -> BS_Cos_Sys(zeros(6, 1), x, [K, a2, a4, r, Eps], 0))"
   ]
  },
  {
   "cell_type": "code",
   "execution_count": 35,
   "id": "ecd1e837-b498-480d-8f9a-46c90a5e5ecb",
   "metadata": {
    "tags": []
   },
   "outputs": [
    {
     "name": "stdout",
     "output_type": "stream",
     "text": [
      "  1.196768 seconds (828.74 k allocations: 32.672 MiB, 3.49% gc time, 0.43% compilation time)\n"
     ]
    }
   ],
   "source": [
    "Time_benchmark(x -> BS.coupled_Bick(K, a2, a4, r, Eps, BS.couple_cos)(0, x), 10000)"
   ]
  },
  {
   "cell_type": "code",
   "execution_count": 36,
   "id": "a1909d3d-de55-4b2d-9550-726d641da2c9",
   "metadata": {},
   "outputs": [
    {
     "name": "stdout",
     "output_type": "stream",
     "text": [
      "  0.049413 seconds (205.39 k allocations: 9.699 MiB, 27.65% compilation time)\n"
     ]
    }
   ],
   "source": [
    "Time_benchmark(x -> BS_Cos_Sys(zeros(6, 1), x, [K, a2, a4, r, Eps], 0), 10000)"
   ]
  },
  {
   "cell_type": "markdown",
   "id": "31f5def8-9c3a-4dda-aa23-a7ab0c26fbfa",
   "metadata": {},
   "source": [
    "---"
   ]
  },
  {
   "cell_type": "code",
   "execution_count": 15,
   "id": "40b8e3f6-c655-4c99-9e0d-ed5b766d8686",
   "metadata": {},
   "outputs": [
    {
     "data": {
      "text/plain": [
       "1.1190321672766013e-16"
      ]
     },
     "execution_count": 15,
     "metadata": {},
     "output_type": "execute_result"
    }
   ],
   "source": [
    "Funcs_Compare(x -> BS_Cos_Sys_Simp(zeros(6, 1), x, [K, a2, a4, r, Eps], 0),\n",
    "              x -> BS_Cos_Sys(zeros(6, 1), x, [K, a2, a4, r, Eps], 0))"
   ]
  },
  {
   "cell_type": "code",
   "execution_count": 45,
   "id": "1061babf-ea71-417e-9f01-e70fa055c5e9",
   "metadata": {
    "tags": []
   },
   "outputs": [
    {
     "name": "stdout",
     "output_type": "stream",
     "text": [
      "  0.054919 seconds (205.39 k allocations: 9.699 MiB, 26.65% compilation time)\n"
     ]
    }
   ],
   "source": [
    "Time_benchmark(x -> BS_Cos_Sys_Simp(zeros(6, 1), x, [K, a2, a4, r, Eps], 0), 10000)"
   ]
  },
  {
   "cell_type": "code",
   "execution_count": 46,
   "id": "0eb6fde5-7b76-42d4-97bc-75dd10bc0afb",
   "metadata": {},
   "outputs": [
    {
     "name": "stdout",
     "output_type": "stream",
     "text": [
      "  0.053657 seconds (205.39 k allocations: 9.699 MiB, 25.94% compilation time)\n"
     ]
    }
   ],
   "source": [
    "Time_benchmark(x -> BS_Cos_Sys(zeros(6, 1), x, [K, a2, a4, r, Eps], 0), 10000)"
   ]
  },
  {
   "cell_type": "markdown",
   "id": "0885fd17-bf01-43d6-a50d-1ad0b5a505f4",
   "metadata": {},
   "source": [
    "---"
   ]
  },
  {
   "cell_type": "markdown",
   "id": "5deb419c-64e7-4f46-9272-45f4f0894723",
   "metadata": {},
   "source": [
    "# Сравнение разницы якобианов посчитанных при помощи ForwardDiff и явно заданных"
   ]
  },
  {
   "cell_type": "code",
   "execution_count": 22,
   "id": "4482a123-f07d-45eb-b8d0-e45cd11696ca",
   "metadata": {},
   "outputs": [
    {
     "data": {
      "text/plain": [
       "3.774758283725532e-15"
      ]
     },
     "execution_count": 22,
     "metadata": {},
     "output_type": "execute_result"
    }
   ],
   "source": [
    "Funcs_Compare(z -> ForwardDiff.jacobian((y, x) -> BS_Sin_Sys(y, x, [K, a2, a4, r, Eps], 0), zeros(6, 1), z),\n",
    "              z -> BS_Sin_Jac(z, [K, a2, a4, r, Eps], 0))"
   ]
  },
  {
   "cell_type": "code",
   "execution_count": 49,
   "id": "8f407a0c-c1ce-474a-919d-85c62248bf89",
   "metadata": {},
   "outputs": [
    {
     "name": "stdout",
     "output_type": "stream",
     "text": [
      "  7.927533 seconds (28.88 M allocations: 3.154 GiB, 5.48% gc time, 12.86% compilation time)\n"
     ]
    }
   ],
   "source": [
    "Time_benchmark(z -> ForwardDiff.jacobian((y, x) -> BS_Sin_Sys(y, x, [K, a2, a4, r, Eps], 0), zeros(6, 1), z), 10000)"
   ]
  },
  {
   "cell_type": "code",
   "execution_count": 50,
   "id": "345010ab-d80d-4c74-b1a8-274336f87210",
   "metadata": {
    "tags": []
   },
   "outputs": [
    {
     "name": "stdout",
     "output_type": "stream",
     "text": [
      "  7.195040 seconds (73.00 M allocations: 3.755 GiB, 8.40% gc time, 0.06% compilation time)\n"
     ]
    }
   ],
   "source": [
    "Time_benchmark(z -> BS_Sin_Jac(z, [K, a2, a4, r, Eps], 0), 10000)"
   ]
  },
  {
   "cell_type": "markdown",
   "id": "10516490-cc92-41b5-836b-ce87cddb7cb9",
   "metadata": {},
   "source": [
    "---"
   ]
  },
  {
   "cell_type": "code",
   "execution_count": 24,
   "id": "1dbd5d87-ae60-4ed4-bbd8-30a6268a3250",
   "metadata": {},
   "outputs": [
    {
     "data": {
      "text/plain": [
       "1.6653345369377348e-16"
      ]
     },
     "execution_count": 24,
     "metadata": {},
     "output_type": "execute_result"
    }
   ],
   "source": [
    "Funcs_Compare(z -> ForwardDiff.jacobian((y, x) -> BS_Sin_Sys_Simp(y, x, [K, a2, a4, r, Eps], 0), zeros(6, 1), z),\n",
    "              z -> BS_Sin_Jac(z, [K, a2, a4, r, Eps], 0))"
   ]
  },
  {
   "cell_type": "code",
   "execution_count": 51,
   "id": "ec26a9cf-254a-4c40-a623-b4908f993f9c",
   "metadata": {},
   "outputs": [
    {
     "name": "stdout",
     "output_type": "stream",
     "text": [
      "  1.102547 seconds (3.96 M allocations: 234.212 MiB, 4.29% gc time, 94.45% compilation time)\n"
     ]
    }
   ],
   "source": [
    "Time_benchmark(z -> ForwardDiff.jacobian((y, x) -> BS_Sin_Sys_Simp(y, x, [K, a2, a4, r, Eps], 0), zeros(6, 1), z), 10000)"
   ]
  },
  {
   "cell_type": "code",
   "execution_count": 52,
   "id": "0afbfad4-6faf-46c3-8c49-8a96ca4e53d7",
   "metadata": {
    "tags": []
   },
   "outputs": [
    {
     "name": "stdout",
     "output_type": "stream",
     "text": [
      "  0.066147 seconds (728.68 k allocations: 38.468 MiB, 6.41% compilation time)\n"
     ]
    }
   ],
   "source": [
    "Time_benchmark(z -> BS_Sin_Jac(z, [K, a2, a4, r, Eps], 0), 10000)"
   ]
  },
  {
   "cell_type": "markdown",
   "id": "fb353438-e02c-4080-b3d1-6f86b8f41105",
   "metadata": {},
   "source": [
    "---"
   ]
  },
  {
   "cell_type": "code",
   "execution_count": 23,
   "id": "47b06567-c678-4894-af90-4b98a5b262a7",
   "metadata": {},
   "outputs": [
    {
     "data": {
      "text/plain": [
       "3.774758283725532e-15"
      ]
     },
     "execution_count": 23,
     "metadata": {},
     "output_type": "execute_result"
    }
   ],
   "source": [
    "Funcs_Compare(z -> ForwardDiff.jacobian((y, x) -> BS_Cos_Sys(y, x, [K, a2, a4, r, Eps], 0), zeros(6, 1), z),\n",
    "              z -> BS_Cos_Jac(z, [K, a2, a4, r, Eps], 0))"
   ]
  },
  {
   "cell_type": "code",
   "execution_count": 53,
   "id": "a81463f9-8b0c-462f-99a1-1885acf42816",
   "metadata": {},
   "outputs": [
    {
     "name": "stdout",
     "output_type": "stream",
     "text": [
      "  1.144342 seconds (4.15 M allocations: 239.986 MiB, 6.41% gc time, 92.49% compilation time)\n"
     ]
    }
   ],
   "source": [
    "Time_benchmark(z -> ForwardDiff.jacobian((y, x) -> BS_Cos_Sys(y, x, [K, a2, a4, r, Eps], 0), zeros(6, 1), z), 10000)"
   ]
  },
  {
   "cell_type": "code",
   "execution_count": 54,
   "id": "00dfef73-b19c-4b88-9fba-f00e3162589b",
   "metadata": {
    "tags": []
   },
   "outputs": [
    {
     "name": "stdout",
     "output_type": "stream",
     "text": [
      "  0.063972 seconds (728.68 k allocations: 38.468 MiB, 6.92% compilation time)\n"
     ]
    }
   ],
   "source": [
    "Time_benchmark(z -> BS_Cos_Jac(z, [K, a2, a4, r, Eps], 0), 10000)"
   ]
  },
  {
   "cell_type": "markdown",
   "id": "f7f14a52-482d-4ef7-a3a4-43f1e9051688",
   "metadata": {},
   "source": [
    "---"
   ]
  },
  {
   "cell_type": "code",
   "execution_count": 25,
   "id": "6da0f82e-480b-4833-9bda-acb215da2631",
   "metadata": {},
   "outputs": [
    {
     "data": {
      "text/plain": [
       "1.734723475976807e-16"
      ]
     },
     "execution_count": 25,
     "metadata": {},
     "output_type": "execute_result"
    }
   ],
   "source": [
    "Funcs_Compare(z -> ForwardDiff.jacobian((y, x) -> BS_Cos_Sys_Simp(y, x, [K, a2, a4, r, Eps], 0), zeros(6, 1), z),\n",
    "              z -> BS_Cos_Jac(z, [K, a2, a4, r, Eps], 0))"
   ]
  },
  {
   "cell_type": "code",
   "execution_count": 59,
   "id": "573361c4-4b03-45d8-baa3-111045772a54",
   "metadata": {},
   "outputs": [
    {
     "name": "stdout",
     "output_type": "stream",
     "text": [
      "  1.112437 seconds (3.97 M allocations: 234.690 MiB, 4.15% gc time, 94.45% compilation time)\n"
     ]
    }
   ],
   "source": [
    "Time_benchmark(z -> ForwardDiff.jacobian((y, x) -> BS_Cos_Sys_Simp(y, x, [K, a2, a4, r, Eps], 0), zeros(6, 1), z), 10000)"
   ]
  },
  {
   "cell_type": "code",
   "execution_count": 60,
   "id": "d77398d2-0ce4-4815-89b1-a2c58e3390b0",
   "metadata": {
    "tags": []
   },
   "outputs": [
    {
     "name": "stdout",
     "output_type": "stream",
     "text": [
      "  0.064997 seconds (728.68 k allocations: 38.468 MiB, 6.67% compilation time)\n"
     ]
    }
   ],
   "source": [
    "Time_benchmark(z -> BS_Cos_Jac(z, [K, a2, a4, r, Eps], 0), 10000)"
   ]
  },
  {
   "cell_type": "markdown",
   "id": "592505cf-9754-4078-878e-75c66bc0afa9",
   "metadata": {},
   "source": [
    "# Сравнение времени расчета спектра ляпуновских показателей"
   ]
  },
  {
   "cell_type": "code",
   "execution_count": 102,
   "id": "8d47007b-4d9b-4722-af1a-09fba7cb6e66",
   "metadata": {},
   "outputs": [
    {
     "data": {
      "text/plain": [
       "1.0e10"
      ]
     },
     "execution_count": 102,
     "metadata": {},
     "output_type": "execute_result"
    }
   ],
   "source": [
    "LE_Time = 10000\n",
    "dt = 0.01\n",
    "Ttr = 1000\n",
    "alg = DP8()\n",
    "abstol = 1e-13\n",
    "reltol = 1e-13\n",
    "maxiters = 1e10"
   ]
  },
  {
   "cell_type": "markdown",
   "id": "067a9bbc-4b43-4349-821b-89d5837772a1",
   "metadata": {},
   "source": [
    "---"
   ]
  },
  {
   "cell_type": "code",
   "execution_count": 87,
   "id": "394d23e5-f954-40df-9b62-7d5cb4a9faeb",
   "metadata": {},
   "outputs": [
    {
     "data": {
      "text/plain": [
       "6-dimensional continuous dynamical system\n",
       " state:       [3.14149, 0.0001, 0.0001, 3.14149, 0.0001, 3.14149]\n",
       " rule f:      BS_Cos_Sys\n",
       " in-place?    true\n",
       " jacobian:    BS_Cos_Jac\n",
       " parameters:  [0.4, 1.5708, 3.14159, 0.01, 1.0e-10]"
      ]
     },
     "execution_count": 87,
     "metadata": {},
     "output_type": "execute_result"
    }
   ],
   "source": [
    "lvDs = ContinuousDynamicalSystem(BS_Cos_Sys, startPt, [K, a2, a4, r, Eps], BS_Cos_Jac)"
   ]
  },
  {
   "cell_type": "code",
   "execution_count": 103,
   "id": "786514e4-888f-4010-b6d1-4f4ad3412d52",
   "metadata": {},
   "outputs": [
    {
     "name": "stderr",
     "output_type": "stream",
     "text": [
      "\u001b[32mLyapunov Spectrum: 100%|████████████████████████████████| Time: 0:00:02\u001b[39m\n"
     ]
    },
    {
     "name": "stdout",
     "output_type": "stream",
     "text": [
      "  2.827248 seconds (26.80 M allocations: 1.352 GiB, 6.25% gc time)\n"
     ]
    },
    {
     "data": {
      "text/plain": [
       "6-element Vector{Float64}:\n",
       "  0.0006239405535510849\n",
       " -0.0020344412752627337\n",
       " -0.03792152690844226\n",
       " -0.053159483008218406\n",
       " -0.05817444601591517\n",
       " -0.07543283310315227"
      ]
     },
     "execution_count": 103,
     "metadata": {},
     "output_type": "execute_result"
    }
   ],
   "source": [
    "@time lyapunovspectrum(lvDs, LE_Time; diffeq = (dt = dt, Ttr = Ttr, alg = alg, abstol = abstol, reltol = reltol, maxiters = maxiters), show_progress=true)"
   ]
  },
  {
   "cell_type": "markdown",
   "id": "e61a55b5-d9df-4d54-aca3-bc0054c37e80",
   "metadata": {},
   "source": [
    "---"
   ]
  },
  {
   "cell_type": "code",
   "execution_count": 104,
   "id": "2d434cea-ee38-46a5-914f-4f9717f22ede",
   "metadata": {},
   "outputs": [
    {
     "data": {
      "text/plain": [
       "6-dimensional continuous dynamical system\n",
       " state:       [3.14149, 0.0001, 0.0001, 3.14149, 0.0001, 3.14149]\n",
       " rule f:      BS_Cos_Sys\n",
       " in-place?    true\n",
       " jacobian:    ForwardDiff\n",
       " parameters:  [0.4, 1.5708, 3.14159, 0.01, 1.0e-10]"
      ]
     },
     "execution_count": 104,
     "metadata": {},
     "output_type": "execute_result"
    }
   ],
   "source": [
    "lvDs = ContinuousDynamicalSystem(BS_Cos_Sys, startPt, [K, a2, a4, r, Eps])"
   ]
  },
  {
   "cell_type": "code",
   "execution_count": 107,
   "id": "7365ee1f-446f-4dc1-a1c3-57cd9530a7ff",
   "metadata": {},
   "outputs": [
    {
     "name": "stderr",
     "output_type": "stream",
     "text": [
      "\u001b[32mLyapunov Spectrum: 100%|████████████████████████████████| Time: 0:00:01\u001b[39m\n"
     ]
    },
    {
     "name": "stdout",
     "output_type": "stream",
     "text": [
      "  1.201867 seconds (40.51 k allocations: 14.096 MiB, 2.51% gc time)\n"
     ]
    },
    {
     "data": {
      "text/plain": [
       "6-element Vector{Float64}:\n",
       "  0.0006413027167435878\n",
       " -0.0020828673160153068\n",
       " -0.03798251014290281\n",
       " -0.052953089219596905\n",
       " -0.05826958433285318\n",
       " -0.075452041462816"
      ]
     },
     "execution_count": 107,
     "metadata": {},
     "output_type": "execute_result"
    }
   ],
   "source": [
    "@time lyapunovspectrum(lvDs, LE_Time; diffeq = (dt = dt, Ttr = Ttr, alg = alg, abstol = abstol, reltol = reltol, maxiters = maxiters), show_progress=true)"
   ]
  },
  {
   "cell_type": "markdown",
   "id": "3d30d627-ed17-4a98-ad27-fdf1793de051",
   "metadata": {},
   "source": [
    "---"
   ]
  },
  {
   "cell_type": "code",
   "execution_count": 17,
   "id": "910f9f4c-d77f-431a-996e-923c22857901",
   "metadata": {},
   "outputs": [
    {
     "data": {
      "text/plain": [
       "6.217248937900877e-15"
      ]
     },
     "execution_count": 17,
     "metadata": {},
     "output_type": "execute_result"
    }
   ],
   "source": [
    "Funcs_Compare(x -> BS_Exp_Sys(zeros(6, 1), x, [K, a2, a4, r, Eps], 0),\n",
    "              x -> BS_Uni_Sys(couple_exp)(zeros(6, 1), x, [K, a2, a4, r, Eps], 0))"
   ]
  },
  {
   "cell_type": "code",
   "execution_count": null,
   "id": "41ca7021-e129-46ae-8a3a-d825e7ac08e0",
   "metadata": {},
   "outputs": [],
   "source": []
  }
 ],
 "metadata": {
  "kernelspec": {
   "display_name": "Julia 1.6.5",
   "language": "julia",
   "name": "julia-1.6.5"
  },
  "language_info": {
   "file_extension": ".jl",
   "mimetype": "application/julia",
   "name": "julia",
   "version": "1.6.5"
  }
 },
 "nbformat": 4,
 "nbformat_minor": 5
}
