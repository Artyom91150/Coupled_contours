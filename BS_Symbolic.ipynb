{
 "cells": [
  {
   "cell_type": "code",
   "execution_count": 2,
   "metadata": {},
   "outputs": [],
   "source": [
    "using SymPy"
   ]
  },
  {
   "cell_type": "code",
   "execution_count": 2,
   "metadata": {},
   "outputs": [],
   "source": [
    "using StaticArrays"
   ]
  },
  {
   "cell_type": "code",
   "execution_count": 3,
   "metadata": {},
   "outputs": [
    {
     "data": {
      "text/plain": [
       "Get_Fast_BS_R1 (generic function with 1 method)"
      ]
     },
     "execution_count": 3,
     "metadata": {},
     "output_type": "execute_result"
    }
   ],
   "source": [
    "include(\"ODEs\\\\BS_ODE.jl\"); using .BS_ODE\n",
    "include(\"ODEs\\\\BS_Transformed_ODE.jl\"); using .BS_Transformed_ODE"
   ]
  },
  {
   "cell_type": "markdown",
   "metadata": {},
   "source": [
    "---\n",
    "\n",
    "### Исходная система (6 ДУ) + Sin(x - y)\n",
    "\n",
    "---"
   ]
  },
  {
   "cell_type": "code",
   "execution_count": 31,
   "metadata": {},
   "outputs": [
    {
     "data": {
      "text/latex": [
       "$\\left[ \\begin{array}{r}K \\cos{\\left(a_{4} \\right)}\\\\4.0 r \\cos{\\left(2.0 a_{2} \\right)}\\\\- 2.0 \\cos{\\left(a_{2} \\right)}\\\\\\varepsilon\\\\\\beta\\end{array} \\right]$\n"
      ],
      "text/plain": [
       "5-element Vector{Sym}:\n",
       "         K⋅cos(a₄)\n",
       " 4.0⋅r⋅cos(2.0⋅a₂)\n",
       "      -2.0⋅cos(a₂)\n",
       "         varepsilon\n",
       "               β"
      ]
     },
     "execution_count": 31,
     "metadata": {},
     "output_type": "execute_result"
    }
   ],
   "source": [
    "X = symbols(\"phi_1 phi_2 phi_3 psi_1 psi_2 psi_3\")\n",
    "Y = symbols(\"w_1 w_2 w_3 z_1 z_2 z_3\")\n",
    "\n",
    "\n",
    "a2, a4, K, r, Eps, b = symbols(\"a_2 a_4 K r varepsilon beta\", real = True)\n",
    "\n",
    "A = K * cos(a4)\n",
    "B = 4.0 * r * cos(2.0 * a2)\n",
    "C = -2.0 * cos(a2)\n",
    "\n",
    "P = [A, B, C, Eps, b]"
   ]
  },
  {
   "cell_type": "code",
   "execution_count": 15,
   "metadata": {},
   "outputs": [
    {
     "data": {
      "text/plain": [
       "(::var\"#BS_ODE_Duo_Fast#85\"{var\"#144#145\"}) (generic function with 2 methods)"
      ]
     },
     "execution_count": 15,
     "metadata": {},
     "output_type": "execute_result"
    }
   ],
   "source": [
    "Duo_1 = Get_Fast_BS(x -> sin(x) / 2)"
   ]
  },
  {
   "cell_type": "code",
   "execution_count": 30,
   "metadata": {},
   "outputs": [
    {
     "data": {
      "text/latex": [
       "$\\left[ \\begin{array}{r}- \\frac{\\varepsilon \\sin{\\left(\\phi_{1} - \\psi_{1} \\right)}}{2} + \\left(K \\left(- \\cos{\\left(\\phi_{2} \\right)} + \\cos{\\left(\\phi_{3} \\right)}\\right) \\cos{\\left(a_{4} \\right)} + 4.0 r \\cos{\\left(2.0 a_{2} \\right)} \\cos{\\left(\\phi_{1} \\right)} - 2.0 \\cos{\\left(a_{2} \\right)}\\right) \\sin{\\left(\\phi_{1} \\right)}\\\\- \\frac{\\varepsilon \\sin{\\left(\\phi_{2} - \\psi_{2} \\right)}}{2} + \\left(K \\left(\\cos{\\left(\\phi_{1} \\right)} - \\cos{\\left(\\phi_{3} \\right)}\\right) \\cos{\\left(a_{4} \\right)} + 4.0 r \\cos{\\left(2.0 a_{2} \\right)} \\cos{\\left(\\phi_{2} \\right)} - 2.0 \\cos{\\left(a_{2} \\right)}\\right) \\sin{\\left(\\phi_{2} \\right)}\\\\- \\frac{\\varepsilon \\sin{\\left(\\phi_{3} - \\psi_{3} \\right)}}{2} + \\left(K \\left(- \\cos{\\left(\\phi_{1} \\right)} + \\cos{\\left(\\phi_{2} \\right)}\\right) \\cos{\\left(a_{4} \\right)} + 4.0 r \\cos{\\left(2.0 a_{2} \\right)} \\cos{\\left(\\phi_{3} \\right)} - 2.0 \\cos{\\left(a_{2} \\right)}\\right) \\sin{\\left(\\phi_{3} \\right)}\\\\\\frac{\\varepsilon \\sin{\\left(\\phi_{1} - \\psi_{1} \\right)}}{2} + \\left(- K \\left(- \\cos{\\left(\\psi_{2} \\right)} + \\cos{\\left(\\psi_{3} \\right)}\\right) \\cos{\\left(a_{4} \\right)} + 4.0 r \\cos{\\left(2.0 a_{2} \\right)} \\cos{\\left(\\psi_{1} \\right)} - 2.0 \\cos{\\left(a_{2} \\right)}\\right) \\sin{\\left(\\psi_{1} \\right)}\\\\\\frac{\\varepsilon \\sin{\\left(\\phi_{2} - \\psi_{2} \\right)}}{2} + \\left(- K \\left(\\cos{\\left(\\psi_{1} \\right)} - \\cos{\\left(\\psi_{3} \\right)}\\right) \\cos{\\left(a_{4} \\right)} + 4.0 r \\cos{\\left(2.0 a_{2} \\right)} \\cos{\\left(\\psi_{2} \\right)} - 2.0 \\cos{\\left(a_{2} \\right)}\\right) \\sin{\\left(\\psi_{2} \\right)}\\\\\\frac{\\varepsilon \\sin{\\left(\\phi_{3} - \\psi_{3} \\right)}}{2} + \\left(- K \\left(- \\cos{\\left(\\psi_{1} \\right)} + \\cos{\\left(\\psi_{2} \\right)}\\right) \\cos{\\left(a_{4} \\right)} + 4.0 r \\cos{\\left(2.0 a_{2} \\right)} \\cos{\\left(\\psi_{3} \\right)} - 2.0 \\cos{\\left(a_{2} \\right)}\\right) \\sin{\\left(\\psi_{3} \\right)}\\end{array} \\right]$\n"
      ],
      "text/plain": [
       "6-element Vector{Sym}:\n",
       " -varepsilon*sin(phi_1 - psi_1)/2 + (K*(-cos(phi_2) + cos(phi_3))*cos(a_4) + 4.0*r*cos(2.0*a_2)*cos(phi_1) - 2.0*cos(a_2))*sin(phi_1)\n",
       "  -varepsilon*sin(phi_2 - psi_2)/2 + (K*(cos(phi_1) - cos(phi_3))*cos(a_4) + 4.0*r*cos(2.0*a_2)*cos(phi_2) - 2.0*cos(a_2))*sin(phi_2)\n",
       " -varepsilon*sin(phi_3 - psi_3)/2 + (K*(-cos(phi_1) + cos(phi_2))*cos(a_4) + 4.0*r*cos(2.0*a_2)*cos(phi_3) - 2.0*cos(a_2))*sin(phi_3)\n",
       " varepsilon*sin(phi_1 - psi_1)/2 + (-K*(-cos(psi_2) + cos(psi_3))*cos(a_4) + 4.0*r*cos(2.0*a_2)*cos(psi_1) - 2.0*cos(a_2))*sin(psi_1)\n",
       "  varepsilon*sin(phi_2 - psi_2)/2 + (-K*(cos(psi_1) - cos(psi_3))*cos(a_4) + 4.0*r*cos(2.0*a_2)*cos(psi_2) - 2.0*cos(a_2))*sin(psi_2)\n",
       " varepsilon*sin(phi_3 - psi_3)/2 + (-K*(-cos(psi_1) + cos(psi_2))*cos(a_4) + 4.0*r*cos(2.0*a_2)*cos(psi_3) - 2.0*cos(a_2))*sin(psi_3)"
      ]
     },
     "execution_count": 30,
     "metadata": {},
     "output_type": "execute_result"
    }
   ],
   "source": [
    "res = Duo_1(X, P); [formula for formula in res]"
   ]
  },
  {
   "cell_type": "markdown",
   "metadata": {},
   "source": [
    "---\n",
    "\n",
    "### Перобразованная нечестная система (6 ДУ) + sech(y / 2.0) * sinh(x / 2.0) - tanh(y / 2.0)\n",
    "\n",
    "---"
   ]
  },
  {
   "cell_type": "code",
   "execution_count": 32,
   "metadata": {},
   "outputs": [
    {
     "data": {
      "text/plain": [
       "(::var\"#BS_ODE_Duo_Fast#89\"{var\"#Couple#88\", var\"#Population_Rhs#87\"{var\"#Unit_Rhs#86\"}}) (generic function with 2 methods)"
      ]
     },
     "execution_count": 32,
     "metadata": {},
     "output_type": "execute_result"
    }
   ],
   "source": [
    "Duo_2 = Get_Fast_BS_F()"
   ]
  },
  {
   "cell_type": "code",
   "execution_count": 33,
   "metadata": {},
   "outputs": [
    {
     "data": {
      "text/latex": [
       "$\\left[ \\begin{array}{r}2.0 K \\left(\\tanh{\\left(0.5 \\phi_{2} \\right)} - \\tanh{\\left(0.5 \\phi_{3} \\right)}\\right) \\cos{\\left(a_{4} \\right)} - 8.0 r \\cos{\\left(2.0 a_{2} \\right)} \\tanh{\\left(0.5 \\phi_{1} \\right)} - \\varepsilon \\left(\\sinh{\\left(0.5 \\phi_{1} \\right)} \\operatorname{sech}{\\left(0.5 \\psi_{1} \\right)} - \\tanh{\\left(0.5 \\psi_{1} \\right)}\\right) - 4.0 \\cos{\\left(a_{2} \\right)}\\\\2.0 K \\left(- \\tanh{\\left(0.5 \\phi_{1} \\right)} + \\tanh{\\left(0.5 \\phi_{3} \\right)}\\right) \\cos{\\left(a_{4} \\right)} - 8.0 r \\cos{\\left(2.0 a_{2} \\right)} \\tanh{\\left(0.5 \\phi_{2} \\right)} - \\varepsilon \\left(\\sinh{\\left(0.5 \\phi_{2} \\right)} \\operatorname{sech}{\\left(0.5 \\psi_{2} \\right)} - \\tanh{\\left(0.5 \\psi_{2} \\right)}\\right) - 4.0 \\cos{\\left(a_{2} \\right)}\\\\2.0 K \\left(\\tanh{\\left(0.5 \\phi_{1} \\right)} - \\tanh{\\left(0.5 \\phi_{2} \\right)}\\right) \\cos{\\left(a_{4} \\right)} - 8.0 r \\cos{\\left(2.0 a_{2} \\right)} \\tanh{\\left(0.5 \\phi_{3} \\right)} - \\varepsilon \\left(\\sinh{\\left(0.5 \\phi_{3} \\right)} \\operatorname{sech}{\\left(0.5 \\psi_{3} \\right)} - \\tanh{\\left(0.5 \\psi_{3} \\right)}\\right) - 4.0 \\cos{\\left(a_{2} \\right)}\\\\- 2.0 K \\left(\\tanh{\\left(0.5 \\psi_{2} \\right)} - \\tanh{\\left(0.5 \\psi_{3} \\right)}\\right) \\cos{\\left(a_{4} \\right)} - 8.0 r \\cos{\\left(2.0 a_{2} \\right)} \\tanh{\\left(0.5 \\psi_{1} \\right)} - \\varepsilon \\left(\\sinh{\\left(0.5 \\psi_{1} \\right)} \\operatorname{sech}{\\left(0.5 \\phi_{1} \\right)} - \\tanh{\\left(0.5 \\phi_{1} \\right)}\\right) - 4.0 \\cos{\\left(a_{2} \\right)}\\\\- 2.0 K \\left(- \\tanh{\\left(0.5 \\psi_{1} \\right)} + \\tanh{\\left(0.5 \\psi_{3} \\right)}\\right) \\cos{\\left(a_{4} \\right)} - 8.0 r \\cos{\\left(2.0 a_{2} \\right)} \\tanh{\\left(0.5 \\psi_{2} \\right)} - \\varepsilon \\left(\\sinh{\\left(0.5 \\psi_{2} \\right)} \\operatorname{sech}{\\left(0.5 \\phi_{2} \\right)} - \\tanh{\\left(0.5 \\phi_{2} \\right)}\\right) - 4.0 \\cos{\\left(a_{2} \\right)}\\\\- 2.0 K \\left(\\tanh{\\left(0.5 \\psi_{1} \\right)} - \\tanh{\\left(0.5 \\psi_{2} \\right)}\\right) \\cos{\\left(a_{4} \\right)} - 8.0 r \\cos{\\left(2.0 a_{2} \\right)} \\tanh{\\left(0.5 \\psi_{3} \\right)} - \\varepsilon \\left(\\sinh{\\left(0.5 \\psi_{3} \\right)} \\operatorname{sech}{\\left(0.5 \\phi_{3} \\right)} - \\tanh{\\left(0.5 \\phi_{3} \\right)}\\right) - 4.0 \\cos{\\left(a_{2} \\right)}\\end{array} \\right]$\n"
      ],
      "text/plain": [
       "6-element Vector{Sym}:\n",
       "   2.0*K*(tanh(0.5*phi_2) - tanh(0.5*phi_3))*cos(a_4) - 8.0*r*cos(2.0*a_2)*tanh(0.5*phi_1) - varepsilon*(sinh(0.5*phi_1)*sech(0.5*psi_1) - tanh(0.5*psi_1)) - 4.0*cos(a_2)\n",
       "  2.0*K*(-tanh(0.5*phi_1) + tanh(0.5*phi_3))*cos(a_4) - 8.0*r*cos(2.0*a_2)*tanh(0.5*phi_2) - varepsilon*(sinh(0.5*phi_2)*sech(0.5*psi_2) - tanh(0.5*psi_2)) - 4.0*cos(a_2)\n",
       "   2.0*K*(tanh(0.5*phi_1) - tanh(0.5*phi_2))*cos(a_4) - 8.0*r*cos(2.0*a_2)*tanh(0.5*phi_3) - varepsilon*(sinh(0.5*phi_3)*sech(0.5*psi_3) - tanh(0.5*psi_3)) - 4.0*cos(a_2)\n",
       "  -2.0*K*(tanh(0.5*psi_2) - tanh(0.5*psi_3))*cos(a_4) - 8.0*r*cos(2.0*a_2)*tanh(0.5*psi_1) - varepsilon*(sinh(0.5*psi_1)*sech(0.5*phi_1) - tanh(0.5*phi_1)) - 4.0*cos(a_2)\n",
       " -2.0*K*(-tanh(0.5*psi_1) + tanh(0.5*psi_3))*cos(a_4) - 8.0*r*cos(2.0*a_2)*tanh(0.5*psi_2) - varepsilon*(sinh(0.5*psi_2)*sech(0.5*phi_2) - tanh(0.5*phi_2)) - 4.0*cos(a_2)\n",
       "  -2.0*K*(tanh(0.5*psi_1) - tanh(0.5*psi_2))*cos(a_4) - 8.0*r*cos(2.0*a_2)*tanh(0.5*psi_3) - varepsilon*(sinh(0.5*psi_3)*sech(0.5*phi_3) - tanh(0.5*phi_3)) - 4.0*cos(a_2)"
      ]
     },
     "execution_count": 33,
     "metadata": {},
     "output_type": "execute_result"
    }
   ],
   "source": [
    "res = Duo_2(X, P); [formula for formula in res]"
   ]
  },
  {
   "cell_type": "markdown",
   "metadata": {},
   "source": [
    "---\n",
    "\n",
    "### Перобразованная честная система (6 ДУ) + sin(β) / cosh(x / 2.0) + cos(β) * tanh(x / 2.0)\n",
    "\n",
    "---"
   ]
  },
  {
   "cell_type": "code",
   "execution_count": 37,
   "metadata": {},
   "outputs": [
    {
     "data": {
      "text/plain": [
       "(::var\"#BS_ODE_Duo_Fast#186\"{var\"#Couple#185\", var\"#Population_Rhs#184\"{var\"#Unit_Rhs#183\"}}) (generic function with 2 methods)"
      ]
     },
     "execution_count": 37,
     "metadata": {},
     "output_type": "execute_result"
    }
   ],
   "source": [
    "Duo_3 = Get_Fast_BS_R()"
   ]
  },
  {
   "cell_type": "code",
   "execution_count": 38,
   "metadata": {},
   "outputs": [
    {
     "data": {
      "text/latex": [
       "$\\left[ \\begin{array}{r}2.0 K \\left(\\tanh{\\left(0.5 \\phi_{2} \\right)} - \\tanh{\\left(0.5 \\phi_{3} \\right)}\\right) \\cos{\\left(a_{4} \\right)} - 8.0 r \\cos{\\left(2.0 a_{2} \\right)} \\tanh{\\left(0.5 \\phi_{1} \\right)} - \\varepsilon \\left(\\frac{\\sin{\\left(\\beta \\right)}}{\\cosh{\\left(0.5 \\psi_{1} \\right)}} + \\cos{\\left(\\beta \\right)} \\tanh{\\left(0.5 \\psi_{1} \\right)}\\right) - 4.0 \\cos{\\left(a_{2} \\right)}\\\\2.0 K \\left(- \\tanh{\\left(0.5 \\phi_{1} \\right)} + \\tanh{\\left(0.5 \\phi_{3} \\right)}\\right) \\cos{\\left(a_{4} \\right)} - 8.0 r \\cos{\\left(2.0 a_{2} \\right)} \\tanh{\\left(0.5 \\phi_{2} \\right)} - \\varepsilon \\left(\\frac{\\sin{\\left(\\beta \\right)}}{\\cosh{\\left(0.5 \\psi_{2} \\right)}} + \\cos{\\left(\\beta \\right)} \\tanh{\\left(0.5 \\psi_{2} \\right)}\\right) - 4.0 \\cos{\\left(a_{2} \\right)}\\\\2.0 K \\left(\\tanh{\\left(0.5 \\phi_{1} \\right)} - \\tanh{\\left(0.5 \\phi_{2} \\right)}\\right) \\cos{\\left(a_{4} \\right)} - 8.0 r \\cos{\\left(2.0 a_{2} \\right)} \\tanh{\\left(0.5 \\phi_{3} \\right)} - \\varepsilon \\left(\\frac{\\sin{\\left(\\beta \\right)}}{\\cosh{\\left(0.5 \\psi_{3} \\right)}} + \\cos{\\left(\\beta \\right)} \\tanh{\\left(0.5 \\psi_{3} \\right)}\\right) - 4.0 \\cos{\\left(a_{2} \\right)}\\\\- 2.0 K \\left(\\tanh{\\left(0.5 \\psi_{2} \\right)} - \\tanh{\\left(0.5 \\psi_{3} \\right)}\\right) \\cos{\\left(a_{4} \\right)} - 8.0 r \\cos{\\left(2.0 a_{2} \\right)} \\tanh{\\left(0.5 \\psi_{1} \\right)} - \\varepsilon \\left(\\frac{\\sin{\\left(\\beta \\right)}}{\\cosh{\\left(0.5 \\phi_{1} \\right)}} + \\cos{\\left(\\beta \\right)} \\tanh{\\left(0.5 \\phi_{1} \\right)}\\right) - 4.0 \\cos{\\left(a_{2} \\right)}\\\\- 2.0 K \\left(- \\tanh{\\left(0.5 \\psi_{1} \\right)} + \\tanh{\\left(0.5 \\psi_{3} \\right)}\\right) \\cos{\\left(a_{4} \\right)} - 8.0 r \\cos{\\left(2.0 a_{2} \\right)} \\tanh{\\left(0.5 \\psi_{2} \\right)} - \\varepsilon \\left(\\frac{\\sin{\\left(\\beta \\right)}}{\\cosh{\\left(0.5 \\phi_{2} \\right)}} + \\cos{\\left(\\beta \\right)} \\tanh{\\left(0.5 \\phi_{2} \\right)}\\right) - 4.0 \\cos{\\left(a_{2} \\right)}\\\\- 2.0 K \\left(\\tanh{\\left(0.5 \\psi_{1} \\right)} - \\tanh{\\left(0.5 \\psi_{2} \\right)}\\right) \\cos{\\left(a_{4} \\right)} - 8.0 r \\cos{\\left(2.0 a_{2} \\right)} \\tanh{\\left(0.5 \\psi_{3} \\right)} - \\varepsilon \\left(\\frac{\\sin{\\left(\\beta \\right)}}{\\cosh{\\left(0.5 \\phi_{3} \\right)}} + \\cos{\\left(\\beta \\right)} \\tanh{\\left(0.5 \\phi_{3} \\right)}\\right) - 4.0 \\cos{\\left(a_{2} \\right)}\\end{array} \\right]$\n"
      ],
      "text/plain": [
       "6-element Vector{Sym}:\n",
       "   2.0*K*(tanh(0.5*phi_2) - tanh(0.5*phi_3))*cos(a_4) - 8.0*r*cos(2.0*a_2)*tanh(0.5*phi_1) - varepsilon*(sin(beta)/cosh(0.5*psi_1) + cos(beta)*tanh(0.5*psi_1)) - 4.0*cos(a_2)\n",
       "  2.0*K*(-tanh(0.5*phi_1) + tanh(0.5*phi_3))*cos(a_4) - 8.0*r*cos(2.0*a_2)*tanh(0.5*phi_2) - varepsilon*(sin(beta)/cosh(0.5*psi_2) + cos(beta)*tanh(0.5*psi_2)) - 4.0*cos(a_2)\n",
       "   2.0*K*(tanh(0.5*phi_1) - tanh(0.5*phi_2))*cos(a_4) - 8.0*r*cos(2.0*a_2)*tanh(0.5*phi_3) - varepsilon*(sin(beta)/cosh(0.5*psi_3) + cos(beta)*tanh(0.5*psi_3)) - 4.0*cos(a_2)\n",
       "  -2.0*K*(tanh(0.5*psi_2) - tanh(0.5*psi_3))*cos(a_4) - 8.0*r*cos(2.0*a_2)*tanh(0.5*psi_1) - varepsilon*(sin(beta)/cosh(0.5*phi_1) + cos(beta)*tanh(0.5*phi_1)) - 4.0*cos(a_2)\n",
       " -2.0*K*(-tanh(0.5*psi_1) + tanh(0.5*psi_3))*cos(a_4) - 8.0*r*cos(2.0*a_2)*tanh(0.5*psi_2) - varepsilon*(sin(beta)/cosh(0.5*phi_2) + cos(beta)*tanh(0.5*phi_2)) - 4.0*cos(a_2)\n",
       "  -2.0*K*(tanh(0.5*psi_1) - tanh(0.5*psi_2))*cos(a_4) - 8.0*r*cos(2.0*a_2)*tanh(0.5*psi_3) - varepsilon*(sin(beta)/cosh(0.5*phi_3) + cos(beta)*tanh(0.5*phi_3)) - 4.0*cos(a_2)"
      ]
     },
     "execution_count": 38,
     "metadata": {},
     "output_type": "execute_result"
    }
   ],
   "source": [
    "res = Duo_3(X, P); [formula for formula in res]"
   ]
  }
 ],
 "metadata": {
  "kernelspec": {
   "display_name": "Julia 1.8.5",
   "language": "julia",
   "name": "julia-1.8"
  },
  "language_info": {
   "file_extension": ".jl",
   "mimetype": "application/julia",
   "name": "julia",
   "version": "1.8.5"
  },
  "orig_nbformat": 4
 },
 "nbformat": 4,
 "nbformat_minor": 2
}
