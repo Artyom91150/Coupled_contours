{
 "cells": [
  {
   "cell_type": "markdown",
   "id": "252a053b-0021-4bfb-aeb5-620d1b30bff5",
   "metadata": {},
   "source": [
    "# Установка библиотек"
   ]
  },
  {
   "cell_type": "code",
   "execution_count": 2,
   "id": "ba558ee5-e4fd-42e1-8e3d-146351065f07",
   "metadata": {
    "scrolled": true,
    "tags": []
   },
   "outputs": [
    {
     "name": "stderr",
     "output_type": "stream",
     "text": [
      "\u001b[32m\u001b[1m   Resolving\u001b[22m\u001b[39m package versions...\n",
      "\u001b[32m\u001b[1m  No Changes\u001b[22m\u001b[39m to `C:\\Users\\artyo\\.julia\\environments\\v1.6\\Project.toml`\n",
      "\u001b[32m\u001b[1m  No Changes\u001b[22m\u001b[39m to `C:\\Users\\artyo\\.julia\\environments\\v1.6\\Manifest.toml`\n",
      "\u001b[32m\u001b[1m   Resolving\u001b[22m\u001b[39m package versions...\n",
      "\u001b[32m\u001b[1m  No Changes\u001b[22m\u001b[39m to `C:\\Users\\artyo\\.julia\\environments\\v1.6\\Project.toml`\n",
      "\u001b[32m\u001b[1m  No Changes\u001b[22m\u001b[39m to `C:\\Users\\artyo\\.julia\\environments\\v1.6\\Manifest.toml`\n",
      "\u001b[32m\u001b[1m   Resolving\u001b[22m\u001b[39m package versions...\n",
      "\u001b[32m\u001b[1m  No Changes\u001b[22m\u001b[39m to `C:\\Users\\artyo\\.julia\\environments\\v1.6\\Project.toml`\n",
      "\u001b[32m\u001b[1m  No Changes\u001b[22m\u001b[39m to `C:\\Users\\artyo\\.julia\\environments\\v1.6\\Manifest.toml`\n",
      "\u001b[32m\u001b[1m   Resolving\u001b[22m\u001b[39m package versions...\n",
      "\u001b[32m\u001b[1m  No Changes\u001b[22m\u001b[39m to `C:\\Users\\artyo\\.julia\\environments\\v1.6\\Project.toml`\n",
      "\u001b[32m\u001b[1m  No Changes\u001b[22m\u001b[39m to `C:\\Users\\artyo\\.julia\\environments\\v1.6\\Manifest.toml`\n"
     ]
    }
   ],
   "source": [
    "import Pkg\n",
    "Pkg.add(\"DifferentialEquations\")\n",
    "Pkg.add(\"DynamicalSystems\")\n",
    "#Pkg.add(\"DiffEqDevTools\")\n",
    "#Pkg.add(\"ProbNumDiffEq\")\n",
    "#Pkg.add(\"OrdinaryDiffEq\")\n",
    "Pkg.add(\"DiffEqCallbacks\")\n",
    "#Pkg.add(\"DataFrames\")\n",
    "Pkg.add(\"ForwardDiff\")"
   ]
  },
  {
   "cell_type": "code",
   "execution_count": 3,
   "id": "450689cb-f2c3-4e79-bf73-4da3096c1fff",
   "metadata": {
    "scrolled": true,
    "tags": []
   },
   "outputs": [
    {
     "name": "stderr",
     "output_type": "stream",
     "text": [
      "\u001b[32m\u001b[1m   Resolving\u001b[22m\u001b[39m package versions...\n",
      "\u001b[32m\u001b[1m  No Changes\u001b[22m\u001b[39m to `C:\\Users\\artyo\\.julia\\environments\\v1.6\\Project.toml`\n",
      "\u001b[32m\u001b[1m  No Changes\u001b[22m\u001b[39m to `C:\\Users\\artyo\\.julia\\environments\\v1.6\\Manifest.toml`\n",
      "\u001b[32m\u001b[1m   Resolving\u001b[22m\u001b[39m package versions...\n",
      "\u001b[32m\u001b[1m  No Changes\u001b[22m\u001b[39m to `C:\\Users\\artyo\\.julia\\environments\\v1.6\\Project.toml`\n",
      "\u001b[32m\u001b[1m  No Changes\u001b[22m\u001b[39m to `C:\\Users\\artyo\\.julia\\environments\\v1.6\\Manifest.toml`\n",
      "\u001b[32m\u001b[1m   Resolving\u001b[22m\u001b[39m package versions...\n",
      "\u001b[32m\u001b[1m   Installed\u001b[22m\u001b[39m CommonEq ─ v0.2.0\n",
      "\u001b[32m\u001b[1m   Installed\u001b[22m\u001b[39m SymPy ──── v1.1.4\n",
      "\u001b[32m\u001b[1m    Updating\u001b[22m\u001b[39m `C:\\Users\\artyo\\.julia\\environments\\v1.6\\Project.toml`\n",
      " \u001b[90m [24249f21] \u001b[39m\u001b[92m+ SymPy v1.1.4\u001b[39m\n",
      "\u001b[32m\u001b[1m    Updating\u001b[22m\u001b[39m `C:\\Users\\artyo\\.julia\\environments\\v1.6\\Manifest.toml`\n",
      " \u001b[90m [3709ef60] \u001b[39m\u001b[92m+ CommonEq v0.2.0\u001b[39m\n",
      " \u001b[90m [24249f21] \u001b[39m\u001b[92m+ SymPy v1.1.4\u001b[39m\n",
      "\u001b[32m\u001b[1mPrecompiling\u001b[22m\u001b[39m project...\n",
      "\u001b[32m  ✓ \u001b[39m\u001b[90mCommonEq\u001b[39m\n",
      "\u001b[32m  ✓ \u001b[39mSymPy\n",
      "  2 dependencies successfully precompiled in 6 seconds (203 already precompiled, 7 skipped during auto due to previous errors)\n"
     ]
    }
   ],
   "source": [
    "import Pkg\n",
    "Pkg.add(\"PyCall\")\n",
    "Pkg.add(\"PyPlot\")\n",
    "Pkg.add(\"SymPy\")"
   ]
  },
  {
   "cell_type": "code",
   "execution_count": 4,
   "id": "44b4ac59-04fb-4f04-8009-a4df2222c268",
   "metadata": {
    "scrolled": true,
    "tags": []
   },
   "outputs": [
    {
     "name": "stderr",
     "output_type": "stream",
     "text": [
      "\u001b[32m\u001b[1m   Resolving\u001b[22m\u001b[39m package versions...\n",
      "\u001b[32m\u001b[1m  No Changes\u001b[22m\u001b[39m to `C:\\Users\\artyo\\.julia\\environments\\v1.6\\Project.toml`\n",
      "\u001b[32m\u001b[1m  No Changes\u001b[22m\u001b[39m to `C:\\Users\\artyo\\.julia\\environments\\v1.6\\Manifest.toml`\n",
      "\u001b[32m\u001b[1m   Resolving\u001b[22m\u001b[39m package versions...\n",
      "\u001b[32m\u001b[1m  No Changes\u001b[22m\u001b[39m to `C:\\Users\\artyo\\.julia\\environments\\v1.6\\Project.toml`\n",
      "\u001b[32m\u001b[1m  No Changes\u001b[22m\u001b[39m to `C:\\Users\\artyo\\.julia\\environments\\v1.6\\Manifest.toml`\n",
      "\u001b[32m\u001b[1m   Resolving\u001b[22m\u001b[39m package versions...\n",
      "\u001b[32m\u001b[1m  No Changes\u001b[22m\u001b[39m to `C:\\Users\\artyo\\.julia\\environments\\v1.6\\Project.toml`\n",
      "\u001b[32m\u001b[1m  No Changes\u001b[22m\u001b[39m to `C:\\Users\\artyo\\.julia\\environments\\v1.6\\Manifest.toml`\n"
     ]
    }
   ],
   "source": [
    "import Pkg\n",
    "Pkg.add(\"Latexify\")\n",
    "Pkg.add(\"LaTeXStrings\")\n",
    "Pkg.add(\"SymEngine\")"
   ]
  },
  {
   "cell_type": "code",
   "execution_count": 5,
   "id": "d562a373-35fb-4702-9c68-4952280b6b28",
   "metadata": {},
   "outputs": [
    {
     "name": "stderr",
     "output_type": "stream",
     "text": [
      "\u001b[32m\u001b[1m   Resolving\u001b[22m\u001b[39m package versions...\n",
      "\u001b[32m\u001b[1m  No Changes\u001b[22m\u001b[39m to `C:\\Users\\artyo\\.julia\\environments\\v1.6\\Project.toml`\n",
      "\u001b[32m\u001b[1m  No Changes\u001b[22m\u001b[39m to `C:\\Users\\artyo\\.julia\\environments\\v1.6\\Manifest.toml`\n",
      "\u001b[32m\u001b[1m   Resolving\u001b[22m\u001b[39m package versions...\n",
      "\u001b[32m\u001b[1m  No Changes\u001b[22m\u001b[39m to `C:\\Users\\artyo\\.julia\\environments\\v1.6\\Project.toml`\n",
      "\u001b[32m\u001b[1m  No Changes\u001b[22m\u001b[39m to `C:\\Users\\artyo\\.julia\\environments\\v1.6\\Manifest.toml`\n"
     ]
    }
   ],
   "source": [
    "import Pkg\n",
    "Pkg.add(\"BenchmarkTools\")\n",
    "Pkg.add(\"JLD\")"
   ]
  },
  {
   "cell_type": "code",
   "execution_count": null,
   "id": "b0adbef4-7413-4336-a82f-f0bc1bfb1b6b",
   "metadata": {},
   "outputs": [],
   "source": []
  }
 ],
 "metadata": {
  "kernelspec": {
   "display_name": "Julia 1.6.5",
   "language": "julia",
   "name": "julia-1.6"
  },
  "language_info": {
   "file_extension": ".jl",
   "mimetype": "application/julia",
   "name": "julia",
   "version": "1.6.5"
  }
 },
 "nbformat": 4,
 "nbformat_minor": 5
}
